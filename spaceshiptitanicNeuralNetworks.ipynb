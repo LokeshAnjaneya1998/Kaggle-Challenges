{
 "cells": [
  {
   "cell_type": "code",
   "execution_count": 1,
   "id": "3bd4d550",
   "metadata": {
    "_cell_guid": "b1076dfc-b9ad-4769-8c92-a6c4dae69d19",
    "_uuid": "8f2839f25d086af736a60e9eeb907d3b93b6e0e5",
    "execution": {
     "iopub.execute_input": "2023-07-06T19:46:21.946314Z",
     "iopub.status.busy": "2023-07-06T19:46:21.945875Z",
     "iopub.status.idle": "2023-07-06T19:46:21.959958Z",
     "shell.execute_reply": "2023-07-06T19:46:21.958696Z"
    },
    "papermill": {
     "duration": 0.040059,
     "end_time": "2023-07-06T19:46:21.962461",
     "exception": false,
     "start_time": "2023-07-06T19:46:21.922402",
     "status": "completed"
    },
    "tags": []
   },
   "outputs": [
    {
     "name": "stdout",
     "output_type": "stream",
     "text": [
      "/kaggle/input/spaceship-titanic/sample_submission.csv\n",
      "/kaggle/input/spaceship-titanic/train.csv\n",
      "/kaggle/input/spaceship-titanic/test.csv\n"
     ]
    }
   ],
   "source": [
    "# This Python 3 environment comes with many helpful analytics libraries installed\n",
    "# It is defined by the kaggle/python Docker image: https://github.com/kaggle/docker-python\n",
    "# For example, here's several helpful packages to load\n",
    "\n",
    "import numpy as np # linear algebra\n",
    "import pandas as pd # data processing, CSV file I/O (e.g. pd.read_csv)\n",
    "\n",
    "# Input data files are available in the read-only \"../input/\" directory\n",
    "# For example, running this (by clicking run or pressing Shift+Enter) will list all files under the input directory\n",
    "\n",
    "import os\n",
    "for dirname, _, filenames in os.walk('/kaggle/input'):\n",
    "    for filename in filenames:\n",
    "        print(os.path.join(dirname, filename))\n",
    "\n",
    "# You can write up to 20GB to the current directory (/kaggle/working/) that gets preserved as output when you create a version using \"Save & Run All\" \n",
    "# You can also write temporary files to /kaggle/temp/, but they won't be saved outside of the current session"
   ]
  },
  {
   "cell_type": "markdown",
   "id": "59c70838",
   "metadata": {
    "papermill": {
     "duration": 0.021893,
     "end_time": "2023-07-06T19:46:22.006071",
     "exception": false,
     "start_time": "2023-07-06T19:46:21.984178",
     "status": "completed"
    },
    "tags": []
   },
   "source": [
    "The problem is pretty straight forward. I need to predict whether a person on the space ship transported to an alternate dimension or not\n",
    "\n",
    "The input variables I have are\n",
    "\n",
    "* PassengerId - A unique Id for each passenger. Each Id takes the form gggg_pp where gggg indicates a group the passenger is travelling with and pp is their number within the group. People in a group are often family members, but not always.\n",
    "* HomePlanet - The planet the passenger departed from, typically their planet of permanent residence.\n",
    "* CryoSleep - Indicates whether the passenger elected to be put into suspended animation for the duration of the voyage. Passengers in cryosleep are confined to their cabins.\n",
    "* Cabin - The cabin number where the passenger is staying. Takes the form deck/num/side, where side can be either P for Port or S for Starboard.\n",
    "* Destination - The planet the passenger will be debarking to.\n",
    "* Age - The age of the passenger.\n",
    "* VIP - Whether the passenger has paid for special VIP service during the voyage.\n",
    "* RoomService, FoodCourt, ShoppingMall, Spa, VRDeck - Amount the passenger has billed at each of the Spaceship Titanic's many luxury amenities.\n",
    "* Name - The first and last names of the passenger.\n",
    "\n",
    "This is clearly a classification type problem. The score metrics that I will use are \n",
    "* Confusion Matrix\n",
    "* Accuracy\n",
    "* Precesion\n",
    "* Recall\n",
    "* F1 Score\n",
    "\n",
    "Cost function - As mentioned in the problem statement/evaluation metrics I will try to get best accuracy. I will tune the parameters to improve accuracy based on the accuracy I got from each model with default parameters."
   ]
  },
  {
   "cell_type": "markdown",
   "id": "819aad9b",
   "metadata": {
    "papermill": {
     "duration": 0.020323,
     "end_time": "2023-07-06T19:46:22.048066",
     "exception": false,
     "start_time": "2023-07-06T19:46:22.027743",
     "status": "completed"
    },
    "tags": []
   },
   "source": [
    "# Importing Necessary libraries"
   ]
  },
  {
   "cell_type": "code",
   "execution_count": 2,
   "id": "c86906b1",
   "metadata": {
    "execution": {
     "iopub.execute_input": "2023-07-06T19:46:22.091497Z",
     "iopub.status.busy": "2023-07-06T19:46:22.091107Z",
     "iopub.status.idle": "2023-07-06T19:46:23.856568Z",
     "shell.execute_reply": "2023-07-06T19:46:23.855473Z"
    },
    "papermill": {
     "duration": 1.791166,
     "end_time": "2023-07-06T19:46:23.859922",
     "exception": false,
     "start_time": "2023-07-06T19:46:22.068756",
     "status": "completed"
    },
    "tags": []
   },
   "outputs": [],
   "source": [
    "from matplotlib import pyplot as plt\n",
    "from sklearn.model_selection import train_test_split, GridSearchCV, RandomizedSearchCV\n",
    "from sklearn import preprocessing\n",
    "from sklearn.impute import SimpleImputer\n",
    "from sklearn.preprocessing import StandardScaler\n",
    "from sklearn.metrics import confusion_matrix\n",
    "from sklearn.metrics import confusion_matrix, accuracy_score, precision_score, recall_score, f1_score, classification_report, ConfusionMatrixDisplay\n",
    "from matplotlib import pyplot as plt\n",
    "from sklearn.tree import DecisionTreeClassifier\n",
    "from sklearn.linear_model import LogisticRegression, SGDClassifier\n",
    "from sklearn.ensemble import RandomForestClassifier, GradientBoostingClassifier, AdaBoostClassifier\n",
    "from sklearn.neural_network import MLPClassifier"
   ]
  },
  {
   "cell_type": "code",
   "execution_count": 3,
   "id": "65e6fd5a",
   "metadata": {
    "execution": {
     "iopub.execute_input": "2023-07-06T19:46:23.907764Z",
     "iopub.status.busy": "2023-07-06T19:46:23.907400Z",
     "iopub.status.idle": "2023-07-06T19:46:36.481029Z",
     "shell.execute_reply": "2023-07-06T19:46:36.479671Z"
    },
    "papermill": {
     "duration": 12.59927,
     "end_time": "2023-07-06T19:46:36.483793",
     "exception": false,
     "start_time": "2023-07-06T19:46:23.884523",
     "status": "completed"
    },
    "tags": []
   },
   "outputs": [
    {
     "name": "stdout",
     "output_type": "stream",
     "text": [
      "Requirement already satisfied: xgboost in /opt/conda/lib/python3.10/site-packages (1.7.5)\r\n",
      "Requirement already satisfied: numpy in /opt/conda/lib/python3.10/site-packages (from xgboost) (1.23.5)\r\n",
      "Requirement already satisfied: scipy in /opt/conda/lib/python3.10/site-packages (from xgboost) (1.10.1)\r\n",
      "\u001b[33mWARNING: Running pip as the 'root' user can result in broken permissions and conflicting behaviour with the system package manager. It is recommended to use a virtual environment instead: https://pip.pypa.io/warnings/venv\u001b[0m\u001b[33m\r\n",
      "\u001b[0m"
     ]
    }
   ],
   "source": [
    "!pip install xgboost\n",
    "from xgboost import XGBClassifier\n",
    "np.random.seed(1)"
   ]
  },
  {
   "cell_type": "markdown",
   "id": "ae80d513",
   "metadata": {
    "papermill": {
     "duration": 0.021067,
     "end_time": "2023-07-06T19:46:36.526309",
     "exception": false,
     "start_time": "2023-07-06T19:46:36.505242",
     "status": "completed"
    },
    "tags": []
   },
   "source": [
    "# Importing Scored Data"
   ]
  },
  {
   "cell_type": "code",
   "execution_count": 4,
   "id": "9d5ebf5b",
   "metadata": {
    "execution": {
     "iopub.execute_input": "2023-07-06T19:46:36.571938Z",
     "iopub.status.busy": "2023-07-06T19:46:36.571542Z",
     "iopub.status.idle": "2023-07-06T19:46:36.661020Z",
     "shell.execute_reply": "2023-07-06T19:46:36.659861Z"
    },
    "papermill": {
     "duration": 0.115848,
     "end_time": "2023-07-06T19:46:36.663698",
     "exception": false,
     "start_time": "2023-07-06T19:46:36.547850",
     "status": "completed"
    },
    "tags": []
   },
   "outputs": [],
   "source": [
    "shipDataRaw = pd.read_csv('/kaggle/input/spaceship-titanic/train.csv')\n",
    "outDataRaw = pd.read_csv('/kaggle/input/spaceship-titanic/test.csv')"
   ]
  },
  {
   "cell_type": "code",
   "execution_count": 5,
   "id": "e4296d44",
   "metadata": {
    "execution": {
     "iopub.execute_input": "2023-07-06T19:46:36.707511Z",
     "iopub.status.busy": "2023-07-06T19:46:36.706848Z",
     "iopub.status.idle": "2023-07-06T19:46:36.745529Z",
     "shell.execute_reply": "2023-07-06T19:46:36.744400Z"
    },
    "papermill": {
     "duration": 0.063489,
     "end_time": "2023-07-06T19:46:36.748115",
     "exception": false,
     "start_time": "2023-07-06T19:46:36.684626",
     "status": "completed"
    },
    "tags": []
   },
   "outputs": [
    {
     "data": {
      "text/html": [
       "<div>\n",
       "<style scoped>\n",
       "    .dataframe tbody tr th:only-of-type {\n",
       "        vertical-align: middle;\n",
       "    }\n",
       "\n",
       "    .dataframe tbody tr th {\n",
       "        vertical-align: top;\n",
       "    }\n",
       "\n",
       "    .dataframe thead th {\n",
       "        text-align: right;\n",
       "    }\n",
       "</style>\n",
       "<table border=\"1\" class=\"dataframe\">\n",
       "  <thead>\n",
       "    <tr style=\"text-align: right;\">\n",
       "      <th></th>\n",
       "      <th>PassengerId</th>\n",
       "      <th>HomePlanet</th>\n",
       "      <th>CryoSleep</th>\n",
       "      <th>Cabin</th>\n",
       "      <th>Destination</th>\n",
       "      <th>Age</th>\n",
       "      <th>VIP</th>\n",
       "      <th>RoomService</th>\n",
       "      <th>FoodCourt</th>\n",
       "      <th>ShoppingMall</th>\n",
       "      <th>Spa</th>\n",
       "      <th>VRDeck</th>\n",
       "      <th>Name</th>\n",
       "      <th>Transported</th>\n",
       "    </tr>\n",
       "  </thead>\n",
       "  <tbody>\n",
       "    <tr>\n",
       "      <th>0</th>\n",
       "      <td>0001_01</td>\n",
       "      <td>Europa</td>\n",
       "      <td>False</td>\n",
       "      <td>B/0/P</td>\n",
       "      <td>TRAPPIST-1e</td>\n",
       "      <td>39.0</td>\n",
       "      <td>False</td>\n",
       "      <td>0.0</td>\n",
       "      <td>0.0</td>\n",
       "      <td>0.0</td>\n",
       "      <td>0.0</td>\n",
       "      <td>0.0</td>\n",
       "      <td>Maham Ofracculy</td>\n",
       "      <td>False</td>\n",
       "    </tr>\n",
       "    <tr>\n",
       "      <th>1</th>\n",
       "      <td>0002_01</td>\n",
       "      <td>Earth</td>\n",
       "      <td>False</td>\n",
       "      <td>F/0/S</td>\n",
       "      <td>TRAPPIST-1e</td>\n",
       "      <td>24.0</td>\n",
       "      <td>False</td>\n",
       "      <td>109.0</td>\n",
       "      <td>9.0</td>\n",
       "      <td>25.0</td>\n",
       "      <td>549.0</td>\n",
       "      <td>44.0</td>\n",
       "      <td>Juanna Vines</td>\n",
       "      <td>True</td>\n",
       "    </tr>\n",
       "    <tr>\n",
       "      <th>2</th>\n",
       "      <td>0003_01</td>\n",
       "      <td>Europa</td>\n",
       "      <td>False</td>\n",
       "      <td>A/0/S</td>\n",
       "      <td>TRAPPIST-1e</td>\n",
       "      <td>58.0</td>\n",
       "      <td>True</td>\n",
       "      <td>43.0</td>\n",
       "      <td>3576.0</td>\n",
       "      <td>0.0</td>\n",
       "      <td>6715.0</td>\n",
       "      <td>49.0</td>\n",
       "      <td>Altark Susent</td>\n",
       "      <td>False</td>\n",
       "    </tr>\n",
       "  </tbody>\n",
       "</table>\n",
       "</div>"
      ],
      "text/plain": [
       "  PassengerId HomePlanet CryoSleep  Cabin  Destination   Age    VIP  \\\n",
       "0     0001_01     Europa     False  B/0/P  TRAPPIST-1e  39.0  False   \n",
       "1     0002_01      Earth     False  F/0/S  TRAPPIST-1e  24.0  False   \n",
       "2     0003_01     Europa     False  A/0/S  TRAPPIST-1e  58.0   True   \n",
       "\n",
       "   RoomService  FoodCourt  ShoppingMall     Spa  VRDeck             Name  \\\n",
       "0          0.0        0.0           0.0     0.0     0.0  Maham Ofracculy   \n",
       "1        109.0        9.0          25.0   549.0    44.0     Juanna Vines   \n",
       "2         43.0     3576.0           0.0  6715.0    49.0    Altark Susent   \n",
       "\n",
       "   Transported  \n",
       "0        False  \n",
       "1         True  \n",
       "2        False  "
      ]
     },
     "execution_count": 5,
     "metadata": {},
     "output_type": "execute_result"
    }
   ],
   "source": [
    "shipDataRaw.head(3)"
   ]
  },
  {
   "cell_type": "code",
   "execution_count": 6,
   "id": "7d0b0f25",
   "metadata": {
    "execution": {
     "iopub.execute_input": "2023-07-06T19:46:36.794137Z",
     "iopub.status.busy": "2023-07-06T19:46:36.793294Z",
     "iopub.status.idle": "2023-07-06T19:46:36.813192Z",
     "shell.execute_reply": "2023-07-06T19:46:36.811765Z"
    },
    "papermill": {
     "duration": 0.045661,
     "end_time": "2023-07-06T19:46:36.815688",
     "exception": false,
     "start_time": "2023-07-06T19:46:36.770027",
     "status": "completed"
    },
    "tags": []
   },
   "outputs": [
    {
     "data": {
      "text/html": [
       "<div>\n",
       "<style scoped>\n",
       "    .dataframe tbody tr th:only-of-type {\n",
       "        vertical-align: middle;\n",
       "    }\n",
       "\n",
       "    .dataframe tbody tr th {\n",
       "        vertical-align: top;\n",
       "    }\n",
       "\n",
       "    .dataframe thead th {\n",
       "        text-align: right;\n",
       "    }\n",
       "</style>\n",
       "<table border=\"1\" class=\"dataframe\">\n",
       "  <thead>\n",
       "    <tr style=\"text-align: right;\">\n",
       "      <th></th>\n",
       "      <th>PassengerId</th>\n",
       "      <th>HomePlanet</th>\n",
       "      <th>CryoSleep</th>\n",
       "      <th>Cabin</th>\n",
       "      <th>Destination</th>\n",
       "      <th>Age</th>\n",
       "      <th>VIP</th>\n",
       "      <th>RoomService</th>\n",
       "      <th>FoodCourt</th>\n",
       "      <th>ShoppingMall</th>\n",
       "      <th>Spa</th>\n",
       "      <th>VRDeck</th>\n",
       "      <th>Name</th>\n",
       "    </tr>\n",
       "  </thead>\n",
       "  <tbody>\n",
       "    <tr>\n",
       "      <th>0</th>\n",
       "      <td>0013_01</td>\n",
       "      <td>Earth</td>\n",
       "      <td>True</td>\n",
       "      <td>G/3/S</td>\n",
       "      <td>TRAPPIST-1e</td>\n",
       "      <td>27.0</td>\n",
       "      <td>False</td>\n",
       "      <td>0.0</td>\n",
       "      <td>0.0</td>\n",
       "      <td>0.0</td>\n",
       "      <td>0.0</td>\n",
       "      <td>0.0</td>\n",
       "      <td>Nelly Carsoning</td>\n",
       "    </tr>\n",
       "    <tr>\n",
       "      <th>1</th>\n",
       "      <td>0018_01</td>\n",
       "      <td>Earth</td>\n",
       "      <td>False</td>\n",
       "      <td>F/4/S</td>\n",
       "      <td>TRAPPIST-1e</td>\n",
       "      <td>19.0</td>\n",
       "      <td>False</td>\n",
       "      <td>0.0</td>\n",
       "      <td>9.0</td>\n",
       "      <td>0.0</td>\n",
       "      <td>2823.0</td>\n",
       "      <td>0.0</td>\n",
       "      <td>Lerome Peckers</td>\n",
       "    </tr>\n",
       "    <tr>\n",
       "      <th>2</th>\n",
       "      <td>0019_01</td>\n",
       "      <td>Europa</td>\n",
       "      <td>True</td>\n",
       "      <td>C/0/S</td>\n",
       "      <td>55 Cancri e</td>\n",
       "      <td>31.0</td>\n",
       "      <td>False</td>\n",
       "      <td>0.0</td>\n",
       "      <td>0.0</td>\n",
       "      <td>0.0</td>\n",
       "      <td>0.0</td>\n",
       "      <td>0.0</td>\n",
       "      <td>Sabih Unhearfus</td>\n",
       "    </tr>\n",
       "  </tbody>\n",
       "</table>\n",
       "</div>"
      ],
      "text/plain": [
       "  PassengerId HomePlanet CryoSleep  Cabin  Destination   Age    VIP  \\\n",
       "0     0013_01      Earth      True  G/3/S  TRAPPIST-1e  27.0  False   \n",
       "1     0018_01      Earth     False  F/4/S  TRAPPIST-1e  19.0  False   \n",
       "2     0019_01     Europa      True  C/0/S  55 Cancri e  31.0  False   \n",
       "\n",
       "   RoomService  FoodCourt  ShoppingMall     Spa  VRDeck             Name  \n",
       "0          0.0        0.0           0.0     0.0     0.0  Nelly Carsoning  \n",
       "1          0.0        9.0           0.0  2823.0     0.0   Lerome Peckers  \n",
       "2          0.0        0.0           0.0     0.0     0.0  Sabih Unhearfus  "
      ]
     },
     "execution_count": 6,
     "metadata": {},
     "output_type": "execute_result"
    }
   ],
   "source": [
    "outDataRaw.head(3)"
   ]
  },
  {
   "cell_type": "markdown",
   "id": "09b39d2c",
   "metadata": {
    "papermill": {
     "duration": 0.020878,
     "end_time": "2023-07-06T19:46:36.858285",
     "exception": false,
     "start_time": "2023-07-06T19:46:36.837407",
     "status": "completed"
    },
    "tags": []
   },
   "source": [
    "# Cleaning and preprocessing the data"
   ]
  },
  {
   "cell_type": "code",
   "execution_count": 7,
   "id": "a513d919",
   "metadata": {
    "execution": {
     "iopub.execute_input": "2023-07-06T19:46:36.904013Z",
     "iopub.status.busy": "2023-07-06T19:46:36.903407Z",
     "iopub.status.idle": "2023-07-06T19:46:36.911099Z",
     "shell.execute_reply": "2023-07-06T19:46:36.910030Z"
    },
    "papermill": {
     "duration": 0.033794,
     "end_time": "2023-07-06T19:46:36.913275",
     "exception": false,
     "start_time": "2023-07-06T19:46:36.879481",
     "status": "completed"
    },
    "tags": []
   },
   "outputs": [
    {
     "data": {
      "text/plain": [
       "Index(['PassengerId', 'HomePlanet', 'CryoSleep', 'Cabin', 'Destination', 'Age',\n",
       "       'VIP', 'RoomService', 'FoodCourt', 'ShoppingMall', 'Spa', 'VRDeck',\n",
       "       'Name'],\n",
       "      dtype='object')"
      ]
     },
     "execution_count": 7,
     "metadata": {},
     "output_type": "execute_result"
    }
   ],
   "source": [
    "outDataRaw.columns = [s.strip() for s in outDataRaw.columns]\n",
    "outDataRaw.columns"
   ]
  },
  {
   "cell_type": "code",
   "execution_count": 8,
   "id": "508b325d",
   "metadata": {
    "execution": {
     "iopub.execute_input": "2023-07-06T19:46:36.959387Z",
     "iopub.status.busy": "2023-07-06T19:46:36.958742Z",
     "iopub.status.idle": "2023-07-06T19:46:36.966626Z",
     "shell.execute_reply": "2023-07-06T19:46:36.965487Z"
    },
    "papermill": {
     "duration": 0.033991,
     "end_time": "2023-07-06T19:46:36.969219",
     "exception": false,
     "start_time": "2023-07-06T19:46:36.935228",
     "status": "completed"
    },
    "tags": []
   },
   "outputs": [
    {
     "data": {
      "text/plain": [
       "Index(['PassengerId', 'HomePlanet', 'CryoSleep', 'Cabin', 'Destination', 'Age',\n",
       "       'VIP', 'RoomService', 'FoodCourt', 'ShoppingMall', 'Spa', 'VRDeck',\n",
       "       'Name', 'Transported'],\n",
       "      dtype='object')"
      ]
     },
     "execution_count": 8,
     "metadata": {},
     "output_type": "execute_result"
    }
   ],
   "source": [
    "shipDataRaw.columns = [s.strip() for s in shipDataRaw.columns] \n",
    "shipDataRaw.columns"
   ]
  },
  {
   "cell_type": "code",
   "execution_count": 9,
   "id": "0f45c434",
   "metadata": {
    "execution": {
     "iopub.execute_input": "2023-07-06T19:46:37.015771Z",
     "iopub.status.busy": "2023-07-06T19:46:37.014977Z",
     "iopub.status.idle": "2023-07-06T19:46:37.050610Z",
     "shell.execute_reply": "2023-07-06T19:46:37.049289Z"
    },
    "papermill": {
     "duration": 0.062208,
     "end_time": "2023-07-06T19:46:37.052892",
     "exception": false,
     "start_time": "2023-07-06T19:46:36.990684",
     "status": "completed"
    },
    "tags": []
   },
   "outputs": [
    {
     "name": "stdout",
     "output_type": "stream",
     "text": [
      "<class 'pandas.core.frame.DataFrame'>\n",
      "RangeIndex: 8693 entries, 0 to 8692\n",
      "Data columns (total 14 columns):\n",
      " #   Column        Non-Null Count  Dtype  \n",
      "---  ------        --------------  -----  \n",
      " 0   PassengerId   8693 non-null   object \n",
      " 1   HomePlanet    8492 non-null   object \n",
      " 2   CryoSleep     8476 non-null   object \n",
      " 3   Cabin         8494 non-null   object \n",
      " 4   Destination   8511 non-null   object \n",
      " 5   Age           8514 non-null   float64\n",
      " 6   VIP           8490 non-null   object \n",
      " 7   RoomService   8512 non-null   float64\n",
      " 8   FoodCourt     8510 non-null   float64\n",
      " 9   ShoppingMall  8485 non-null   float64\n",
      " 10  Spa           8510 non-null   float64\n",
      " 11  VRDeck        8505 non-null   float64\n",
      " 12  Name          8493 non-null   object \n",
      " 13  Transported   8693 non-null   bool   \n",
      "dtypes: bool(1), float64(6), object(7)\n",
      "memory usage: 891.5+ KB\n"
     ]
    }
   ],
   "source": [
    "shipDataRaw.info()"
   ]
  },
  {
   "cell_type": "code",
   "execution_count": 10,
   "id": "f55fca39",
   "metadata": {
    "execution": {
     "iopub.execute_input": "2023-07-06T19:46:37.099099Z",
     "iopub.status.busy": "2023-07-06T19:46:37.098470Z",
     "iopub.status.idle": "2023-07-06T19:46:37.115455Z",
     "shell.execute_reply": "2023-07-06T19:46:37.114015Z"
    },
    "papermill": {
     "duration": 0.04305,
     "end_time": "2023-07-06T19:46:37.117772",
     "exception": false,
     "start_time": "2023-07-06T19:46:37.074722",
     "status": "completed"
    },
    "tags": []
   },
   "outputs": [
    {
     "name": "stdout",
     "output_type": "stream",
     "text": [
      "<class 'pandas.core.frame.DataFrame'>\n",
      "RangeIndex: 4277 entries, 0 to 4276\n",
      "Data columns (total 13 columns):\n",
      " #   Column        Non-Null Count  Dtype  \n",
      "---  ------        --------------  -----  \n",
      " 0   PassengerId   4277 non-null   object \n",
      " 1   HomePlanet    4190 non-null   object \n",
      " 2   CryoSleep     4184 non-null   object \n",
      " 3   Cabin         4177 non-null   object \n",
      " 4   Destination   4185 non-null   object \n",
      " 5   Age           4186 non-null   float64\n",
      " 6   VIP           4184 non-null   object \n",
      " 7   RoomService   4195 non-null   float64\n",
      " 8   FoodCourt     4171 non-null   float64\n",
      " 9   ShoppingMall  4179 non-null   float64\n",
      " 10  Spa           4176 non-null   float64\n",
      " 11  VRDeck        4197 non-null   float64\n",
      " 12  Name          4183 non-null   object \n",
      "dtypes: float64(6), object(7)\n",
      "memory usage: 434.5+ KB\n"
     ]
    }
   ],
   "source": [
    "outDataRaw.info()"
   ]
  },
  {
   "cell_type": "markdown",
   "id": "e8647ce3",
   "metadata": {
    "papermill": {
     "duration": 0.022529,
     "end_time": "2023-07-06T19:46:37.162963",
     "exception": false,
     "start_time": "2023-07-06T19:46:37.140434",
     "status": "completed"
    },
    "tags": []
   },
   "source": [
    "## Dropping unnecessary columns PassengerId, Name. "
   ]
  },
  {
   "cell_type": "code",
   "execution_count": 11,
   "id": "1fd3c234",
   "metadata": {
    "execution": {
     "iopub.execute_input": "2023-07-06T19:46:37.208539Z",
     "iopub.status.busy": "2023-07-06T19:46:37.207490Z",
     "iopub.status.idle": "2023-07-06T19:46:37.217661Z",
     "shell.execute_reply": "2023-07-06T19:46:37.216531Z"
    },
    "papermill": {
     "duration": 0.035335,
     "end_time": "2023-07-06T19:46:37.220088",
     "exception": false,
     "start_time": "2023-07-06T19:46:37.184753",
     "status": "completed"
    },
    "tags": []
   },
   "outputs": [],
   "source": [
    "shipData = shipDataRaw.drop(['PassengerId', 'Name'], axis=1)\n",
    "outData = outDataRaw.drop(['PassengerId', 'Name'], axis=1)"
   ]
  },
  {
   "cell_type": "markdown",
   "id": "4e83be67",
   "metadata": {
    "papermill": {
     "duration": 0.021717,
     "end_time": "2023-07-06T19:46:37.263481",
     "exception": false,
     "start_time": "2023-07-06T19:46:37.241764",
     "status": "completed"
    },
    "tags": []
   },
   "source": [
    "# Checking for null values"
   ]
  },
  {
   "cell_type": "code",
   "execution_count": 12,
   "id": "0077de8c",
   "metadata": {
    "execution": {
     "iopub.execute_input": "2023-07-06T19:46:37.309787Z",
     "iopub.status.busy": "2023-07-06T19:46:37.308846Z",
     "iopub.status.idle": "2023-07-06T19:46:37.325217Z",
     "shell.execute_reply": "2023-07-06T19:46:37.324030Z"
    },
    "papermill": {
     "duration": 0.041943,
     "end_time": "2023-07-06T19:46:37.327431",
     "exception": false,
     "start_time": "2023-07-06T19:46:37.285488",
     "status": "completed"
    },
    "tags": []
   },
   "outputs": [
    {
     "data": {
      "text/plain": [
       "HomePlanet      201\n",
       "CryoSleep       217\n",
       "Cabin           199\n",
       "Destination     182\n",
       "Age             179\n",
       "VIP             203\n",
       "RoomService     181\n",
       "FoodCourt       183\n",
       "ShoppingMall    208\n",
       "Spa             183\n",
       "VRDeck          188\n",
       "Transported       0\n",
       "dtype: int64"
      ]
     },
     "execution_count": 12,
     "metadata": {},
     "output_type": "execute_result"
    }
   ],
   "source": [
    "shipData.isna().sum()"
   ]
  },
  {
   "cell_type": "code",
   "execution_count": 13,
   "id": "0a38cc97",
   "metadata": {
    "execution": {
     "iopub.execute_input": "2023-07-06T19:46:37.372723Z",
     "iopub.status.busy": "2023-07-06T19:46:37.371832Z",
     "iopub.status.idle": "2023-07-06T19:46:37.383877Z",
     "shell.execute_reply": "2023-07-06T19:46:37.382725Z"
    },
    "papermill": {
     "duration": 0.037129,
     "end_time": "2023-07-06T19:46:37.386037",
     "exception": false,
     "start_time": "2023-07-06T19:46:37.348908",
     "status": "completed"
    },
    "tags": []
   },
   "outputs": [
    {
     "data": {
      "text/plain": [
       "HomePlanet       87\n",
       "CryoSleep        93\n",
       "Cabin           100\n",
       "Destination      92\n",
       "Age              91\n",
       "VIP              93\n",
       "RoomService      82\n",
       "FoodCourt       106\n",
       "ShoppingMall     98\n",
       "Spa             101\n",
       "VRDeck           80\n",
       "dtype: int64"
      ]
     },
     "execution_count": 13,
     "metadata": {},
     "output_type": "execute_result"
    }
   ],
   "source": [
    "outData.isna().sum()"
   ]
  },
  {
   "cell_type": "markdown",
   "id": "030b86d2",
   "metadata": {
    "papermill": {
     "duration": 0.021209,
     "end_time": "2023-07-06T19:46:37.428859",
     "exception": false,
     "start_time": "2023-07-06T19:46:37.407650",
     "status": "completed"
    },
    "tags": []
   },
   "source": [
    "# Imputing missing values before data partiotining"
   ]
  },
  {
   "cell_type": "markdown",
   "id": "dd55572c",
   "metadata": {
    "papermill": {
     "duration": 0.021174,
     "end_time": "2023-07-06T19:46:37.471599",
     "exception": false,
     "start_time": "2023-07-06T19:46:37.450425",
     "status": "completed"
    },
    "tags": []
   },
   "source": [
    "Based on the above observations I came to following conclusions\n",
    "* I will convert object values True, false to boolean values 1,0.\n",
    "* In cabin I seperate cabin to cabin deck, cabin side and cabin num and drop cabin num.\n",
    "* I will do onehot encoding for remaining object data types which have strings as values.\n",
    "* Missing values for objects will also be encoded.\n",
    "* Missing boolean values will be replaced with 0.\n",
    "\n"
   ]
  },
  {
   "cell_type": "code",
   "execution_count": 14,
   "id": "fc0af21b",
   "metadata": {
    "execution": {
     "iopub.execute_input": "2023-07-06T19:46:37.516696Z",
     "iopub.status.busy": "2023-07-06T19:46:37.516071Z",
     "iopub.status.idle": "2023-07-06T19:46:37.527756Z",
     "shell.execute_reply": "2023-07-06T19:46:37.526866Z"
    },
    "papermill": {
     "duration": 0.036948,
     "end_time": "2023-07-06T19:46:37.530067",
     "exception": false,
     "start_time": "2023-07-06T19:46:37.493119",
     "status": "completed"
    },
    "tags": []
   },
   "outputs": [],
   "source": [
    "shipData['CryoSleep'] = shipData['CryoSleep'].fillna(0).astype(int)\n",
    "shipData['VIP'] = shipData['VIP'].fillna(0).astype(int)\n",
    "shipData['Transported'] = shipData['Transported'].fillna(0).astype(int)"
   ]
  },
  {
   "cell_type": "code",
   "execution_count": 15,
   "id": "3c77264d",
   "metadata": {
    "execution": {
     "iopub.execute_input": "2023-07-06T19:46:37.578065Z",
     "iopub.status.busy": "2023-07-06T19:46:37.577420Z",
     "iopub.status.idle": "2023-07-06T19:46:37.587145Z",
     "shell.execute_reply": "2023-07-06T19:46:37.586181Z"
    },
    "papermill": {
     "duration": 0.037526,
     "end_time": "2023-07-06T19:46:37.589364",
     "exception": false,
     "start_time": "2023-07-06T19:46:37.551838",
     "status": "completed"
    },
    "tags": []
   },
   "outputs": [],
   "source": [
    "outData['CryoSleep'] = outData['CryoSleep'].fillna(0).astype(int)\n",
    "outData['VIP'] = outData['VIP'].fillna(0).astype(int)"
   ]
  },
  {
   "cell_type": "code",
   "execution_count": 16,
   "id": "b60dcb5f",
   "metadata": {
    "execution": {
     "iopub.execute_input": "2023-07-06T19:46:37.636996Z",
     "iopub.status.busy": "2023-07-06T19:46:37.635987Z",
     "iopub.status.idle": "2023-07-06T19:46:37.647412Z",
     "shell.execute_reply": "2023-07-06T19:46:37.646351Z"
    },
    "papermill": {
     "duration": 0.037553,
     "end_time": "2023-07-06T19:46:37.650225",
     "exception": false,
     "start_time": "2023-07-06T19:46:37.612672",
     "status": "completed"
    },
    "tags": []
   },
   "outputs": [],
   "source": [
    "shipData['HomePlanet'] = shipData['HomePlanet'].fillna('unknown')\n",
    "shipData['Cabin'] = shipData['Cabin'].fillna('unknown/unknown/unknown')\n",
    "shipData['Destination'] = shipData['Destination'].fillna('unknown')\n"
   ]
  },
  {
   "cell_type": "code",
   "execution_count": 17,
   "id": "0c5a584c",
   "metadata": {
    "execution": {
     "iopub.execute_input": "2023-07-06T19:46:37.698243Z",
     "iopub.status.busy": "2023-07-06T19:46:37.697853Z",
     "iopub.status.idle": "2023-07-06T19:46:37.707783Z",
     "shell.execute_reply": "2023-07-06T19:46:37.706168Z"
    },
    "papermill": {
     "duration": 0.03676,
     "end_time": "2023-07-06T19:46:37.710491",
     "exception": false,
     "start_time": "2023-07-06T19:46:37.673731",
     "status": "completed"
    },
    "tags": []
   },
   "outputs": [],
   "source": [
    "outData['HomePlanet'] = outData['HomePlanet'].fillna('unknown')\n",
    "outData['Cabin'] = outData['Cabin'].fillna('unknown/unknown/unknown')\n",
    "outData['Destination'] = outData['Destination'].fillna('unknown')"
   ]
  },
  {
   "cell_type": "markdown",
   "id": "64499749",
   "metadata": {
    "papermill": {
     "duration": 0.021889,
     "end_time": "2023-07-06T19:46:37.754202",
     "exception": false,
     "start_time": "2023-07-06T19:46:37.732313",
     "status": "completed"
    },
    "tags": []
   },
   "source": [
    "# Encoding the objects"
   ]
  },
  {
   "cell_type": "code",
   "execution_count": 18,
   "id": "ba18b45f",
   "metadata": {
    "execution": {
     "iopub.execute_input": "2023-07-06T19:46:37.799748Z",
     "iopub.status.busy": "2023-07-06T19:46:37.799341Z",
     "iopub.status.idle": "2023-07-06T19:46:37.811758Z",
     "shell.execute_reply": "2023-07-06T19:46:37.810271Z"
    },
    "papermill": {
     "duration": 0.037955,
     "end_time": "2023-07-06T19:46:37.814071",
     "exception": false,
     "start_time": "2023-07-06T19:46:37.776116",
     "status": "completed"
    },
    "tags": []
   },
   "outputs": [
    {
     "name": "stdout",
     "output_type": "stream",
     "text": [
      "HomePlanet: ['Europa' 'Earth' 'Mars' 'unknown']\n",
      "\n",
      "Cabin: ['B/0/P' 'F/0/S' 'A/0/S' ... 'G/1499/S' 'G/1500/S' 'E/608/S']\n",
      "\n",
      "Destination: ['TRAPPIST-1e' 'PSO J318.5-22' '55 Cancri e' 'unknown']\n",
      "\n"
     ]
    }
   ],
   "source": [
    "objectsList = list(shipData.select_dtypes(include='object').columns)\n",
    "for obj in objectsList:\n",
    "    print(f\"{obj}: {shipData[obj].unique()}\\n\")"
   ]
  },
  {
   "cell_type": "code",
   "execution_count": 19,
   "id": "80ed4cab",
   "metadata": {
    "execution": {
     "iopub.execute_input": "2023-07-06T19:46:37.862445Z",
     "iopub.status.busy": "2023-07-06T19:46:37.862069Z",
     "iopub.status.idle": "2023-07-06T19:46:37.897314Z",
     "shell.execute_reply": "2023-07-06T19:46:37.896357Z"
    },
    "papermill": {
     "duration": 0.062009,
     "end_time": "2023-07-06T19:46:37.899489",
     "exception": false,
     "start_time": "2023-07-06T19:46:37.837480",
     "status": "completed"
    },
    "tags": []
   },
   "outputs": [
    {
     "data": {
      "text/html": [
       "<div>\n",
       "<style scoped>\n",
       "    .dataframe tbody tr th:only-of-type {\n",
       "        vertical-align: middle;\n",
       "    }\n",
       "\n",
       "    .dataframe tbody tr th {\n",
       "        vertical-align: top;\n",
       "    }\n",
       "\n",
       "    .dataframe thead th {\n",
       "        text-align: right;\n",
       "    }\n",
       "</style>\n",
       "<table border=\"1\" class=\"dataframe\">\n",
       "  <thead>\n",
       "    <tr style=\"text-align: right;\">\n",
       "      <th></th>\n",
       "      <th>HomePlanet</th>\n",
       "      <th>CryoSleep</th>\n",
       "      <th>Destination</th>\n",
       "      <th>Age</th>\n",
       "      <th>VIP</th>\n",
       "      <th>RoomService</th>\n",
       "      <th>FoodCourt</th>\n",
       "      <th>ShoppingMall</th>\n",
       "      <th>Spa</th>\n",
       "      <th>VRDeck</th>\n",
       "      <th>Transported</th>\n",
       "      <th>CabinDeck</th>\n",
       "      <th>CabinSide</th>\n",
       "    </tr>\n",
       "  </thead>\n",
       "  <tbody>\n",
       "    <tr>\n",
       "      <th>0</th>\n",
       "      <td>Europa</td>\n",
       "      <td>0</td>\n",
       "      <td>TRAPPIST-1e</td>\n",
       "      <td>39.0</td>\n",
       "      <td>0</td>\n",
       "      <td>0.0</td>\n",
       "      <td>0.0</td>\n",
       "      <td>0.0</td>\n",
       "      <td>0.0</td>\n",
       "      <td>0.0</td>\n",
       "      <td>0</td>\n",
       "      <td>B</td>\n",
       "      <td>P</td>\n",
       "    </tr>\n",
       "    <tr>\n",
       "      <th>1</th>\n",
       "      <td>Earth</td>\n",
       "      <td>0</td>\n",
       "      <td>TRAPPIST-1e</td>\n",
       "      <td>24.0</td>\n",
       "      <td>0</td>\n",
       "      <td>109.0</td>\n",
       "      <td>9.0</td>\n",
       "      <td>25.0</td>\n",
       "      <td>549.0</td>\n",
       "      <td>44.0</td>\n",
       "      <td>1</td>\n",
       "      <td>F</td>\n",
       "      <td>S</td>\n",
       "    </tr>\n",
       "    <tr>\n",
       "      <th>2</th>\n",
       "      <td>Europa</td>\n",
       "      <td>0</td>\n",
       "      <td>TRAPPIST-1e</td>\n",
       "      <td>58.0</td>\n",
       "      <td>1</td>\n",
       "      <td>43.0</td>\n",
       "      <td>3576.0</td>\n",
       "      <td>0.0</td>\n",
       "      <td>6715.0</td>\n",
       "      <td>49.0</td>\n",
       "      <td>0</td>\n",
       "      <td>A</td>\n",
       "      <td>S</td>\n",
       "    </tr>\n",
       "    <tr>\n",
       "      <th>3</th>\n",
       "      <td>Europa</td>\n",
       "      <td>0</td>\n",
       "      <td>TRAPPIST-1e</td>\n",
       "      <td>33.0</td>\n",
       "      <td>0</td>\n",
       "      <td>0.0</td>\n",
       "      <td>1283.0</td>\n",
       "      <td>371.0</td>\n",
       "      <td>3329.0</td>\n",
       "      <td>193.0</td>\n",
       "      <td>0</td>\n",
       "      <td>A</td>\n",
       "      <td>S</td>\n",
       "    </tr>\n",
       "    <tr>\n",
       "      <th>4</th>\n",
       "      <td>Earth</td>\n",
       "      <td>0</td>\n",
       "      <td>TRAPPIST-1e</td>\n",
       "      <td>16.0</td>\n",
       "      <td>0</td>\n",
       "      <td>303.0</td>\n",
       "      <td>70.0</td>\n",
       "      <td>151.0</td>\n",
       "      <td>565.0</td>\n",
       "      <td>2.0</td>\n",
       "      <td>1</td>\n",
       "      <td>F</td>\n",
       "      <td>S</td>\n",
       "    </tr>\n",
       "  </tbody>\n",
       "</table>\n",
       "</div>"
      ],
      "text/plain": [
       "  HomePlanet  CryoSleep  Destination   Age  VIP  RoomService  FoodCourt  \\\n",
       "0     Europa          0  TRAPPIST-1e  39.0    0          0.0        0.0   \n",
       "1      Earth          0  TRAPPIST-1e  24.0    0        109.0        9.0   \n",
       "2     Europa          0  TRAPPIST-1e  58.0    1         43.0     3576.0   \n",
       "3     Europa          0  TRAPPIST-1e  33.0    0          0.0     1283.0   \n",
       "4      Earth          0  TRAPPIST-1e  16.0    0        303.0       70.0   \n",
       "\n",
       "   ShoppingMall     Spa  VRDeck  Transported CabinDeck CabinSide  \n",
       "0           0.0     0.0     0.0            0         B         P  \n",
       "1          25.0   549.0    44.0            1         F         S  \n",
       "2           0.0  6715.0    49.0            0         A         S  \n",
       "3         371.0  3329.0   193.0            0         A         S  \n",
       "4         151.0   565.0     2.0            1         F         S  "
      ]
     },
     "execution_count": 19,
     "metadata": {},
     "output_type": "execute_result"
    }
   ],
   "source": [
    "shipData[['CabinDeck', 'CabinNum', 'CabinSide']] = shipData['Cabin'].str.split('/', expand=True)\n",
    "shipData = shipData.drop(['Cabin','CabinNum'], axis=1)\n",
    "shipData.head(5)"
   ]
  },
  {
   "cell_type": "code",
   "execution_count": 20,
   "id": "d9317078",
   "metadata": {
    "execution": {
     "iopub.execute_input": "2023-07-06T19:46:37.947988Z",
     "iopub.status.busy": "2023-07-06T19:46:37.946940Z",
     "iopub.status.idle": "2023-07-06T19:46:37.957189Z",
     "shell.execute_reply": "2023-07-06T19:46:37.956122Z"
    },
    "papermill": {
     "duration": 0.037672,
     "end_time": "2023-07-06T19:46:37.959571",
     "exception": false,
     "start_time": "2023-07-06T19:46:37.921899",
     "status": "completed"
    },
    "tags": []
   },
   "outputs": [
    {
     "name": "stdout",
     "output_type": "stream",
     "text": [
      "HomePlanet: ['Earth' 'Europa' 'Mars' 'unknown']\n",
      "\n",
      "Cabin: ['G/3/S' 'F/4/S' 'C/0/S' ... 'D/296/P' 'D/297/P' 'G/1498/S']\n",
      "\n",
      "Destination: ['TRAPPIST-1e' '55 Cancri e' 'PSO J318.5-22' 'unknown']\n",
      "\n"
     ]
    }
   ],
   "source": [
    "objectsList = list(outData.select_dtypes(include='object').columns)\n",
    "for obj in objectsList:\n",
    "    print(f\"{obj}: {outData[obj].unique()}\\n\")"
   ]
  },
  {
   "cell_type": "code",
   "execution_count": 21,
   "id": "ea7e5c65",
   "metadata": {
    "execution": {
     "iopub.execute_input": "2023-07-06T19:46:38.006012Z",
     "iopub.status.busy": "2023-07-06T19:46:38.005647Z",
     "iopub.status.idle": "2023-07-06T19:46:38.032211Z",
     "shell.execute_reply": "2023-07-06T19:46:38.031101Z"
    },
    "papermill": {
     "duration": 0.052677,
     "end_time": "2023-07-06T19:46:38.034404",
     "exception": false,
     "start_time": "2023-07-06T19:46:37.981727",
     "status": "completed"
    },
    "tags": []
   },
   "outputs": [
    {
     "data": {
      "text/html": [
       "<div>\n",
       "<style scoped>\n",
       "    .dataframe tbody tr th:only-of-type {\n",
       "        vertical-align: middle;\n",
       "    }\n",
       "\n",
       "    .dataframe tbody tr th {\n",
       "        vertical-align: top;\n",
       "    }\n",
       "\n",
       "    .dataframe thead th {\n",
       "        text-align: right;\n",
       "    }\n",
       "</style>\n",
       "<table border=\"1\" class=\"dataframe\">\n",
       "  <thead>\n",
       "    <tr style=\"text-align: right;\">\n",
       "      <th></th>\n",
       "      <th>HomePlanet</th>\n",
       "      <th>CryoSleep</th>\n",
       "      <th>Destination</th>\n",
       "      <th>Age</th>\n",
       "      <th>VIP</th>\n",
       "      <th>RoomService</th>\n",
       "      <th>FoodCourt</th>\n",
       "      <th>ShoppingMall</th>\n",
       "      <th>Spa</th>\n",
       "      <th>VRDeck</th>\n",
       "      <th>CabinDeck</th>\n",
       "      <th>CabinSide</th>\n",
       "    </tr>\n",
       "  </thead>\n",
       "  <tbody>\n",
       "    <tr>\n",
       "      <th>0</th>\n",
       "      <td>Earth</td>\n",
       "      <td>1</td>\n",
       "      <td>TRAPPIST-1e</td>\n",
       "      <td>27.0</td>\n",
       "      <td>0</td>\n",
       "      <td>0.0</td>\n",
       "      <td>0.0</td>\n",
       "      <td>0.0</td>\n",
       "      <td>0.0</td>\n",
       "      <td>0.0</td>\n",
       "      <td>G</td>\n",
       "      <td>S</td>\n",
       "    </tr>\n",
       "    <tr>\n",
       "      <th>1</th>\n",
       "      <td>Earth</td>\n",
       "      <td>0</td>\n",
       "      <td>TRAPPIST-1e</td>\n",
       "      <td>19.0</td>\n",
       "      <td>0</td>\n",
       "      <td>0.0</td>\n",
       "      <td>9.0</td>\n",
       "      <td>0.0</td>\n",
       "      <td>2823.0</td>\n",
       "      <td>0.0</td>\n",
       "      <td>F</td>\n",
       "      <td>S</td>\n",
       "    </tr>\n",
       "  </tbody>\n",
       "</table>\n",
       "</div>"
      ],
      "text/plain": [
       "  HomePlanet  CryoSleep  Destination   Age  VIP  RoomService  FoodCourt  \\\n",
       "0      Earth          1  TRAPPIST-1e  27.0    0          0.0        0.0   \n",
       "1      Earth          0  TRAPPIST-1e  19.0    0          0.0        9.0   \n",
       "\n",
       "   ShoppingMall     Spa  VRDeck CabinDeck CabinSide  \n",
       "0           0.0     0.0     0.0         G         S  \n",
       "1           0.0  2823.0     0.0         F         S  "
      ]
     },
     "execution_count": 21,
     "metadata": {},
     "output_type": "execute_result"
    }
   ],
   "source": [
    "outData[['CabinDeck', 'CabinNum', 'CabinSide']] = outData['Cabin'].str.split('/', expand=True)\n",
    "outData = outData.drop(['Cabin','CabinNum'], axis=1)\n",
    "outData.head(2)"
   ]
  },
  {
   "cell_type": "code",
   "execution_count": 22,
   "id": "da073452",
   "metadata": {
    "execution": {
     "iopub.execute_input": "2023-07-06T19:46:38.081707Z",
     "iopub.status.busy": "2023-07-06T19:46:38.081104Z",
     "iopub.status.idle": "2023-07-06T19:46:38.110816Z",
     "shell.execute_reply": "2023-07-06T19:46:38.109690Z"
    },
    "papermill": {
     "duration": 0.056594,
     "end_time": "2023-07-06T19:46:38.113351",
     "exception": false,
     "start_time": "2023-07-06T19:46:38.056757",
     "status": "completed"
    },
    "tags": []
   },
   "outputs": [],
   "source": [
    "onehot_df = pd.get_dummies(shipData['HomePlanet'], prefix='HomePlanet', drop_first=False)\n",
    "shipData = shipData.join(onehot_df).drop('HomePlanet', axis=1)\n",
    "\n",
    "onehot_df = pd.get_dummies(shipData['CabinDeck'], prefix='CabinDeck', drop_first=False)\n",
    "shipData = shipData.join(onehot_df).drop('CabinDeck', axis=1)\n",
    "\n",
    "onehot_df = pd.get_dummies(shipData['CabinSide'], prefix='CabinSide', drop_first=False)\n",
    "shipData = shipData.join(onehot_df).drop('CabinSide', axis=1)\n",
    "\n",
    "onehot_df = pd.get_dummies(shipData['Destination'], prefix='Destination', drop_first=False)\n",
    "shipData = shipData.join(onehot_df).drop('Destination', axis=1)\n"
   ]
  },
  {
   "cell_type": "code",
   "execution_count": 23,
   "id": "bd70dfe9",
   "metadata": {
    "execution": {
     "iopub.execute_input": "2023-07-06T19:46:38.160647Z",
     "iopub.status.busy": "2023-07-06T19:46:38.160250Z",
     "iopub.status.idle": "2023-07-06T19:46:38.182598Z",
     "shell.execute_reply": "2023-07-06T19:46:38.181611Z"
    },
    "papermill": {
     "duration": 0.048568,
     "end_time": "2023-07-06T19:46:38.185094",
     "exception": false,
     "start_time": "2023-07-06T19:46:38.136526",
     "status": "completed"
    },
    "tags": []
   },
   "outputs": [],
   "source": [
    "onehot_df = pd.get_dummies(outData['HomePlanet'], prefix='HomePlanet', drop_first=False)\n",
    "outData = outData.join(onehot_df).drop('HomePlanet', axis=1)\n",
    "\n",
    "onehot_df = pd.get_dummies(outData['CabinDeck'], prefix='CabinDeck', drop_first=False)\n",
    "outData = outData.join(onehot_df).drop('CabinDeck', axis=1)\n",
    "\n",
    "onehot_df = pd.get_dummies(outData['CabinSide'], prefix='CabinSide', drop_first=False)\n",
    "outData = outData.join(onehot_df).drop('CabinSide', axis=1)\n",
    "\n",
    "onehot_df = pd.get_dummies(outData['Destination'], prefix='Destination', drop_first=False)\n",
    "outData = outData.join(onehot_df).drop('Destination', axis=1)\n"
   ]
  },
  {
   "cell_type": "markdown",
   "id": "f5bf34ca",
   "metadata": {
    "papermill": {
     "duration": 0.0223,
     "end_time": "2023-07-06T19:46:38.229910",
     "exception": false,
     "start_time": "2023-07-06T19:46:38.207610",
     "status": "completed"
    },
    "tags": []
   },
   "source": [
    "## Spliting the data for training and testing (data partitoning 80/20)\n",
    "\n",
    "The data set is a good one with 8,693 observations. So I decided to partiton the data for 80% for training and 20% for testing which I believe will give good results."
   ]
  },
  {
   "cell_type": "code",
   "execution_count": 24,
   "id": "d00edf6b",
   "metadata": {
    "execution": {
     "iopub.execute_input": "2023-07-06T19:46:38.276963Z",
     "iopub.status.busy": "2023-07-06T19:46:38.276309Z",
     "iopub.status.idle": "2023-07-06T19:46:38.285133Z",
     "shell.execute_reply": "2023-07-06T19:46:38.284340Z"
    },
    "papermill": {
     "duration": 0.034957,
     "end_time": "2023-07-06T19:46:38.287434",
     "exception": false,
     "start_time": "2023-07-06T19:46:38.252477",
     "status": "completed"
    },
    "tags": []
   },
   "outputs": [],
   "source": [
    "train_df, test_df = train_test_split(shipData, test_size=0.2)"
   ]
  },
  {
   "cell_type": "markdown",
   "id": "5b3e3d26",
   "metadata": {
    "papermill": {
     "duration": 0.021972,
     "end_time": "2023-07-06T19:46:38.331871",
     "exception": false,
     "start_time": "2023-07-06T19:46:38.309899",
     "status": "completed"
    },
    "tags": []
   },
   "source": [
    "## Seperating the predictors and traget variables"
   ]
  },
  {
   "cell_type": "code",
   "execution_count": 25,
   "id": "3574ee40",
   "metadata": {
    "execution": {
     "iopub.execute_input": "2023-07-06T19:46:38.378948Z",
     "iopub.status.busy": "2023-07-06T19:46:38.378214Z",
     "iopub.status.idle": "2023-07-06T19:46:38.382713Z",
     "shell.execute_reply": "2023-07-06T19:46:38.381912Z"
    },
    "papermill": {
     "duration": 0.03025,
     "end_time": "2023-07-06T19:46:38.384663",
     "exception": false,
     "start_time": "2023-07-06T19:46:38.354413",
     "status": "completed"
    },
    "tags": []
   },
   "outputs": [],
   "source": [
    "targetColumn = 'Transported'\n",
    "predictors = list(shipData.columns)\n",
    "predictors.remove(targetColumn)\n",
    "target = [targetColumn]\n"
   ]
  },
  {
   "cell_type": "markdown",
   "id": "3ef00723",
   "metadata": {
    "papermill": {
     "duration": 0.02205,
     "end_time": "2023-07-06T19:46:38.429139",
     "exception": false,
     "start_time": "2023-07-06T19:46:38.407089",
     "status": "completed"
    },
    "tags": []
   },
   "source": [
    "# Impute missing values after data partiotining"
   ]
  },
  {
   "cell_type": "code",
   "execution_count": 26,
   "id": "23d019c5",
   "metadata": {
    "execution": {
     "iopub.execute_input": "2023-07-06T19:46:38.475960Z",
     "iopub.status.busy": "2023-07-06T19:46:38.475189Z",
     "iopub.status.idle": "2023-07-06T19:46:38.502965Z",
     "shell.execute_reply": "2023-07-06T19:46:38.501803Z"
    },
    "papermill": {
     "duration": 0.053962,
     "end_time": "2023-07-06T19:46:38.505534",
     "exception": false,
     "start_time": "2023-07-06T19:46:38.451572",
     "status": "completed"
    },
    "tags": []
   },
   "outputs": [],
   "source": [
    "imputer = SimpleImputer(strategy=\"median\")\n",
    "train_cols_with_na = list(train_df.isna().sum()[train_df.isna().sum() > 0].index)\n",
    "test_cols_with_na = list(test_df.isna().sum()[test_df.isna().sum() > 0].index)\n",
    "train_df[train_cols_with_na] = imputer.fit_transform(train_df[train_cols_with_na])\n",
    "test_df[test_cols_with_na] = imputer.fit_transform(test_df[test_cols_with_na])"
   ]
  },
  {
   "cell_type": "code",
   "execution_count": 27,
   "id": "1f8b8326",
   "metadata": {
    "execution": {
     "iopub.execute_input": "2023-07-06T19:46:38.551945Z",
     "iopub.status.busy": "2023-07-06T19:46:38.551536Z",
     "iopub.status.idle": "2023-07-06T19:46:38.583730Z",
     "shell.execute_reply": "2023-07-06T19:46:38.582628Z"
    },
    "papermill": {
     "duration": 0.058456,
     "end_time": "2023-07-06T19:46:38.586461",
     "exception": false,
     "start_time": "2023-07-06T19:46:38.528005",
     "status": "completed"
    },
    "tags": []
   },
   "outputs": [],
   "source": [
    "out_cols_with_na = list(outData.isna().sum()[outData.isna().sum() > 0].index)\n",
    "outData[out_cols_with_na] = imputer.fit_transform(outData[out_cols_with_na])\n",
    "\n",
    "ship_cols_with_na = list(shipData.isna().sum()[shipData.isna().sum() > 0].index)\n",
    "shipData[ship_cols_with_na] = imputer.fit_transform(shipData[ship_cols_with_na])"
   ]
  },
  {
   "cell_type": "code",
   "execution_count": 28,
   "id": "f1513af7",
   "metadata": {
    "execution": {
     "iopub.execute_input": "2023-07-06T19:46:38.633689Z",
     "iopub.status.busy": "2023-07-06T19:46:38.633281Z",
     "iopub.status.idle": "2023-07-06T19:46:38.647535Z",
     "shell.execute_reply": "2023-07-06T19:46:38.646435Z"
    },
    "papermill": {
     "duration": 0.040823,
     "end_time": "2023-07-06T19:46:38.649928",
     "exception": false,
     "start_time": "2023-07-06T19:46:38.609105",
     "status": "completed"
    },
    "tags": []
   },
   "outputs": [
    {
     "name": "stdout",
     "output_type": "stream",
     "text": [
      "<class 'pandas.core.frame.DataFrame'>\n",
      "RangeIndex: 8693 entries, 0 to 8692\n",
      "Data columns (total 29 columns):\n",
      " #   Column                     Non-Null Count  Dtype  \n",
      "---  ------                     --------------  -----  \n",
      " 0   CryoSleep                  8693 non-null   int64  \n",
      " 1   Age                        8693 non-null   float64\n",
      " 2   VIP                        8693 non-null   int64  \n",
      " 3   RoomService                8693 non-null   float64\n",
      " 4   FoodCourt                  8693 non-null   float64\n",
      " 5   ShoppingMall               8693 non-null   float64\n",
      " 6   Spa                        8693 non-null   float64\n",
      " 7   VRDeck                     8693 non-null   float64\n",
      " 8   Transported                8693 non-null   int64  \n",
      " 9   HomePlanet_Earth           8693 non-null   uint8  \n",
      " 10  HomePlanet_Europa          8693 non-null   uint8  \n",
      " 11  HomePlanet_Mars            8693 non-null   uint8  \n",
      " 12  HomePlanet_unknown         8693 non-null   uint8  \n",
      " 13  CabinDeck_A                8693 non-null   uint8  \n",
      " 14  CabinDeck_B                8693 non-null   uint8  \n",
      " 15  CabinDeck_C                8693 non-null   uint8  \n",
      " 16  CabinDeck_D                8693 non-null   uint8  \n",
      " 17  CabinDeck_E                8693 non-null   uint8  \n",
      " 18  CabinDeck_F                8693 non-null   uint8  \n",
      " 19  CabinDeck_G                8693 non-null   uint8  \n",
      " 20  CabinDeck_T                8693 non-null   uint8  \n",
      " 21  CabinDeck_unknown          8693 non-null   uint8  \n",
      " 22  CabinSide_P                8693 non-null   uint8  \n",
      " 23  CabinSide_S                8693 non-null   uint8  \n",
      " 24  CabinSide_unknown          8693 non-null   uint8  \n",
      " 25  Destination_55 Cancri e    8693 non-null   uint8  \n",
      " 26  Destination_PSO J318.5-22  8693 non-null   uint8  \n",
      " 27  Destination_TRAPPIST-1e    8693 non-null   uint8  \n",
      " 28  Destination_unknown        8693 non-null   uint8  \n",
      "dtypes: float64(6), int64(3), uint8(20)\n",
      "memory usage: 781.1 KB\n"
     ]
    }
   ],
   "source": [
    "shipData.info()"
   ]
  },
  {
   "cell_type": "code",
   "execution_count": 29,
   "id": "845f1a15",
   "metadata": {
    "execution": {
     "iopub.execute_input": "2023-07-06T19:46:38.697197Z",
     "iopub.status.busy": "2023-07-06T19:46:38.696824Z",
     "iopub.status.idle": "2023-07-06T19:46:38.712065Z",
     "shell.execute_reply": "2023-07-06T19:46:38.710334Z"
    },
    "papermill": {
     "duration": 0.042264,
     "end_time": "2023-07-06T19:46:38.714550",
     "exception": false,
     "start_time": "2023-07-06T19:46:38.672286",
     "status": "completed"
    },
    "tags": []
   },
   "outputs": [
    {
     "name": "stdout",
     "output_type": "stream",
     "text": [
      "<class 'pandas.core.frame.DataFrame'>\n",
      "RangeIndex: 4277 entries, 0 to 4276\n",
      "Data columns (total 28 columns):\n",
      " #   Column                     Non-Null Count  Dtype  \n",
      "---  ------                     --------------  -----  \n",
      " 0   CryoSleep                  4277 non-null   int64  \n",
      " 1   Age                        4277 non-null   float64\n",
      " 2   VIP                        4277 non-null   int64  \n",
      " 3   RoomService                4277 non-null   float64\n",
      " 4   FoodCourt                  4277 non-null   float64\n",
      " 5   ShoppingMall               4277 non-null   float64\n",
      " 6   Spa                        4277 non-null   float64\n",
      " 7   VRDeck                     4277 non-null   float64\n",
      " 8   HomePlanet_Earth           4277 non-null   uint8  \n",
      " 9   HomePlanet_Europa          4277 non-null   uint8  \n",
      " 10  HomePlanet_Mars            4277 non-null   uint8  \n",
      " 11  HomePlanet_unknown         4277 non-null   uint8  \n",
      " 12  CabinDeck_A                4277 non-null   uint8  \n",
      " 13  CabinDeck_B                4277 non-null   uint8  \n",
      " 14  CabinDeck_C                4277 non-null   uint8  \n",
      " 15  CabinDeck_D                4277 non-null   uint8  \n",
      " 16  CabinDeck_E                4277 non-null   uint8  \n",
      " 17  CabinDeck_F                4277 non-null   uint8  \n",
      " 18  CabinDeck_G                4277 non-null   uint8  \n",
      " 19  CabinDeck_T                4277 non-null   uint8  \n",
      " 20  CabinDeck_unknown          4277 non-null   uint8  \n",
      " 21  CabinSide_P                4277 non-null   uint8  \n",
      " 22  CabinSide_S                4277 non-null   uint8  \n",
      " 23  CabinSide_unknown          4277 non-null   uint8  \n",
      " 24  Destination_55 Cancri e    4277 non-null   uint8  \n",
      " 25  Destination_PSO J318.5-22  4277 non-null   uint8  \n",
      " 26  Destination_TRAPPIST-1e    4277 non-null   uint8  \n",
      " 27  Destination_unknown        4277 non-null   uint8  \n",
      "dtypes: float64(6), int64(2), uint8(20)\n",
      "memory usage: 351.0 KB\n"
     ]
    }
   ],
   "source": [
    "outData.info()"
   ]
  },
  {
   "cell_type": "markdown",
   "id": "b7dfe4f4",
   "metadata": {
    "papermill": {
     "duration": 0.022982,
     "end_time": "2023-07-06T19:46:38.760061",
     "exception": false,
     "start_time": "2023-07-06T19:46:38.737079",
     "status": "completed"
    },
    "tags": []
   },
   "source": [
    "# Standardizing the input variables"
   ]
  },
  {
   "cell_type": "code",
   "execution_count": 30,
   "id": "0f835cff",
   "metadata": {
    "execution": {
     "iopub.execute_input": "2023-07-06T19:46:38.808471Z",
     "iopub.status.busy": "2023-07-06T19:46:38.807081Z",
     "iopub.status.idle": "2023-07-06T19:46:38.823243Z",
     "shell.execute_reply": "2023-07-06T19:46:38.822357Z"
    },
    "papermill": {
     "duration": 0.043057,
     "end_time": "2023-07-06T19:46:38.825750",
     "exception": false,
     "start_time": "2023-07-06T19:46:38.782693",
     "status": "completed"
    },
    "tags": []
   },
   "outputs": [],
   "source": [
    "scaler = preprocessing.StandardScaler()\n",
    "std_pred = ['Age', 'RoomService', 'FoodCourt', 'ShoppingMall', 'Spa', 'VRDeck']   \n",
    "train_df[std_pred] = scaler.fit_transform(train_df[std_pred])\n",
    "test_df[std_pred] = scaler.transform(test_df[std_pred])"
   ]
  },
  {
   "cell_type": "code",
   "execution_count": 31,
   "id": "eca09682",
   "metadata": {
    "execution": {
     "iopub.execute_input": "2023-07-06T19:46:38.873776Z",
     "iopub.status.busy": "2023-07-06T19:46:38.873028Z",
     "iopub.status.idle": "2023-07-06T19:46:38.889159Z",
     "shell.execute_reply": "2023-07-06T19:46:38.888408Z"
    },
    "papermill": {
     "duration": 0.042607,
     "end_time": "2023-07-06T19:46:38.891548",
     "exception": false,
     "start_time": "2023-07-06T19:46:38.848941",
     "status": "completed"
    },
    "tags": []
   },
   "outputs": [],
   "source": [
    "outData[std_pred] = scaler.fit_transform(outData[std_pred])\n",
    "shipData[std_pred] = scaler.fit_transform(shipData[std_pred])"
   ]
  },
  {
   "cell_type": "code",
   "execution_count": 32,
   "id": "79a2d78b",
   "metadata": {
    "execution": {
     "iopub.execute_input": "2023-07-06T19:46:38.938502Z",
     "iopub.status.busy": "2023-07-06T19:46:38.938100Z",
     "iopub.status.idle": "2023-07-06T19:46:38.957892Z",
     "shell.execute_reply": "2023-07-06T19:46:38.956748Z"
    },
    "papermill": {
     "duration": 0.04607,
     "end_time": "2023-07-06T19:46:38.960215",
     "exception": false,
     "start_time": "2023-07-06T19:46:38.914145",
     "status": "completed"
    },
    "tags": []
   },
   "outputs": [
    {
     "data": {
      "text/html": [
       "<div>\n",
       "<style scoped>\n",
       "    .dataframe tbody tr th:only-of-type {\n",
       "        vertical-align: middle;\n",
       "    }\n",
       "\n",
       "    .dataframe tbody tr th {\n",
       "        vertical-align: top;\n",
       "    }\n",
       "\n",
       "    .dataframe thead th {\n",
       "        text-align: right;\n",
       "    }\n",
       "</style>\n",
       "<table border=\"1\" class=\"dataframe\">\n",
       "  <thead>\n",
       "    <tr style=\"text-align: right;\">\n",
       "      <th></th>\n",
       "      <th>CryoSleep</th>\n",
       "      <th>Age</th>\n",
       "      <th>VIP</th>\n",
       "      <th>RoomService</th>\n",
       "      <th>FoodCourt</th>\n",
       "      <th>ShoppingMall</th>\n",
       "      <th>Spa</th>\n",
       "      <th>VRDeck</th>\n",
       "      <th>HomePlanet_Earth</th>\n",
       "      <th>HomePlanet_Europa</th>\n",
       "      <th>...</th>\n",
       "      <th>CabinDeck_G</th>\n",
       "      <th>CabinDeck_T</th>\n",
       "      <th>CabinDeck_unknown</th>\n",
       "      <th>CabinSide_P</th>\n",
       "      <th>CabinSide_S</th>\n",
       "      <th>CabinSide_unknown</th>\n",
       "      <th>Destination_55 Cancri e</th>\n",
       "      <th>Destination_PSO J318.5-22</th>\n",
       "      <th>Destination_TRAPPIST-1e</th>\n",
       "      <th>Destination_unknown</th>\n",
       "    </tr>\n",
       "  </thead>\n",
       "  <tbody>\n",
       "    <tr>\n",
       "      <th>0</th>\n",
       "      <td>1</td>\n",
       "      <td>-0.114147</td>\n",
       "      <td>0</td>\n",
       "      <td>-0.357339</td>\n",
       "      <td>-0.283840</td>\n",
       "      <td>-0.312173</td>\n",
       "      <td>-0.267841</td>\n",
       "      <td>-0.246712</td>\n",
       "      <td>1</td>\n",
       "      <td>0</td>\n",
       "      <td>...</td>\n",
       "      <td>1</td>\n",
       "      <td>0</td>\n",
       "      <td>0</td>\n",
       "      <td>0</td>\n",
       "      <td>1</td>\n",
       "      <td>0</td>\n",
       "      <td>0</td>\n",
       "      <td>0</td>\n",
       "      <td>1</td>\n",
       "      <td>0</td>\n",
       "    </tr>\n",
       "    <tr>\n",
       "      <th>1</th>\n",
       "      <td>0</td>\n",
       "      <td>-0.684313</td>\n",
       "      <td>0</td>\n",
       "      <td>-0.357339</td>\n",
       "      <td>-0.277879</td>\n",
       "      <td>-0.312173</td>\n",
       "      <td>2.287504</td>\n",
       "      <td>-0.246712</td>\n",
       "      <td>1</td>\n",
       "      <td>0</td>\n",
       "      <td>...</td>\n",
       "      <td>0</td>\n",
       "      <td>0</td>\n",
       "      <td>0</td>\n",
       "      <td>0</td>\n",
       "      <td>1</td>\n",
       "      <td>0</td>\n",
       "      <td>0</td>\n",
       "      <td>0</td>\n",
       "      <td>1</td>\n",
       "      <td>0</td>\n",
       "    </tr>\n",
       "    <tr>\n",
       "      <th>2</th>\n",
       "      <td>1</td>\n",
       "      <td>0.170937</td>\n",
       "      <td>0</td>\n",
       "      <td>-0.357339</td>\n",
       "      <td>-0.283840</td>\n",
       "      <td>-0.312173</td>\n",
       "      <td>-0.267841</td>\n",
       "      <td>-0.246712</td>\n",
       "      <td>0</td>\n",
       "      <td>1</td>\n",
       "      <td>...</td>\n",
       "      <td>0</td>\n",
       "      <td>0</td>\n",
       "      <td>0</td>\n",
       "      <td>0</td>\n",
       "      <td>1</td>\n",
       "      <td>0</td>\n",
       "      <td>1</td>\n",
       "      <td>0</td>\n",
       "      <td>0</td>\n",
       "      <td>0</td>\n",
       "    </tr>\n",
       "  </tbody>\n",
       "</table>\n",
       "<p>3 rows × 28 columns</p>\n",
       "</div>"
      ],
      "text/plain": [
       "   CryoSleep       Age  VIP  RoomService  FoodCourt  ShoppingMall       Spa  \\\n",
       "0          1 -0.114147    0    -0.357339  -0.283840     -0.312173 -0.267841   \n",
       "1          0 -0.684313    0    -0.357339  -0.277879     -0.312173  2.287504   \n",
       "2          1  0.170937    0    -0.357339  -0.283840     -0.312173 -0.267841   \n",
       "\n",
       "     VRDeck  HomePlanet_Earth  HomePlanet_Europa  ...  CabinDeck_G  \\\n",
       "0 -0.246712                 1                  0  ...            1   \n",
       "1 -0.246712                 1                  0  ...            0   \n",
       "2 -0.246712                 0                  1  ...            0   \n",
       "\n",
       "   CabinDeck_T  CabinDeck_unknown  CabinSide_P  CabinSide_S  \\\n",
       "0            0                  0            0            1   \n",
       "1            0                  0            0            1   \n",
       "2            0                  0            0            1   \n",
       "\n",
       "   CabinSide_unknown  Destination_55 Cancri e  Destination_PSO J318.5-22  \\\n",
       "0                  0                        0                          0   \n",
       "1                  0                        0                          0   \n",
       "2                  0                        1                          0   \n",
       "\n",
       "   Destination_TRAPPIST-1e  Destination_unknown  \n",
       "0                        1                    0  \n",
       "1                        1                    0  \n",
       "2                        0                    0  \n",
       "\n",
       "[3 rows x 28 columns]"
      ]
     },
     "execution_count": 32,
     "metadata": {},
     "output_type": "execute_result"
    }
   ],
   "source": [
    "outData.head(3)"
   ]
  },
  {
   "cell_type": "code",
   "execution_count": 33,
   "id": "1edbdcc1",
   "metadata": {
    "execution": {
     "iopub.execute_input": "2023-07-06T19:46:39.007798Z",
     "iopub.status.busy": "2023-07-06T19:46:39.007320Z",
     "iopub.status.idle": "2023-07-06T19:46:39.029376Z",
     "shell.execute_reply": "2023-07-06T19:46:39.028342Z"
    },
    "papermill": {
     "duration": 0.048902,
     "end_time": "2023-07-06T19:46:39.031839",
     "exception": false,
     "start_time": "2023-07-06T19:46:38.982937",
     "status": "completed"
    },
    "tags": []
   },
   "outputs": [
    {
     "data": {
      "text/html": [
       "<div>\n",
       "<style scoped>\n",
       "    .dataframe tbody tr th:only-of-type {\n",
       "        vertical-align: middle;\n",
       "    }\n",
       "\n",
       "    .dataframe tbody tr th {\n",
       "        vertical-align: top;\n",
       "    }\n",
       "\n",
       "    .dataframe thead th {\n",
       "        text-align: right;\n",
       "    }\n",
       "</style>\n",
       "<table border=\"1\" class=\"dataframe\">\n",
       "  <thead>\n",
       "    <tr style=\"text-align: right;\">\n",
       "      <th></th>\n",
       "      <th>CryoSleep</th>\n",
       "      <th>Age</th>\n",
       "      <th>VIP</th>\n",
       "      <th>RoomService</th>\n",
       "      <th>FoodCourt</th>\n",
       "      <th>ShoppingMall</th>\n",
       "      <th>Spa</th>\n",
       "      <th>VRDeck</th>\n",
       "      <th>Transported</th>\n",
       "      <th>HomePlanet_Earth</th>\n",
       "      <th>...</th>\n",
       "      <th>CabinDeck_G</th>\n",
       "      <th>CabinDeck_T</th>\n",
       "      <th>CabinDeck_unknown</th>\n",
       "      <th>CabinSide_P</th>\n",
       "      <th>CabinSide_S</th>\n",
       "      <th>CabinSide_unknown</th>\n",
       "      <th>Destination_55 Cancri e</th>\n",
       "      <th>Destination_PSO J318.5-22</th>\n",
       "      <th>Destination_TRAPPIST-1e</th>\n",
       "      <th>Destination_unknown</th>\n",
       "    </tr>\n",
       "  </thead>\n",
       "  <tbody>\n",
       "    <tr>\n",
       "      <th>0</th>\n",
       "      <td>0</td>\n",
       "      <td>0.711945</td>\n",
       "      <td>0</td>\n",
       "      <td>-0.333105</td>\n",
       "      <td>-0.281027</td>\n",
       "      <td>-0.283579</td>\n",
       "      <td>-0.270626</td>\n",
       "      <td>-0.263003</td>\n",
       "      <td>0</td>\n",
       "      <td>0</td>\n",
       "      <td>...</td>\n",
       "      <td>0</td>\n",
       "      <td>0</td>\n",
       "      <td>0</td>\n",
       "      <td>1</td>\n",
       "      <td>0</td>\n",
       "      <td>0</td>\n",
       "      <td>0</td>\n",
       "      <td>0</td>\n",
       "      <td>1</td>\n",
       "      <td>0</td>\n",
       "    </tr>\n",
       "    <tr>\n",
       "      <th>1</th>\n",
       "      <td>0</td>\n",
       "      <td>-0.334037</td>\n",
       "      <td>0</td>\n",
       "      <td>-0.168073</td>\n",
       "      <td>-0.275387</td>\n",
       "      <td>-0.241771</td>\n",
       "      <td>0.217158</td>\n",
       "      <td>-0.224205</td>\n",
       "      <td>1</td>\n",
       "      <td>1</td>\n",
       "      <td>...</td>\n",
       "      <td>0</td>\n",
       "      <td>0</td>\n",
       "      <td>0</td>\n",
       "      <td>0</td>\n",
       "      <td>1</td>\n",
       "      <td>0</td>\n",
       "      <td>0</td>\n",
       "      <td>0</td>\n",
       "      <td>1</td>\n",
       "      <td>0</td>\n",
       "    </tr>\n",
       "    <tr>\n",
       "      <th>2</th>\n",
       "      <td>0</td>\n",
       "      <td>2.036857</td>\n",
       "      <td>1</td>\n",
       "      <td>-0.268001</td>\n",
       "      <td>1.959998</td>\n",
       "      <td>-0.283579</td>\n",
       "      <td>5.695623</td>\n",
       "      <td>-0.219796</td>\n",
       "      <td>0</td>\n",
       "      <td>0</td>\n",
       "      <td>...</td>\n",
       "      <td>0</td>\n",
       "      <td>0</td>\n",
       "      <td>0</td>\n",
       "      <td>0</td>\n",
       "      <td>1</td>\n",
       "      <td>0</td>\n",
       "      <td>0</td>\n",
       "      <td>0</td>\n",
       "      <td>1</td>\n",
       "      <td>0</td>\n",
       "    </tr>\n",
       "  </tbody>\n",
       "</table>\n",
       "<p>3 rows × 29 columns</p>\n",
       "</div>"
      ],
      "text/plain": [
       "   CryoSleep       Age  VIP  RoomService  FoodCourt  ShoppingMall       Spa  \\\n",
       "0          0  0.711945    0    -0.333105  -0.281027     -0.283579 -0.270626   \n",
       "1          0 -0.334037    0    -0.168073  -0.275387     -0.241771  0.217158   \n",
       "2          0  2.036857    1    -0.268001   1.959998     -0.283579  5.695623   \n",
       "\n",
       "     VRDeck  Transported  HomePlanet_Earth  ...  CabinDeck_G  CabinDeck_T  \\\n",
       "0 -0.263003            0                 0  ...            0            0   \n",
       "1 -0.224205            1                 1  ...            0            0   \n",
       "2 -0.219796            0                 0  ...            0            0   \n",
       "\n",
       "   CabinDeck_unknown  CabinSide_P  CabinSide_S  CabinSide_unknown  \\\n",
       "0                  0            1            0                  0   \n",
       "1                  0            0            1                  0   \n",
       "2                  0            0            1                  0   \n",
       "\n",
       "   Destination_55 Cancri e  Destination_PSO J318.5-22  \\\n",
       "0                        0                          0   \n",
       "1                        0                          0   \n",
       "2                        0                          0   \n",
       "\n",
       "   Destination_TRAPPIST-1e  Destination_unknown  \n",
       "0                        1                    0  \n",
       "1                        1                    0  \n",
       "2                        1                    0  \n",
       "\n",
       "[3 rows x 29 columns]"
      ]
     },
     "execution_count": 33,
     "metadata": {},
     "output_type": "execute_result"
    }
   ],
   "source": [
    "shipData_X = shipData.drop(['Transported'], axis=1)\n",
    "shipData.head(3)"
   ]
  },
  {
   "cell_type": "code",
   "execution_count": 34,
   "id": "f035621a",
   "metadata": {
    "execution": {
     "iopub.execute_input": "2023-07-06T19:46:39.079748Z",
     "iopub.status.busy": "2023-07-06T19:46:39.079382Z",
     "iopub.status.idle": "2023-07-06T19:46:39.090053Z",
     "shell.execute_reply": "2023-07-06T19:46:39.088972Z"
    },
    "papermill": {
     "duration": 0.037323,
     "end_time": "2023-07-06T19:46:39.092221",
     "exception": false,
     "start_time": "2023-07-06T19:46:39.054898",
     "status": "completed"
    },
    "tags": []
   },
   "outputs": [
    {
     "data": {
      "text/html": [
       "<div>\n",
       "<style scoped>\n",
       "    .dataframe tbody tr th:only-of-type {\n",
       "        vertical-align: middle;\n",
       "    }\n",
       "\n",
       "    .dataframe tbody tr th {\n",
       "        vertical-align: top;\n",
       "    }\n",
       "\n",
       "    .dataframe thead th {\n",
       "        text-align: right;\n",
       "    }\n",
       "</style>\n",
       "<table border=\"1\" class=\"dataframe\">\n",
       "  <thead>\n",
       "    <tr style=\"text-align: right;\">\n",
       "      <th></th>\n",
       "      <th>Transported</th>\n",
       "    </tr>\n",
       "  </thead>\n",
       "  <tbody>\n",
       "    <tr>\n",
       "      <th>0</th>\n",
       "      <td>0</td>\n",
       "    </tr>\n",
       "    <tr>\n",
       "      <th>1</th>\n",
       "      <td>1</td>\n",
       "    </tr>\n",
       "    <tr>\n",
       "      <th>2</th>\n",
       "      <td>0</td>\n",
       "    </tr>\n",
       "  </tbody>\n",
       "</table>\n",
       "</div>"
      ],
      "text/plain": [
       "   Transported\n",
       "0            0\n",
       "1            1\n",
       "2            0"
      ]
     },
     "execution_count": 34,
     "metadata": {},
     "output_type": "execute_result"
    }
   ],
   "source": [
    "shipData_y = shipData[['Transported']]\n",
    "shipData_y.head(3)"
   ]
  },
  {
   "cell_type": "markdown",
   "id": "caa55976",
   "metadata": {
    "papermill": {
     "duration": 0.023489,
     "end_time": "2023-07-06T19:46:39.139069",
     "exception": false,
     "start_time": "2023-07-06T19:46:39.115580",
     "status": "completed"
    },
    "tags": []
   },
   "source": [
    "# Saving the data sets for testing and training"
   ]
  },
  {
   "cell_type": "code",
   "execution_count": 35,
   "id": "8edb4bb2",
   "metadata": {
    "execution": {
     "iopub.execute_input": "2023-07-06T19:46:39.188023Z",
     "iopub.status.busy": "2023-07-06T19:46:39.187634Z",
     "iopub.status.idle": "2023-07-06T19:46:39.197420Z",
     "shell.execute_reply": "2023-07-06T19:46:39.196397Z"
    },
    "papermill": {
     "duration": 0.037596,
     "end_time": "2023-07-06T19:46:39.200069",
     "exception": false,
     "start_time": "2023-07-06T19:46:39.162473",
     "status": "completed"
    },
    "tags": []
   },
   "outputs": [],
   "source": [
    "X_train = train_df[predictors]\n",
    "y_train = train_df[target]\n",
    "X_test = test_df[predictors]\n",
    "y_test = test_df[target]"
   ]
  },
  {
   "cell_type": "code",
   "execution_count": 36,
   "id": "83891464",
   "metadata": {
    "execution": {
     "iopub.execute_input": "2023-07-06T19:46:39.250972Z",
     "iopub.status.busy": "2023-07-06T19:46:39.250585Z",
     "iopub.status.idle": "2023-07-06T19:46:39.270441Z",
     "shell.execute_reply": "2023-07-06T19:46:39.269349Z"
    },
    "papermill": {
     "duration": 0.047428,
     "end_time": "2023-07-06T19:46:39.272627",
     "exception": false,
     "start_time": "2023-07-06T19:46:39.225199",
     "status": "completed"
    },
    "tags": []
   },
   "outputs": [
    {
     "data": {
      "text/html": [
       "<div>\n",
       "<style scoped>\n",
       "    .dataframe tbody tr th:only-of-type {\n",
       "        vertical-align: middle;\n",
       "    }\n",
       "\n",
       "    .dataframe tbody tr th {\n",
       "        vertical-align: top;\n",
       "    }\n",
       "\n",
       "    .dataframe thead th {\n",
       "        text-align: right;\n",
       "    }\n",
       "</style>\n",
       "<table border=\"1\" class=\"dataframe\">\n",
       "  <thead>\n",
       "    <tr style=\"text-align: right;\">\n",
       "      <th></th>\n",
       "      <th>CryoSleep</th>\n",
       "      <th>Age</th>\n",
       "      <th>VIP</th>\n",
       "      <th>RoomService</th>\n",
       "      <th>FoodCourt</th>\n",
       "      <th>ShoppingMall</th>\n",
       "      <th>Spa</th>\n",
       "      <th>VRDeck</th>\n",
       "      <th>HomePlanet_Earth</th>\n",
       "      <th>HomePlanet_Europa</th>\n",
       "      <th>...</th>\n",
       "      <th>CabinDeck_G</th>\n",
       "      <th>CabinDeck_T</th>\n",
       "      <th>CabinDeck_unknown</th>\n",
       "      <th>CabinSide_P</th>\n",
       "      <th>CabinSide_S</th>\n",
       "      <th>CabinSide_unknown</th>\n",
       "      <th>Destination_55 Cancri e</th>\n",
       "      <th>Destination_PSO J318.5-22</th>\n",
       "      <th>Destination_TRAPPIST-1e</th>\n",
       "      <th>Destination_unknown</th>\n",
       "    </tr>\n",
       "  </thead>\n",
       "  <tbody>\n",
       "    <tr>\n",
       "      <th>5776</th>\n",
       "      <td>1</td>\n",
       "      <td>0.706771</td>\n",
       "      <td>0</td>\n",
       "      <td>-0.328390</td>\n",
       "      <td>-0.279781</td>\n",
       "      <td>-0.2737</td>\n",
       "      <td>-0.276084</td>\n",
       "      <td>-0.258226</td>\n",
       "      <td>0</td>\n",
       "      <td>0</td>\n",
       "      <td>...</td>\n",
       "      <td>0</td>\n",
       "      <td>0</td>\n",
       "      <td>0</td>\n",
       "      <td>1</td>\n",
       "      <td>0</td>\n",
       "      <td>0</td>\n",
       "      <td>0</td>\n",
       "      <td>0</td>\n",
       "      <td>1</td>\n",
       "      <td>0</td>\n",
       "    </tr>\n",
       "    <tr>\n",
       "      <th>220</th>\n",
       "      <td>0</td>\n",
       "      <td>0.985951</td>\n",
       "      <td>0</td>\n",
       "      <td>-0.328390</td>\n",
       "      <td>0.270753</td>\n",
       "      <td>-0.2737</td>\n",
       "      <td>-0.276084</td>\n",
       "      <td>-0.258226</td>\n",
       "      <td>1</td>\n",
       "      <td>0</td>\n",
       "      <td>...</td>\n",
       "      <td>0</td>\n",
       "      <td>0</td>\n",
       "      <td>0</td>\n",
       "      <td>1</td>\n",
       "      <td>0</td>\n",
       "      <td>0</td>\n",
       "      <td>0</td>\n",
       "      <td>0</td>\n",
       "      <td>1</td>\n",
       "      <td>0</td>\n",
       "    </tr>\n",
       "    <tr>\n",
       "      <th>2398</th>\n",
       "      <td>0</td>\n",
       "      <td>-0.340152</td>\n",
       "      <td>0</td>\n",
       "      <td>-0.300489</td>\n",
       "      <td>0.139319</td>\n",
       "      <td>-0.2737</td>\n",
       "      <td>-0.252719</td>\n",
       "      <td>-0.258226</td>\n",
       "      <td>1</td>\n",
       "      <td>0</td>\n",
       "      <td>...</td>\n",
       "      <td>1</td>\n",
       "      <td>0</td>\n",
       "      <td>0</td>\n",
       "      <td>0</td>\n",
       "      <td>1</td>\n",
       "      <td>0</td>\n",
       "      <td>0</td>\n",
       "      <td>0</td>\n",
       "      <td>1</td>\n",
       "      <td>0</td>\n",
       "    </tr>\n",
       "  </tbody>\n",
       "</table>\n",
       "<p>3 rows × 28 columns</p>\n",
       "</div>"
      ],
      "text/plain": [
       "      CryoSleep       Age  VIP  RoomService  FoodCourt  ShoppingMall  \\\n",
       "5776          1  0.706771    0    -0.328390  -0.279781       -0.2737   \n",
       "220           0  0.985951    0    -0.328390   0.270753       -0.2737   \n",
       "2398          0 -0.340152    0    -0.300489   0.139319       -0.2737   \n",
       "\n",
       "           Spa    VRDeck  HomePlanet_Earth  HomePlanet_Europa  ...  \\\n",
       "5776 -0.276084 -0.258226                 0                  0  ...   \n",
       "220  -0.276084 -0.258226                 1                  0  ...   \n",
       "2398 -0.252719 -0.258226                 1                  0  ...   \n",
       "\n",
       "      CabinDeck_G  CabinDeck_T  CabinDeck_unknown  CabinSide_P  CabinSide_S  \\\n",
       "5776            0            0                  0            1            0   \n",
       "220             0            0                  0            1            0   \n",
       "2398            1            0                  0            0            1   \n",
       "\n",
       "      CabinSide_unknown  Destination_55 Cancri e  Destination_PSO J318.5-22  \\\n",
       "5776                  0                        0                          0   \n",
       "220                   0                        0                          0   \n",
       "2398                  0                        0                          0   \n",
       "\n",
       "      Destination_TRAPPIST-1e  Destination_unknown  \n",
       "5776                        1                    0  \n",
       "220                         1                    0  \n",
       "2398                        1                    0  \n",
       "\n",
       "[3 rows x 28 columns]"
      ]
     },
     "execution_count": 36,
     "metadata": {},
     "output_type": "execute_result"
    }
   ],
   "source": [
    "X_train.head(3)"
   ]
  },
  {
   "cell_type": "code",
   "execution_count": 37,
   "id": "85809fe1",
   "metadata": {
    "execution": {
     "iopub.execute_input": "2023-07-06T19:46:39.322622Z",
     "iopub.status.busy": "2023-07-06T19:46:39.322219Z",
     "iopub.status.idle": "2023-07-06T19:46:39.330194Z",
     "shell.execute_reply": "2023-07-06T19:46:39.329353Z"
    },
    "papermill": {
     "duration": 0.035658,
     "end_time": "2023-07-06T19:46:39.332082",
     "exception": false,
     "start_time": "2023-07-06T19:46:39.296424",
     "status": "completed"
    },
    "tags": []
   },
   "outputs": [
    {
     "data": {
      "text/html": [
       "<div>\n",
       "<style scoped>\n",
       "    .dataframe tbody tr th:only-of-type {\n",
       "        vertical-align: middle;\n",
       "    }\n",
       "\n",
       "    .dataframe tbody tr th {\n",
       "        vertical-align: top;\n",
       "    }\n",
       "\n",
       "    .dataframe thead th {\n",
       "        text-align: right;\n",
       "    }\n",
       "</style>\n",
       "<table border=\"1\" class=\"dataframe\">\n",
       "  <thead>\n",
       "    <tr style=\"text-align: right;\">\n",
       "      <th></th>\n",
       "      <th>Transported</th>\n",
       "    </tr>\n",
       "  </thead>\n",
       "  <tbody>\n",
       "    <tr>\n",
       "      <th>5776</th>\n",
       "      <td>0</td>\n",
       "    </tr>\n",
       "    <tr>\n",
       "      <th>220</th>\n",
       "      <td>0</td>\n",
       "    </tr>\n",
       "    <tr>\n",
       "      <th>2398</th>\n",
       "      <td>0</td>\n",
       "    </tr>\n",
       "  </tbody>\n",
       "</table>\n",
       "</div>"
      ],
      "text/plain": [
       "      Transported\n",
       "5776            0\n",
       "220             0\n",
       "2398            0"
      ]
     },
     "execution_count": 37,
     "metadata": {},
     "output_type": "execute_result"
    }
   ],
   "source": [
    "y_train.head(3)"
   ]
  },
  {
   "cell_type": "code",
   "execution_count": 38,
   "id": "b9b46794",
   "metadata": {
    "execution": {
     "iopub.execute_input": "2023-07-06T19:46:39.382694Z",
     "iopub.status.busy": "2023-07-06T19:46:39.382328Z",
     "iopub.status.idle": "2023-07-06T19:46:39.401278Z",
     "shell.execute_reply": "2023-07-06T19:46:39.400203Z"
    },
    "papermill": {
     "duration": 0.046844,
     "end_time": "2023-07-06T19:46:39.403675",
     "exception": false,
     "start_time": "2023-07-06T19:46:39.356831",
     "status": "completed"
    },
    "tags": []
   },
   "outputs": [
    {
     "data": {
      "text/html": [
       "<div>\n",
       "<style scoped>\n",
       "    .dataframe tbody tr th:only-of-type {\n",
       "        vertical-align: middle;\n",
       "    }\n",
       "\n",
       "    .dataframe tbody tr th {\n",
       "        vertical-align: top;\n",
       "    }\n",
       "\n",
       "    .dataframe thead th {\n",
       "        text-align: right;\n",
       "    }\n",
       "</style>\n",
       "<table border=\"1\" class=\"dataframe\">\n",
       "  <thead>\n",
       "    <tr style=\"text-align: right;\">\n",
       "      <th></th>\n",
       "      <th>CryoSleep</th>\n",
       "      <th>Age</th>\n",
       "      <th>VIP</th>\n",
       "      <th>RoomService</th>\n",
       "      <th>FoodCourt</th>\n",
       "      <th>ShoppingMall</th>\n",
       "      <th>Spa</th>\n",
       "      <th>VRDeck</th>\n",
       "      <th>HomePlanet_Earth</th>\n",
       "      <th>HomePlanet_Europa</th>\n",
       "      <th>...</th>\n",
       "      <th>CabinDeck_G</th>\n",
       "      <th>CabinDeck_T</th>\n",
       "      <th>CabinDeck_unknown</th>\n",
       "      <th>CabinSide_P</th>\n",
       "      <th>CabinSide_S</th>\n",
       "      <th>CabinSide_unknown</th>\n",
       "      <th>Destination_55 Cancri e</th>\n",
       "      <th>Destination_PSO J318.5-22</th>\n",
       "      <th>Destination_TRAPPIST-1e</th>\n",
       "      <th>Destination_unknown</th>\n",
       "    </tr>\n",
       "  </thead>\n",
       "  <tbody>\n",
       "    <tr>\n",
       "      <th>1454</th>\n",
       "      <td>0</td>\n",
       "      <td>0.218207</td>\n",
       "      <td>0</td>\n",
       "      <td>-0.249092</td>\n",
       "      <td>2.064950</td>\n",
       "      <td>-0.273700</td>\n",
       "      <td>-0.257212</td>\n",
       "      <td>-0.253899</td>\n",
       "      <td>0</td>\n",
       "      <td>1</td>\n",
       "      <td>...</td>\n",
       "      <td>0</td>\n",
       "      <td>0</td>\n",
       "      <td>0</td>\n",
       "      <td>0</td>\n",
       "      <td>1</td>\n",
       "      <td>0</td>\n",
       "      <td>1</td>\n",
       "      <td>0</td>\n",
       "      <td>0</td>\n",
       "      <td>0</td>\n",
       "    </tr>\n",
       "    <tr>\n",
       "      <th>218</th>\n",
       "      <td>1</td>\n",
       "      <td>-0.130768</td>\n",
       "      <td>0</td>\n",
       "      <td>-0.328390</td>\n",
       "      <td>-0.279781</td>\n",
       "      <td>-0.273700</td>\n",
       "      <td>-0.276084</td>\n",
       "      <td>-0.258226</td>\n",
       "      <td>1</td>\n",
       "      <td>0</td>\n",
       "      <td>...</td>\n",
       "      <td>1</td>\n",
       "      <td>0</td>\n",
       "      <td>0</td>\n",
       "      <td>0</td>\n",
       "      <td>1</td>\n",
       "      <td>0</td>\n",
       "      <td>0</td>\n",
       "      <td>1</td>\n",
       "      <td>0</td>\n",
       "      <td>0</td>\n",
       "    </tr>\n",
       "    <tr>\n",
       "      <th>7866</th>\n",
       "      <td>0</td>\n",
       "      <td>-0.340152</td>\n",
       "      <td>0</td>\n",
       "      <td>-0.202100</td>\n",
       "      <td>0.134980</td>\n",
       "      <td>-0.272055</td>\n",
       "      <td>-0.276084</td>\n",
       "      <td>-0.258226</td>\n",
       "      <td>1</td>\n",
       "      <td>0</td>\n",
       "      <td>...</td>\n",
       "      <td>0</td>\n",
       "      <td>0</td>\n",
       "      <td>0</td>\n",
       "      <td>0</td>\n",
       "      <td>1</td>\n",
       "      <td>0</td>\n",
       "      <td>0</td>\n",
       "      <td>1</td>\n",
       "      <td>0</td>\n",
       "      <td>0</td>\n",
       "    </tr>\n",
       "  </tbody>\n",
       "</table>\n",
       "<p>3 rows × 28 columns</p>\n",
       "</div>"
      ],
      "text/plain": [
       "      CryoSleep       Age  VIP  RoomService  FoodCourt  ShoppingMall  \\\n",
       "1454          0  0.218207    0    -0.249092   2.064950     -0.273700   \n",
       "218           1 -0.130768    0    -0.328390  -0.279781     -0.273700   \n",
       "7866          0 -0.340152    0    -0.202100   0.134980     -0.272055   \n",
       "\n",
       "           Spa    VRDeck  HomePlanet_Earth  HomePlanet_Europa  ...  \\\n",
       "1454 -0.257212 -0.253899                 0                  1  ...   \n",
       "218  -0.276084 -0.258226                 1                  0  ...   \n",
       "7866 -0.276084 -0.258226                 1                  0  ...   \n",
       "\n",
       "      CabinDeck_G  CabinDeck_T  CabinDeck_unknown  CabinSide_P  CabinSide_S  \\\n",
       "1454            0            0                  0            0            1   \n",
       "218             1            0                  0            0            1   \n",
       "7866            0            0                  0            0            1   \n",
       "\n",
       "      CabinSide_unknown  Destination_55 Cancri e  Destination_PSO J318.5-22  \\\n",
       "1454                  0                        1                          0   \n",
       "218                   0                        0                          1   \n",
       "7866                  0                        0                          1   \n",
       "\n",
       "      Destination_TRAPPIST-1e  Destination_unknown  \n",
       "1454                        0                    0  \n",
       "218                         0                    0  \n",
       "7866                        0                    0  \n",
       "\n",
       "[3 rows x 28 columns]"
      ]
     },
     "execution_count": 38,
     "metadata": {},
     "output_type": "execute_result"
    }
   ],
   "source": [
    "X_test.head(3)"
   ]
  },
  {
   "cell_type": "code",
   "execution_count": 39,
   "id": "6cdcf385",
   "metadata": {
    "execution": {
     "iopub.execute_input": "2023-07-06T19:46:39.454815Z",
     "iopub.status.busy": "2023-07-06T19:46:39.454456Z",
     "iopub.status.idle": "2023-07-06T19:46:39.463450Z",
     "shell.execute_reply": "2023-07-06T19:46:39.462342Z"
    },
    "papermill": {
     "duration": 0.037552,
     "end_time": "2023-07-06T19:46:39.465740",
     "exception": false,
     "start_time": "2023-07-06T19:46:39.428188",
     "status": "completed"
    },
    "tags": []
   },
   "outputs": [
    {
     "data": {
      "text/html": [
       "<div>\n",
       "<style scoped>\n",
       "    .dataframe tbody tr th:only-of-type {\n",
       "        vertical-align: middle;\n",
       "    }\n",
       "\n",
       "    .dataframe tbody tr th {\n",
       "        vertical-align: top;\n",
       "    }\n",
       "\n",
       "    .dataframe thead th {\n",
       "        text-align: right;\n",
       "    }\n",
       "</style>\n",
       "<table border=\"1\" class=\"dataframe\">\n",
       "  <thead>\n",
       "    <tr style=\"text-align: right;\">\n",
       "      <th></th>\n",
       "      <th>Transported</th>\n",
       "    </tr>\n",
       "  </thead>\n",
       "  <tbody>\n",
       "    <tr>\n",
       "      <th>1454</th>\n",
       "      <td>1</td>\n",
       "    </tr>\n",
       "    <tr>\n",
       "      <th>218</th>\n",
       "      <td>0</td>\n",
       "    </tr>\n",
       "    <tr>\n",
       "      <th>7866</th>\n",
       "      <td>0</td>\n",
       "    </tr>\n",
       "  </tbody>\n",
       "</table>\n",
       "</div>"
      ],
      "text/plain": [
       "      Transported\n",
       "1454            1\n",
       "218             0\n",
       "7866            0"
      ]
     },
     "execution_count": 39,
     "metadata": {},
     "output_type": "execute_result"
    }
   ],
   "source": [
    "y_test.head(3)"
   ]
  },
  {
   "cell_type": "markdown",
   "id": "a0eea333",
   "metadata": {
    "papermill": {
     "duration": 0.023793,
     "end_time": "2023-07-06T19:46:39.513632",
     "exception": false,
     "start_time": "2023-07-06T19:46:39.489839",
     "status": "completed"
    },
    "tags": []
   },
   "source": [
    "# Now I will create different models and explore the results to find best accurate model."
   ]
  },
  {
   "cell_type": "code",
   "execution_count": 40,
   "id": "cebfc45b",
   "metadata": {
    "execution": {
     "iopub.execute_input": "2023-07-06T19:46:39.565068Z",
     "iopub.status.busy": "2023-07-06T19:46:39.564696Z",
     "iopub.status.idle": "2023-07-06T19:46:39.570209Z",
     "shell.execute_reply": "2023-07-06T19:46:39.569123Z"
    },
    "papermill": {
     "duration": 0.034027,
     "end_time": "2023-07-06T19:46:39.572373",
     "exception": false,
     "start_time": "2023-07-06T19:46:39.538346",
     "status": "completed"
    },
    "tags": []
   },
   "outputs": [],
   "source": [
    "performance = pd.DataFrame({\"model\": [], \"accuracy\": [], \"precision\": [],\"recall\": [], \"f1\": []})"
   ]
  },
  {
   "cell_type": "markdown",
   "id": "833f6617",
   "metadata": {
    "papermill": {
     "duration": 0.026199,
     "end_time": "2023-07-06T19:46:39.624334",
     "exception": false,
     "start_time": "2023-07-06T19:46:39.598135",
     "status": "completed"
    },
    "tags": []
   },
   "source": [
    "# Logistic Regression Model"
   ]
  },
  {
   "cell_type": "code",
   "execution_count": 41,
   "id": "8b03f876",
   "metadata": {
    "execution": {
     "iopub.execute_input": "2023-07-06T19:46:39.676198Z",
     "iopub.status.busy": "2023-07-06T19:46:39.675839Z",
     "iopub.status.idle": "2023-07-06T19:46:39.802415Z",
     "shell.execute_reply": "2023-07-06T19:46:39.801223Z"
    },
    "papermill": {
     "duration": 0.156482,
     "end_time": "2023-07-06T19:46:39.806047",
     "exception": false,
     "start_time": "2023-07-06T19:46:39.649565",
     "status": "completed"
    },
    "tags": []
   },
   "outputs": [],
   "source": [
    "logRegModel = LogisticRegression()\n",
    "_ = logRegModel.fit(X_train, np.ravel(y_train))"
   ]
  },
  {
   "cell_type": "code",
   "execution_count": 42,
   "id": "f8fce00f",
   "metadata": {
    "execution": {
     "iopub.execute_input": "2023-07-06T19:46:39.892128Z",
     "iopub.status.busy": "2023-07-06T19:46:39.891413Z",
     "iopub.status.idle": "2023-07-06T19:46:39.904575Z",
     "shell.execute_reply": "2023-07-06T19:46:39.903364Z"
    },
    "papermill": {
     "duration": 0.061202,
     "end_time": "2023-07-06T19:46:39.908706",
     "exception": false,
     "start_time": "2023-07-06T19:46:39.847504",
     "status": "completed"
    },
    "tags": []
   },
   "outputs": [],
   "source": [
    "y_pred = logRegModel.predict(X_test)"
   ]
  },
  {
   "cell_type": "code",
   "execution_count": 43,
   "id": "6a02b88a",
   "metadata": {
    "execution": {
     "iopub.execute_input": "2023-07-06T19:46:39.995336Z",
     "iopub.status.busy": "2023-07-06T19:46:39.994639Z",
     "iopub.status.idle": "2023-07-06T19:46:40.253126Z",
     "shell.execute_reply": "2023-07-06T19:46:40.252038Z"
    },
    "papermill": {
     "duration": 0.304647,
     "end_time": "2023-07-06T19:46:40.255515",
     "exception": false,
     "start_time": "2023-07-06T19:46:39.950868",
     "status": "completed"
    },
    "tags": []
   },
   "outputs": [
    {
     "data": {
      "image/png": "[encoded data removed]",
      "text/plain": [
       "<Figure size 300x300 with 2 Axes>"
      ]
     },
     "metadata": {},
     "output_type": "display_data"
    }
   ],
   "source": [
    "# display the confusion matrix\n",
    "matrix = confusion_matrix(y_test, y_pred)\n",
    "display = ConfusionMatrixDisplay(confusion_matrix=matrix)\n",
    "fig,ax = plt.subplots(figsize=(3, 3))\n",
    "display.plot(ax=ax, cmap=plt.cm.Blues)\n",
    "plt.show()"
   ]
  },
  {
   "cell_type": "code",
   "execution_count": 44,
   "id": "4b515e6c",
   "metadata": {
    "execution": {
     "iopub.execute_input": "2023-07-06T19:46:40.307654Z",
     "iopub.status.busy": "2023-07-06T19:46:40.307254Z",
     "iopub.status.idle": "2023-07-06T19:46:40.342999Z",
     "shell.execute_reply": "2023-07-06T19:46:40.341953Z"
    },
    "papermill": {
     "duration": 0.064465,
     "end_time": "2023-07-06T19:46:40.345482",
     "exception": false,
     "start_time": "2023-07-06T19:46:40.281017",
     "status": "completed"
    },
    "tags": []
   },
   "outputs": [],
   "source": [
    "accuracy = accuracy_score(y_test, y_pred)\n",
    "f1 = f1_score(y_test, y_pred)\n",
    "recall = recall_score(y_test, y_pred)\n",
    "precision = precision_score(y_test, y_pred)\n",
    "\n",
    "performance = pd.concat([performance, pd.DataFrame({\"model\": 'Logestic Regression', \"accuracy\": [accuracy], \n",
    "                                                    \"precision\": [precision], \"recall\": [recall], \n",
    "                                                    \"f1\": [f1]})])"
   ]
  },
  {
   "cell_type": "code",
   "execution_count": 45,
   "id": "f8f436fb",
   "metadata": {
    "execution": {
     "iopub.execute_input": "2023-07-06T19:46:40.396440Z",
     "iopub.status.busy": "2023-07-06T19:46:40.396044Z",
     "iopub.status.idle": "2023-07-06T19:46:40.466689Z",
     "shell.execute_reply": "2023-07-06T19:46:40.465116Z"
    },
    "papermill": {
     "duration": 0.100604,
     "end_time": "2023-07-06T19:46:40.470525",
     "exception": false,
     "start_time": "2023-07-06T19:46:40.369921",
     "status": "completed"
    },
    "tags": []
   },
   "outputs": [],
   "source": [
    "#for i in range(100):\n",
    "sgd_reg = SGDClassifier(random_state=0)\n",
    "sgd_reg.fit(X_train, np.ravel(y_train))\n",
    "y_pred = sgd_reg.predict(X_test)\n",
    "accuracy = accuracy_score(y_test, y_pred)\n",
    "if accuracy >= 0.8130:\n",
    "    print(f\"for ivalue:766 accuracy:{accuracy}\")\n"
   ]
  },
  {
   "cell_type": "code",
   "execution_count": 46,
   "id": "dba6a3b6",
   "metadata": {
    "execution": {
     "iopub.execute_input": "2023-07-06T19:46:40.558874Z",
     "iopub.status.busy": "2023-07-06T19:46:40.558318Z",
     "iopub.status.idle": "2023-07-06T19:46:40.792605Z",
     "shell.execute_reply": "2023-07-06T19:46:40.791173Z"
    },
    "papermill": {
     "duration": 0.283305,
     "end_time": "2023-07-06T19:46:40.796197",
     "exception": false,
     "start_time": "2023-07-06T19:46:40.512892",
     "status": "completed"
    },
    "tags": []
   },
   "outputs": [
    {
     "data": {
      "image/png": "[encoded data removed]",
      "text/plain": [
       "<Figure size 300x300 with 2 Axes>"
      ]
     },
     "metadata": {},
     "output_type": "display_data"
    }
   ],
   "source": [
    "# display the confusion matrix\n",
    "matrix = confusion_matrix(y_test, y_pred)\n",
    "display = ConfusionMatrixDisplay(confusion_matrix=matrix)\n",
    "fig,ax = plt.subplots(figsize=(3, 3))\n",
    "display.plot(ax=ax, cmap=plt.cm.Blues)\n",
    "plt.show()"
   ]
  },
  {
   "cell_type": "code",
   "execution_count": 47,
   "id": "3289a0c5",
   "metadata": {
    "execution": {
     "iopub.execute_input": "2023-07-06T19:46:40.851334Z",
     "iopub.status.busy": "2023-07-06T19:46:40.850375Z",
     "iopub.status.idle": "2023-07-06T19:46:40.893734Z",
     "shell.execute_reply": "2023-07-06T19:46:40.892582Z"
    },
    "papermill": {
     "duration": 0.072323,
     "end_time": "2023-07-06T19:46:40.896102",
     "exception": false,
     "start_time": "2023-07-06T19:46:40.823779",
     "status": "completed"
    },
    "tags": []
   },
   "outputs": [
    {
     "data": {
      "text/html": [
       "<div>\n",
       "<style scoped>\n",
       "    .dataframe tbody tr th:only-of-type {\n",
       "        vertical-align: middle;\n",
       "    }\n",
       "\n",
       "    .dataframe tbody tr th {\n",
       "        vertical-align: top;\n",
       "    }\n",
       "\n",
       "    .dataframe thead th {\n",
       "        text-align: right;\n",
       "    }\n",
       "</style>\n",
       "<table border=\"1\" class=\"dataframe\">\n",
       "  <thead>\n",
       "    <tr style=\"text-align: right;\">\n",
       "      <th></th>\n",
       "      <th>model</th>\n",
       "      <th>accuracy</th>\n",
       "      <th>precision</th>\n",
       "      <th>recall</th>\n",
       "      <th>f1</th>\n",
       "    </tr>\n",
       "  </thead>\n",
       "  <tbody>\n",
       "    <tr>\n",
       "      <th>0</th>\n",
       "      <td>Logestic Regression</td>\n",
       "      <td>0.802185</td>\n",
       "      <td>0.808725</td>\n",
       "      <td>0.806920</td>\n",
       "      <td>0.807821</td>\n",
       "    </tr>\n",
       "    <tr>\n",
       "      <th>0</th>\n",
       "      <td>SGD Classifier</td>\n",
       "      <td>0.804485</td>\n",
       "      <td>0.783096</td>\n",
       "      <td>0.858259</td>\n",
       "      <td>0.818956</td>\n",
       "    </tr>\n",
       "  </tbody>\n",
       "</table>\n",
       "</div>"
      ],
      "text/plain": [
       "                 model  accuracy  precision    recall        f1\n",
       "0  Logestic Regression  0.802185   0.808725  0.806920  0.807821\n",
       "0       SGD Classifier  0.804485   0.783096  0.858259  0.818956"
      ]
     },
     "execution_count": 47,
     "metadata": {},
     "output_type": "execute_result"
    }
   ],
   "source": [
    "accuracy = accuracy_score(y_test, y_pred)\n",
    "f1 = f1_score(y_test, y_pred)\n",
    "recall = recall_score(y_test, y_pred)\n",
    "precision = precision_score(y_test, y_pred)\n",
    "\n",
    "performance = pd.concat([performance, pd.DataFrame({\"model\": 'SGD Classifier', \"accuracy\": [accuracy], \n",
    "                                                    \"precision\": [precision], \"recall\": [recall], \n",
    "                                                    \"f1\": [f1]})])\n",
    "performance"
   ]
  },
  {
   "cell_type": "markdown",
   "id": "e014cb8b",
   "metadata": {
    "papermill": {
     "duration": 0.033969,
     "end_time": "2023-07-06T19:46:40.960118",
     "exception": false,
     "start_time": "2023-07-06T19:46:40.926149",
     "status": "completed"
    },
    "tags": []
   },
   "source": [
    "# Prediction with Decision Tree (using default parameters)"
   ]
  },
  {
   "cell_type": "code",
   "execution_count": 48,
   "id": "6afddb13",
   "metadata": {
    "execution": {
     "iopub.execute_input": "2023-07-06T19:46:41.019949Z",
     "iopub.status.busy": "2023-07-06T19:46:41.019537Z",
     "iopub.status.idle": "2023-07-06T19:46:41.072011Z",
     "shell.execute_reply": "2023-07-06T19:46:41.070926Z"
    },
    "papermill": {
     "duration": 0.085469,
     "end_time": "2023-07-06T19:46:41.074721",
     "exception": false,
     "start_time": "2023-07-06T19:46:40.989252",
     "status": "completed"
    },
    "tags": []
   },
   "outputs": [],
   "source": [
    "decTree = DecisionTreeClassifier()\n",
    "_ = decTree.fit(X_train, np.ravel(y_train))\n",
    "\n",
    "y_pred = decTree.predict(X_test)"
   ]
  },
  {
   "cell_type": "code",
   "execution_count": 49,
   "id": "9d0bc30f",
   "metadata": {
    "execution": {
     "iopub.execute_input": "2023-07-06T19:46:41.127148Z",
     "iopub.status.busy": "2023-07-06T19:46:41.126789Z",
     "iopub.status.idle": "2023-07-06T19:46:41.350023Z",
     "shell.execute_reply": "2023-07-06T19:46:41.348875Z"
    },
    "papermill": {
     "duration": 0.252173,
     "end_time": "2023-07-06T19:46:41.352476",
     "exception": false,
     "start_time": "2023-07-06T19:46:41.100303",
     "status": "completed"
    },
    "tags": []
   },
   "outputs": [
    {
     "data": {
      "image/png": "[encoded data removed]",
      "text/plain": [
       "<Figure size 300x300 with 2 Axes>"
      ]
     },
     "metadata": {},
     "output_type": "display_data"
    }
   ],
   "source": [
    "# display the confusion matrix\n",
    "matrix = confusion_matrix(y_test, y_pred)\n",
    "display = ConfusionMatrixDisplay(confusion_matrix=matrix)\n",
    "fig,ax = plt.subplots(figsize=(3, 3))\n",
    "display.plot(ax=ax, cmap=plt.cm.Blues)\n",
    "plt.show()\n"
   ]
  },
  {
   "cell_type": "code",
   "execution_count": 50,
   "id": "d4d4733d",
   "metadata": {
    "execution": {
     "iopub.execute_input": "2023-07-06T19:46:41.405090Z",
     "iopub.status.busy": "2023-07-06T19:46:41.404697Z",
     "iopub.status.idle": "2023-07-06T19:46:41.442217Z",
     "shell.execute_reply": "2023-07-06T19:46:41.441158Z"
    },
    "papermill": {
     "duration": 0.067179,
     "end_time": "2023-07-06T19:46:41.445108",
     "exception": false,
     "start_time": "2023-07-06T19:46:41.377929",
     "status": "completed"
    },
    "tags": []
   },
   "outputs": [],
   "source": [
    "accuracy = accuracy_score(y_test, y_pred)\n",
    "f1 = f1_score(y_test, y_pred)\n",
    "recall = recall_score(y_test, y_pred)\n",
    "precision = precision_score(y_test, y_pred)\n",
    "\n",
    "performance = pd.concat([performance, pd.DataFrame({\"model\": 'Decision Tree', \"accuracy\": [accuracy], \n",
    "                                                    \"precision\": [precision], \"recall\": [recall], \n",
    "                                                    \"f1\": [f1]})])"
   ]
  },
  {
   "cell_type": "markdown",
   "id": "c73ca3ed",
   "metadata": {
    "papermill": {
     "duration": 0.025109,
     "end_time": "2023-07-06T19:46:41.495692",
     "exception": false,
     "start_time": "2023-07-06T19:46:41.470583",
     "status": "completed"
    },
    "tags": []
   },
   "source": [
    "# Ensemble Techniques\n",
    "## Prediction with Random Forest (using default parameters)"
   ]
  },
  {
   "cell_type": "code",
   "execution_count": 51,
   "id": "fd5217f7",
   "metadata": {
    "execution": {
     "iopub.execute_input": "2023-07-06T19:46:41.552987Z",
     "iopub.status.busy": "2023-07-06T19:46:41.552583Z",
     "iopub.status.idle": "2023-07-06T19:46:42.589576Z",
     "shell.execute_reply": "2023-07-06T19:46:42.588567Z"
    },
    "papermill": {
     "duration": 1.070962,
     "end_time": "2023-07-06T19:46:42.592419",
     "exception": false,
     "start_time": "2023-07-06T19:46:41.521457",
     "status": "completed"
    },
    "tags": []
   },
   "outputs": [],
   "source": [
    "randForest = RandomForestClassifier()\n",
    "_ = randForest.fit(X_train, np.ravel(y_train))\n",
    "\n",
    "y_pred = randForest.predict(X_test)"
   ]
  },
  {
   "cell_type": "code",
   "execution_count": 52,
   "id": "4d9f35da",
   "metadata": {
    "execution": {
     "iopub.execute_input": "2023-07-06T19:46:42.647013Z",
     "iopub.status.busy": "2023-07-06T19:46:42.646090Z",
     "iopub.status.idle": "2023-07-06T19:46:42.878692Z",
     "shell.execute_reply": "2023-07-06T19:46:42.877437Z"
    },
    "papermill": {
     "duration": 0.262782,
     "end_time": "2023-07-06T19:46:42.881432",
     "exception": false,
     "start_time": "2023-07-06T19:46:42.618650",
     "status": "completed"
    },
    "tags": []
   },
   "outputs": [
    {
     "data": {
      "image/png": "[encoded data removed]",
      "text/plain": [
       "<Figure size 300x300 with 2 Axes>"
      ]
     },
     "metadata": {},
     "output_type": "display_data"
    }
   ],
   "source": [
    "# display the confusion matrix\n",
    "matrix = confusion_matrix(y_test, y_pred)\n",
    "display = ConfusionMatrixDisplay(confusion_matrix=matrix)\n",
    "fig,ax = plt.subplots(figsize=(3, 3))\n",
    "display.plot(ax=ax, cmap=plt.cm.Blues)\n",
    "plt.show()"
   ]
  },
  {
   "cell_type": "code",
   "execution_count": 53,
   "id": "4bb28117",
   "metadata": {
    "execution": {
     "iopub.execute_input": "2023-07-06T19:46:42.935793Z",
     "iopub.status.busy": "2023-07-06T19:46:42.935014Z",
     "iopub.status.idle": "2023-07-06T19:46:42.971782Z",
     "shell.execute_reply": "2023-07-06T19:46:42.970954Z"
    },
    "papermill": {
     "duration": 0.066334,
     "end_time": "2023-07-06T19:46:42.974118",
     "exception": false,
     "start_time": "2023-07-06T19:46:42.907784",
     "status": "completed"
    },
    "tags": []
   },
   "outputs": [],
   "source": [
    "accuracy = accuracy_score(y_test, y_pred)\n",
    "f1 = f1_score(y_test, y_pred)\n",
    "recall = recall_score(y_test, y_pred)\n",
    "precision = precision_score(y_test, y_pred)\n",
    "\n",
    "performance = pd.concat([performance, pd.DataFrame({\"model\": 'Random Forest', \"accuracy\": [accuracy], \n",
    "                                                    \"precision\": [precision], \"recall\": [recall], \n",
    "                                                    \"f1\": [f1]})])"
   ]
  },
  {
   "cell_type": "markdown",
   "id": "d620e285",
   "metadata": {
    "papermill": {
     "duration": 0.025524,
     "end_time": "2023-07-06T19:46:43.026049",
     "exception": false,
     "start_time": "2023-07-06T19:46:43.000525",
     "status": "completed"
    },
    "tags": []
   },
   "source": [
    "## Prediction with ADABoost (using default parameters)"
   ]
  },
  {
   "cell_type": "code",
   "execution_count": 54,
   "id": "a5612597",
   "metadata": {
    "execution": {
     "iopub.execute_input": "2023-07-06T19:46:43.081359Z",
     "iopub.status.busy": "2023-07-06T19:46:43.080539Z",
     "iopub.status.idle": "2023-07-06T19:46:43.520048Z",
     "shell.execute_reply": "2023-07-06T19:46:43.518758Z"
    },
    "papermill": {
     "duration": 0.469243,
     "end_time": "2023-07-06T19:46:43.522663",
     "exception": false,
     "start_time": "2023-07-06T19:46:43.053420",
     "status": "completed"
    },
    "tags": []
   },
   "outputs": [],
   "source": [
    "adaBoost = AdaBoostClassifier()\n",
    "_ = adaBoost.fit(X_train, np.ravel(y_train))\n",
    "\n",
    "y_pred = adaBoost.predict(X_test)"
   ]
  },
  {
   "cell_type": "code",
   "execution_count": 55,
   "id": "d3ca329e",
   "metadata": {
    "execution": {
     "iopub.execute_input": "2023-07-06T19:46:43.578371Z",
     "iopub.status.busy": "2023-07-06T19:46:43.577976Z",
     "iopub.status.idle": "2023-07-06T19:46:43.809157Z",
     "shell.execute_reply": "2023-07-06T19:46:43.807940Z"
    },
    "papermill": {
     "duration": 0.262546,
     "end_time": "2023-07-06T19:46:43.811874",
     "exception": false,
     "start_time": "2023-07-06T19:46:43.549328",
     "status": "completed"
    },
    "tags": []
   },
   "outputs": [
    {
     "data": {
      "image/png": "[encoded data removed]",
      "text/plain": [
       "<Figure size 300x300 with 2 Axes>"
      ]
     },
     "metadata": {},
     "output_type": "display_data"
    }
   ],
   "source": [
    "# display the confusion matrix\n",
    "matrix = confusion_matrix(y_test, y_pred)\n",
    "display = ConfusionMatrixDisplay(confusion_matrix=matrix)\n",
    "fig,ax = plt.subplots(figsize=(3, 3))\n",
    "display.plot(ax=ax, cmap=plt.cm.Blues)\n",
    "plt.show()"
   ]
  },
  {
   "cell_type": "code",
   "execution_count": 56,
   "id": "2a8315e3",
   "metadata": {
    "execution": {
     "iopub.execute_input": "2023-07-06T19:46:43.870713Z",
     "iopub.status.busy": "2023-07-06T19:46:43.870253Z",
     "iopub.status.idle": "2023-07-06T19:46:43.908840Z",
     "shell.execute_reply": "2023-07-06T19:46:43.907715Z"
    },
    "papermill": {
     "duration": 0.070782,
     "end_time": "2023-07-06T19:46:43.911451",
     "exception": false,
     "start_time": "2023-07-06T19:46:43.840669",
     "status": "completed"
    },
    "tags": []
   },
   "outputs": [],
   "source": [
    "accuracy = accuracy_score(y_test, y_pred)\n",
    "f1 = f1_score(y_test, y_pred)\n",
    "recall = recall_score(y_test, y_pred)\n",
    "precision = precision_score(y_test, y_pred)\n",
    "\n",
    "performance = pd.concat([performance, pd.DataFrame({\"model\": 'ADA Boost', \"accuracy\": [accuracy], \n",
    "                                                    \"precision\": [precision], \"recall\": [recall], \n",
    "                                                    \"f1\": [f1]})])"
   ]
  },
  {
   "cell_type": "markdown",
   "id": "87ae01a5",
   "metadata": {
    "papermill": {
     "duration": 0.025633,
     "end_time": "2023-07-06T19:46:43.964054",
     "exception": false,
     "start_time": "2023-07-06T19:46:43.938421",
     "status": "completed"
    },
    "tags": []
   },
   "source": [
    "## Prediction with Gradient Boost (using default parameters)"
   ]
  },
  {
   "cell_type": "code",
   "execution_count": 57,
   "id": "adae52d4",
   "metadata": {
    "execution": {
     "iopub.execute_input": "2023-07-06T19:46:44.019607Z",
     "iopub.status.busy": "2023-07-06T19:46:44.019214Z",
     "iopub.status.idle": "2023-07-06T19:46:45.062960Z",
     "shell.execute_reply": "2023-07-06T19:46:45.061705Z"
    },
    "papermill": {
     "duration": 1.07542,
     "end_time": "2023-07-06T19:46:45.065601",
     "exception": false,
     "start_time": "2023-07-06T19:46:43.990181",
     "status": "completed"
    },
    "tags": []
   },
   "outputs": [],
   "source": [
    "gradBoost = GradientBoostingClassifier()\n",
    "_ = gradBoost.fit(X_train, np.ravel(y_train))\n",
    "\n",
    "y_pred = gradBoost.predict(X_test)"
   ]
  },
  {
   "cell_type": "code",
   "execution_count": 58,
   "id": "d090704b",
   "metadata": {
    "execution": {
     "iopub.execute_input": "2023-07-06T19:46:45.119097Z",
     "iopub.status.busy": "2023-07-06T19:46:45.118735Z",
     "iopub.status.idle": "2023-07-06T19:46:45.529318Z",
     "shell.execute_reply": "2023-07-06T19:46:45.528249Z"
    },
    "papermill": {
     "duration": 0.440307,
     "end_time": "2023-07-06T19:46:45.531786",
     "exception": false,
     "start_time": "2023-07-06T19:46:45.091479",
     "status": "completed"
    },
    "tags": []
   },
   "outputs": [
    {
     "data": {
      "image/png": "[encoded data removed]",
      "text/plain": [
       "<Figure size 300x300 with 2 Axes>"
      ]
     },
     "metadata": {},
     "output_type": "display_data"
    }
   ],
   "source": [
    "# display the confusion matrix\n",
    "matrix = confusion_matrix(y_test, y_pred)\n",
    "display = ConfusionMatrixDisplay(confusion_matrix=matrix)\n",
    "fig,ax = plt.subplots(figsize=(3, 3))\n",
    "display.plot(ax=ax, cmap=plt.cm.Blues)\n",
    "plt.show()"
   ]
  },
  {
   "cell_type": "code",
   "execution_count": 59,
   "id": "0244c0d5",
   "metadata": {
    "execution": {
     "iopub.execute_input": "2023-07-06T19:46:45.585973Z",
     "iopub.status.busy": "2023-07-06T19:46:45.585366Z",
     "iopub.status.idle": "2023-07-06T19:46:45.620987Z",
     "shell.execute_reply": "2023-07-06T19:46:45.619455Z"
    },
    "papermill": {
     "duration": 0.065757,
     "end_time": "2023-07-06T19:46:45.623542",
     "exception": false,
     "start_time": "2023-07-06T19:46:45.557785",
     "status": "completed"
    },
    "tags": []
   },
   "outputs": [],
   "source": [
    "accuracy = accuracy_score(y_test, y_pred)\n",
    "f1 = f1_score(y_test, y_pred)\n",
    "recall = recall_score(y_test, y_pred)\n",
    "precision = precision_score(y_test, y_pred)\n",
    "\n",
    "performance = pd.concat([performance, pd.DataFrame({\"model\": 'Gradient Boost', \"accuracy\": [accuracy], \n",
    "                                                    \"precision\": [precision], \"recall\": [recall], \n",
    "                                                    \"f1\": [f1]})])"
   ]
  },
  {
   "cell_type": "markdown",
   "id": "f15e0d4c",
   "metadata": {
    "papermill": {
     "duration": 0.026189,
     "end_time": "2023-07-06T19:46:45.676928",
     "exception": false,
     "start_time": "2023-07-06T19:46:45.650739",
     "status": "completed"
    },
    "tags": []
   },
   "source": [
    "# Prediction with XG Boost (using default parameters)"
   ]
  },
  {
   "cell_type": "code",
   "execution_count": 60,
   "id": "a3a98525",
   "metadata": {
    "execution": {
     "iopub.execute_input": "2023-07-06T19:46:45.730956Z",
     "iopub.status.busy": "2023-07-06T19:46:45.730373Z",
     "iopub.status.idle": "2023-07-06T19:46:46.481966Z",
     "shell.execute_reply": "2023-07-06T19:46:46.481109Z"
    },
    "papermill": {
     "duration": 0.781742,
     "end_time": "2023-07-06T19:46:46.484478",
     "exception": false,
     "start_time": "2023-07-06T19:46:45.702736",
     "status": "completed"
    },
    "tags": []
   },
   "outputs": [],
   "source": [
    "xgBoost = XGBClassifier()\n",
    "_ = xgBoost.fit(X_train, np.ravel(y_train))\n",
    "\n",
    "y_pred = xgBoost.predict(X_test)"
   ]
  },
  {
   "cell_type": "code",
   "execution_count": 61,
   "id": "a86ab4eb",
   "metadata": {
    "execution": {
     "iopub.execute_input": "2023-07-06T19:46:46.539817Z",
     "iopub.status.busy": "2023-07-06T19:46:46.539369Z",
     "iopub.status.idle": "2023-07-06T19:46:46.771292Z",
     "shell.execute_reply": "2023-07-06T19:46:46.770111Z"
    },
    "papermill": {
     "duration": 0.262863,
     "end_time": "2023-07-06T19:46:46.773782",
     "exception": false,
     "start_time": "2023-07-06T19:46:46.510919",
     "status": "completed"
    },
    "tags": []
   },
   "outputs": [
    {
     "data": {
      "image/png": "[encoded data removed]",
      "text/plain": [
       "<Figure size 300x300 with 2 Axes>"
      ]
     },
     "metadata": {},
     "output_type": "display_data"
    }
   ],
   "source": [
    "# display the confusion matrix\n",
    "matrix = confusion_matrix(y_test, y_pred)\n",
    "display = ConfusionMatrixDisplay(confusion_matrix=matrix)\n",
    "fig,ax = plt.subplots(figsize=(3, 3))\n",
    "display.plot(ax=ax, cmap=plt.cm.Blues)\n",
    "plt.show()"
   ]
  },
  {
   "cell_type": "code",
   "execution_count": 62,
   "id": "1fc0fb64",
   "metadata": {
    "execution": {
     "iopub.execute_input": "2023-07-06T19:46:46.831691Z",
     "iopub.status.busy": "2023-07-06T19:46:46.830634Z",
     "iopub.status.idle": "2023-07-06T19:46:46.876859Z",
     "shell.execute_reply": "2023-07-06T19:46:46.875506Z"
    },
    "papermill": {
     "duration": 0.078405,
     "end_time": "2023-07-06T19:46:46.880468",
     "exception": false,
     "start_time": "2023-07-06T19:46:46.802063",
     "status": "completed"
    },
    "tags": []
   },
   "outputs": [],
   "source": [
    "accuracy = accuracy_score(y_test, y_pred)\n",
    "f1 = f1_score(y_test, y_pred)\n",
    "recall = recall_score(y_test, y_pred)\n",
    "precision = precision_score(y_test, y_pred)\n",
    "\n",
    "performance = pd.concat([performance, pd.DataFrame({\"model\": 'XG Boost', \"accuracy\": [accuracy], \n",
    "                                                    \"precision\": [precision], \"recall\": [recall], \n",
    "                                                    \"f1\": [f1]})])"
   ]
  },
  {
   "cell_type": "markdown",
   "id": "430ecb39",
   "metadata": {
    "papermill": {
     "duration": 0.032284,
     "end_time": "2023-07-06T19:46:46.943028",
     "exception": false,
     "start_time": "2023-07-06T19:46:46.910744",
     "status": "completed"
    },
    "tags": []
   },
   "source": [
    "# Prediction with Neural Networks (using default parameters)"
   ]
  },
  {
   "cell_type": "code",
   "execution_count": 63,
   "id": "0251fb34",
   "metadata": {
    "execution": {
     "iopub.execute_input": "2023-07-06T19:46:47.004233Z",
     "iopub.status.busy": "2023-07-06T19:46:47.002959Z",
     "iopub.status.idle": "2023-07-06T19:47:02.697015Z",
     "shell.execute_reply": "2023-07-06T19:47:02.695808Z"
    },
    "papermill": {
     "duration": 15.726714,
     "end_time": "2023-07-06T19:47:02.700339",
     "exception": false,
     "start_time": "2023-07-06T19:46:46.973625",
     "status": "completed"
    },
    "tags": []
   },
   "outputs": [],
   "source": [
    "NNModel = MLPClassifier(max_iter=1000)\n",
    "_ = NNModel.fit(X_train, np.ravel(y_train))\n",
    "\n",
    "y_pred = NNModel.predict(X_test)"
   ]
  },
  {
   "cell_type": "code",
   "execution_count": 64,
   "id": "695ea865",
   "metadata": {
    "execution": {
     "iopub.execute_input": "2023-07-06T19:47:02.795834Z",
     "iopub.status.busy": "2023-07-06T19:47:02.795240Z",
     "iopub.status.idle": "2023-07-06T19:47:02.991053Z",
     "shell.execute_reply": "2023-07-06T19:47:02.990183Z"
    },
    "papermill": {
     "duration": 0.247231,
     "end_time": "2023-07-06T19:47:02.993412",
     "exception": false,
     "start_time": "2023-07-06T19:47:02.746181",
     "status": "completed"
    },
    "tags": []
   },
   "outputs": [
    {
     "data": {
      "image/png": "[encoded data removed]",
      "text/plain": [
       "<Figure size 300x300 with 2 Axes>"
      ]
     },
     "metadata": {},
     "output_type": "display_data"
    }
   ],
   "source": [
    "# display the confusion matrix\n",
    "matrix = confusion_matrix(y_test, y_pred)\n",
    "display = ConfusionMatrixDisplay(confusion_matrix=matrix)\n",
    "fig,ax = plt.subplots(figsize=(3, 3))\n",
    "display.plot(ax=ax, cmap=plt.cm.Blues)\n",
    "plt.show()"
   ]
  },
  {
   "cell_type": "code",
   "execution_count": 65,
   "id": "3ffe2242",
   "metadata": {
    "execution": {
     "iopub.execute_input": "2023-07-06T19:47:03.050525Z",
     "iopub.status.busy": "2023-07-06T19:47:03.050115Z",
     "iopub.status.idle": "2023-07-06T19:47:03.085140Z",
     "shell.execute_reply": "2023-07-06T19:47:03.084070Z"
    },
    "papermill": {
     "duration": 0.066594,
     "end_time": "2023-07-06T19:47:03.087596",
     "exception": false,
     "start_time": "2023-07-06T19:47:03.021002",
     "status": "completed"
    },
    "tags": []
   },
   "outputs": [],
   "source": [
    "accuracy = accuracy_score(y_test, y_pred)\n",
    "f1 = f1_score(y_test, y_pred)\n",
    "recall = recall_score(y_test, y_pred)\n",
    "precision = precision_score(y_test, y_pred)\n",
    "\n",
    "performance = pd.concat([performance, pd.DataFrame({\"model\": 'Neural Networks', \"accuracy\": [accuracy], \n",
    "                                                    \"precision\": [precision], \"recall\": [recall], \n",
    "                                                    \"f1\": [f1]})])"
   ]
  },
  {
   "cell_type": "code",
   "execution_count": 66,
   "id": "bc64fc64",
   "metadata": {
    "execution": {
     "iopub.execute_input": "2023-07-06T19:47:03.146770Z",
     "iopub.status.busy": "2023-07-06T19:47:03.146399Z",
     "iopub.status.idle": "2023-07-06T19:47:03.158429Z",
     "shell.execute_reply": "2023-07-06T19:47:03.157549Z"
    },
    "papermill": {
     "duration": 0.043527,
     "end_time": "2023-07-06T19:47:03.160480",
     "exception": false,
     "start_time": "2023-07-06T19:47:03.116953",
     "status": "completed"
    },
    "tags": []
   },
   "outputs": [
    {
     "data": {
      "text/html": [
       "<div>\n",
       "<style scoped>\n",
       "    .dataframe tbody tr th:only-of-type {\n",
       "        vertical-align: middle;\n",
       "    }\n",
       "\n",
       "    .dataframe tbody tr th {\n",
       "        vertical-align: top;\n",
       "    }\n",
       "\n",
       "    .dataframe thead th {\n",
       "        text-align: right;\n",
       "    }\n",
       "</style>\n",
       "<table border=\"1\" class=\"dataframe\">\n",
       "  <thead>\n",
       "    <tr style=\"text-align: right;\">\n",
       "      <th></th>\n",
       "      <th>model</th>\n",
       "      <th>accuracy</th>\n",
       "      <th>precision</th>\n",
       "      <th>recall</th>\n",
       "      <th>f1</th>\n",
       "    </tr>\n",
       "  </thead>\n",
       "  <tbody>\n",
       "    <tr>\n",
       "      <th>0</th>\n",
       "      <td>Logestic Regression</td>\n",
       "      <td>0.802185</td>\n",
       "      <td>0.808725</td>\n",
       "      <td>0.806920</td>\n",
       "      <td>0.807821</td>\n",
       "    </tr>\n",
       "    <tr>\n",
       "      <th>0</th>\n",
       "      <td>SGD Classifier</td>\n",
       "      <td>0.804485</td>\n",
       "      <td>0.783096</td>\n",
       "      <td>0.858259</td>\n",
       "      <td>0.818956</td>\n",
       "    </tr>\n",
       "    <tr>\n",
       "      <th>0</th>\n",
       "      <td>Decision Tree</td>\n",
       "      <td>0.743531</td>\n",
       "      <td>0.751116</td>\n",
       "      <td>0.751116</td>\n",
       "      <td>0.751116</td>\n",
       "    </tr>\n",
       "    <tr>\n",
       "      <th>0</th>\n",
       "      <td>Random Forest</td>\n",
       "      <td>0.794135</td>\n",
       "      <td>0.827251</td>\n",
       "      <td>0.758929</td>\n",
       "      <td>0.791618</td>\n",
       "    </tr>\n",
       "    <tr>\n",
       "      <th>0</th>\n",
       "      <td>ADA Boost</td>\n",
       "      <td>0.791834</td>\n",
       "      <td>0.784043</td>\n",
       "      <td>0.822545</td>\n",
       "      <td>0.802832</td>\n",
       "    </tr>\n",
       "    <tr>\n",
       "      <th>0</th>\n",
       "      <td>Gradient Boost</td>\n",
       "      <td>0.806786</td>\n",
       "      <td>0.797240</td>\n",
       "      <td>0.838170</td>\n",
       "      <td>0.817193</td>\n",
       "    </tr>\n",
       "    <tr>\n",
       "      <th>0</th>\n",
       "      <td>XG Boost</td>\n",
       "      <td>0.797010</td>\n",
       "      <td>0.808874</td>\n",
       "      <td>0.793527</td>\n",
       "      <td>0.801127</td>\n",
       "    </tr>\n",
       "    <tr>\n",
       "      <th>0</th>\n",
       "      <td>Neural Networks</td>\n",
       "      <td>0.800460</td>\n",
       "      <td>0.799346</td>\n",
       "      <td>0.818080</td>\n",
       "      <td>0.808605</td>\n",
       "    </tr>\n",
       "  </tbody>\n",
       "</table>\n",
       "</div>"
      ],
      "text/plain": [
       "                 model  accuracy  precision    recall        f1\n",
       "0  Logestic Regression  0.802185   0.808725  0.806920  0.807821\n",
       "0       SGD Classifier  0.804485   0.783096  0.858259  0.818956\n",
       "0        Decision Tree  0.743531   0.751116  0.751116  0.751116\n",
       "0        Random Forest  0.794135   0.827251  0.758929  0.791618\n",
       "0            ADA Boost  0.791834   0.784043  0.822545  0.802832\n",
       "0       Gradient Boost  0.806786   0.797240  0.838170  0.817193\n",
       "0             XG Boost  0.797010   0.808874  0.793527  0.801127\n",
       "0      Neural Networks  0.800460   0.799346  0.818080  0.808605"
      ]
     },
     "execution_count": 66,
     "metadata": {},
     "output_type": "execute_result"
    }
   ],
   "source": [
    "performance"
   ]
  },
  {
   "cell_type": "markdown",
   "id": "181e0615",
   "metadata": {
    "papermill": {
     "duration": 0.026644,
     "end_time": "2023-07-06T19:47:03.213968",
     "exception": false,
     "start_time": "2023-07-06T19:47:03.187324",
     "status": "completed"
    },
    "tags": []
   },
   "source": [
    "# Results Discussion\n",
    "\n",
    "A we can see Ensemble model Gradiant boosting gave me best accuracy so far. Not just accurcy all other score metrics are better for Gradient boosting. But neural networks tend to have more accuracy when trained more. since the final output will be trained on more data I will go with neural networks model."
   ]
  },
  {
   "cell_type": "markdown",
   "id": "51b33dc0",
   "metadata": {
    "papermill": {
     "duration": 0.02688,
     "end_time": "2023-07-06T19:47:03.269716",
     "exception": false,
     "start_time": "2023-07-06T19:47:03.242836",
     "status": "completed"
    },
    "tags": []
   },
   "source": [
    "# Prediction using Gradient Boost with RandonSearchCV"
   ]
  },
  {
   "cell_type": "markdown",
   "id": "ef84e148",
   "metadata": {
    "execution": {
     "iopub.execute_input": "2023-07-05T19:59:43.500587Z",
     "iopub.status.busy": "2023-07-05T19:59:43.500273Z",
     "iopub.status.idle": "2023-07-05T20:08:40.806335Z",
     "shell.execute_reply": "2023-07-05T20:08:40.803692Z",
     "shell.execute_reply.started": "2023-07-05T19:59:43.500559Z"
    },
    "papermill": {
     "duration": 0.026753,
     "end_time": "2023-07-06T19:47:03.323396",
     "exception": false,
     "start_time": "2023-07-06T19:47:03.296643",
     "status": "completed"
    },
    "tags": []
   },
   "source": [
    "score = \"accuracy\"\n",
    "kfolds = 5\n",
    "\n",
    "parameters = {\n",
    "    'hidden_layer_sizes': [ (32,), (64,), (128,), (32,16), (64,32)],\n",
    "    'activation': ['logistic', 'tanh', 'relu'],\n",
    "    'solver': ['adam', 'sgd'],\n",
    "    'alpha': [0, .2, .5, .7, 1],\n",
    "    'learning_rate': ['constant', 'invscaling', 'adaptive'],\n",
    "    'learning_rate_init': [0.0001, 0.001, 0.01],\n",
    "    'max_iter': [9000]\n",
    "}\n",
    "\n",
    "NNModel = MLPClassifier()\n",
    "randomSearch = RandomizedSearchCV(estimator = NNModel, param_distributions=parameters, cv=kfolds, n_iter=1000,\n",
    "                           scoring=score, verbose=0, n_jobs=-1,\n",
    "                           random_state=1, return_train_score=True)\n",
    "\n",
    "_ = randomSearch.fit(X_train, np.ravel(y_train))\n"
   ]
  },
  {
   "cell_type": "markdown",
   "id": "44705fcf",
   "metadata": {
    "execution": {
     "iopub.execute_input": "2023-07-05T20:08:40.810470Z",
     "iopub.status.busy": "2023-07-05T20:08:40.809684Z",
     "iopub.status.idle": "2023-07-05T20:08:40.831542Z",
     "shell.execute_reply": "2023-07-05T20:08:40.829531Z",
     "shell.execute_reply.started": "2023-07-05T20:08:40.810391Z"
    },
    "papermill": {
     "duration": 0.028073,
     "end_time": "2023-07-06T19:47:03.378460",
     "exception": false,
     "start_time": "2023-07-06T19:47:03.350387",
     "status": "completed"
    },
    "tags": []
   },
   "source": [
    "randomBestModel = randomSearch.best_estimator_\n",
    "y_pred = randomBestModel.predict(X_test)"
   ]
  },
  {
   "cell_type": "markdown",
   "id": "3df4c011",
   "metadata": {
    "execution": {
     "iopub.execute_input": "2023-07-05T20:08:40.834575Z",
     "iopub.status.busy": "2023-07-05T20:08:40.833948Z",
     "iopub.status.idle": "2023-07-05T20:08:41.114409Z",
     "shell.execute_reply": "2023-07-05T20:08:41.113413Z",
     "shell.execute_reply.started": "2023-07-05T20:08:40.834516Z"
    },
    "papermill": {
     "duration": 0.026689,
     "end_time": "2023-07-06T19:47:03.432509",
     "exception": false,
     "start_time": "2023-07-06T19:47:03.405820",
     "status": "completed"
    },
    "tags": []
   },
   "source": [
    "# display the confusion matrix\n",
    "matrix = confusion_matrix(y_test, y_pred)\n",
    "display = ConfusionMatrixDisplay(confusion_matrix=matrix)\n",
    "fig,ax = plt.subplots(figsize=(3, 3))\n",
    "display.plot(ax=ax, cmap=plt.cm.Blues)\n",
    "plt.show()"
   ]
  },
  {
   "cell_type": "markdown",
   "id": "85c1fefb",
   "metadata": {
    "execution": {
     "iopub.execute_input": "2023-07-05T20:08:41.115984Z",
     "iopub.status.busy": "2023-07-05T20:08:41.115657Z",
     "iopub.status.idle": "2023-07-05T20:08:41.156570Z",
     "shell.execute_reply": "2023-07-05T20:08:41.155583Z",
     "shell.execute_reply.started": "2023-07-05T20:08:41.115948Z"
    },
    "papermill": {
     "duration": 0.026704,
     "end_time": "2023-07-06T19:47:03.486087",
     "exception": false,
     "start_time": "2023-07-06T19:47:03.459383",
     "status": "completed"
    },
    "tags": []
   },
   "source": [
    "accuracy = accuracy_score(y_test, y_pred)\n",
    "f1 = f1_score(y_test, y_pred)\n",
    "recall = recall_score(y_test, y_pred)\n",
    "precision = precision_score(y_test, y_pred)\n",
    "\n",
    "performance = pd.concat([performance, pd.DataFrame({\"model\": 'Random Search on G Boost', \"accuracy\": [accuracy], \n",
    "                                                    \"precision\": [precision], \"recall\": [recall], \n",
    "                                                    \"f1\": [f1]})])"
   ]
  },
  {
   "cell_type": "markdown",
   "id": "58511612",
   "metadata": {
    "execution": {
     "iopub.execute_input": "2023-07-05T20:08:41.158183Z",
     "iopub.status.busy": "2023-07-05T20:08:41.157833Z",
     "iopub.status.idle": "2023-07-05T20:08:41.172475Z",
     "shell.execute_reply": "2023-07-05T20:08:41.171600Z",
     "shell.execute_reply.started": "2023-07-05T20:08:41.158151Z"
    },
    "papermill": {
     "duration": 0.026883,
     "end_time": "2023-07-06T19:47:03.540077",
     "exception": false,
     "start_time": "2023-07-06T19:47:03.513194",
     "status": "completed"
    },
    "tags": []
   },
   "source": [
    "performance"
   ]
  },
  {
   "cell_type": "markdown",
   "id": "38111ce9",
   "metadata": {
    "papermill": {
     "duration": 0.026788,
     "end_time": "2023-07-06T19:47:03.595390",
     "exception": false,
     "start_time": "2023-07-06T19:47:03.568602",
     "status": "completed"
    },
    "tags": []
   },
   "source": [
    "# Prediction using Gradient Boost with GridSearchCV"
   ]
  },
  {
   "cell_type": "markdown",
   "id": "4fd06f86",
   "metadata": {
    "execution": {
     "iopub.execute_input": "2023-07-04T22:45:05.930377Z",
     "iopub.status.busy": "2023-07-04T22:45:05.930106Z",
     "iopub.status.idle": "2023-07-04T22:48:00.436528Z",
     "shell.execute_reply": "2023-07-04T22:48:00.435247Z",
     "shell.execute_reply.started": "2023-07-04T22:45:05.930353Z"
    },
    "papermill": {
     "duration": 0.026704,
     "end_time": "2023-07-06T19:47:03.649744",
     "exception": false,
     "start_time": "2023-07-06T19:47:03.623040",
     "status": "completed"
    },
    "tags": []
   },
   "source": [
    "score = \"accuracy\"\n",
    "\n",
    "kfolds = 5\n",
    "min_samples_split = randomSearch.best_params_['min_samples_split']\n",
    "min_samples_leaf = randomSearch.best_params_['min_samples_leaf']\n",
    "min_impurity_decrease = randomSearch.best_params_['min_impurity_decrease']\n",
    "max_leaf_nodes = randomSearch.best_params_['max_leaf_nodes']\n",
    "max_depth = randomSearch.best_params_['max_depth']\n",
    "criterion = randomSearch.best_params_['criterion']\n",
    "\n",
    "parameters = {\n",
    "    'min_samples_split': np.arange(min_samples_split-2,min_samples_split+2),  \n",
    "    'min_samples_leaf': np.arange(min_samples_leaf-2,min_samples_leaf+2),\n",
    "    'min_impurity_decrease': np.arange(min_impurity_decrease-0.0001, min_impurity_decrease+0.0001, 0.00005),\n",
    "    'max_leaf_nodes': np.arange(max_leaf_nodes-2,max_leaf_nodes+2), \n",
    "    'max_depth': np.arange(max_depth-2,max_depth+2), \n",
    "    'criterion': [criterion]\n",
    "}\n",
    "\n",
    "gridSearch = GridSearchCV(estimator = gradBoost, param_grid=parameters, cv=kfolds, \n",
    "                           scoring=score, verbose=1, n_jobs=-1,  # n_jobs=-1 will utilize all available CPUs \n",
    "                           return_train_score=True)\n",
    "\n",
    "_ = gridSearch.fit(X_train, np.ravel(y_train))\n"
   ]
  },
  {
   "cell_type": "markdown",
   "id": "418cc002",
   "metadata": {
    "execution": {
     "iopub.execute_input": "2023-07-04T22:48:00.438188Z",
     "iopub.status.busy": "2023-07-04T22:48:00.437878Z",
     "iopub.status.idle": "2023-07-04T22:48:00.452107Z",
     "shell.execute_reply": "2023-07-04T22:48:00.451125Z",
     "shell.execute_reply.started": "2023-07-04T22:48:00.438160Z"
    },
    "papermill": {
     "duration": 0.027204,
     "end_time": "2023-07-06T19:47:03.704718",
     "exception": false,
     "start_time": "2023-07-06T19:47:03.677514",
     "status": "completed"
    },
    "tags": []
   },
   "source": [
    "gridBestModel = gridSearch.best_estimator_\n",
    "y_pred = gridBestModel.predict(X_test)"
   ]
  },
  {
   "cell_type": "markdown",
   "id": "14634d8f",
   "metadata": {
    "execution": {
     "iopub.execute_input": "2023-07-04T22:48:00.453656Z",
     "iopub.status.busy": "2023-07-04T22:48:00.453328Z",
     "iopub.status.idle": "2023-07-04T22:48:00.665392Z",
     "shell.execute_reply": "2023-07-04T22:48:00.664541Z",
     "shell.execute_reply.started": "2023-07-04T22:48:00.453627Z"
    },
    "papermill": {
     "duration": 0.026676,
     "end_time": "2023-07-06T19:47:03.758309",
     "exception": false,
     "start_time": "2023-07-06T19:47:03.731633",
     "status": "completed"
    },
    "tags": []
   },
   "source": [
    "# display the confusion matrix\n",
    "matrix = confusion_matrix(y_test, y_pred)\n",
    "display = ConfusionMatrixDisplay(confusion_matrix=matrix)\n",
    "fig,ax = plt.subplots(figsize=(3, 3))\n",
    "display.plot(ax=ax, cmap=plt.cm.Blues)\n",
    "plt.show()"
   ]
  },
  {
   "cell_type": "markdown",
   "id": "2eb409a6",
   "metadata": {
    "execution": {
     "iopub.execute_input": "2023-07-04T22:48:00.667036Z",
     "iopub.status.busy": "2023-07-04T22:48:00.666704Z",
     "iopub.status.idle": "2023-07-04T22:48:00.704630Z",
     "shell.execute_reply": "2023-07-04T22:48:00.703812Z",
     "shell.execute_reply.started": "2023-07-04T22:48:00.667005Z"
    },
    "papermill": {
     "duration": 0.026766,
     "end_time": "2023-07-06T19:47:03.813142",
     "exception": false,
     "start_time": "2023-07-06T19:47:03.786376",
     "status": "completed"
    },
    "tags": []
   },
   "source": [
    "accuracy = accuracy_score(y_test, y_pred)\n",
    "f1 = f1_score(y_test, y_pred)\n",
    "recall = recall_score(y_test, y_pred)\n",
    "precision = precision_score(y_test, y_pred)\n",
    "\n",
    "performance = pd.concat([performance, pd.DataFrame({\"model\": 'Grid Search on G Boost', \"accuracy\": [accuracy], \n",
    "                                                    \"precision\": [precision], \"recall\": [recall], \n",
    "                                                    \"f1\": [f1]})])\n"
   ]
  },
  {
   "cell_type": "markdown",
   "id": "f6278544",
   "metadata": {
    "papermill": {
     "duration": 0.027509,
     "end_time": "2023-07-06T19:47:03.868194",
     "exception": false,
     "start_time": "2023-07-06T19:47:03.840685",
     "status": "completed"
    },
    "tags": []
   },
   "source": [
    "# Final Results"
   ]
  },
  {
   "cell_type": "markdown",
   "id": "4ac79b58",
   "metadata": {
    "execution": {
     "iopub.execute_input": "2023-07-04T22:48:00.706146Z",
     "iopub.status.busy": "2023-07-04T22:48:00.705784Z",
     "iopub.status.idle": "2023-07-04T22:48:00.719899Z",
     "shell.execute_reply": "2023-07-04T22:48:00.719042Z",
     "shell.execute_reply.started": "2023-07-04T22:48:00.706115Z"
    },
    "papermill": {
     "duration": 0.026697,
     "end_time": "2023-07-06T19:47:03.921854",
     "exception": false,
     "start_time": "2023-07-06T19:47:03.895157",
     "status": "completed"
    },
    "tags": []
   },
   "source": [
    "performance"
   ]
  },
  {
   "cell_type": "markdown",
   "id": "f5cd9c51",
   "metadata": {
    "papermill": {
     "duration": 0.026776,
     "end_time": "2023-07-06T19:47:03.976537",
     "exception": false,
     "start_time": "2023-07-06T19:47:03.949761",
     "status": "completed"
    },
    "tags": []
   },
   "source": [
    "# Loading Unscored Data"
   ]
  },
  {
   "cell_type": "code",
   "execution_count": 67,
   "id": "7de98e47",
   "metadata": {
    "execution": {
     "iopub.execute_input": "2023-07-06T19:47:04.032615Z",
     "iopub.status.busy": "2023-07-06T19:47:04.032191Z",
     "iopub.status.idle": "2023-07-06T19:47:04.051888Z",
     "shell.execute_reply": "2023-07-06T19:47:04.050783Z"
    },
    "papermill": {
     "duration": 0.050545,
     "end_time": "2023-07-06T19:47:04.054077",
     "exception": false,
     "start_time": "2023-07-06T19:47:04.003532",
     "status": "completed"
    },
    "tags": []
   },
   "outputs": [
    {
     "data": {
      "text/html": [
       "<div>\n",
       "<style scoped>\n",
       "    .dataframe tbody tr th:only-of-type {\n",
       "        vertical-align: middle;\n",
       "    }\n",
       "\n",
       "    .dataframe tbody tr th {\n",
       "        vertical-align: top;\n",
       "    }\n",
       "\n",
       "    .dataframe thead th {\n",
       "        text-align: right;\n",
       "    }\n",
       "</style>\n",
       "<table border=\"1\" class=\"dataframe\">\n",
       "  <thead>\n",
       "    <tr style=\"text-align: right;\">\n",
       "      <th></th>\n",
       "      <th>CryoSleep</th>\n",
       "      <th>Age</th>\n",
       "      <th>VIP</th>\n",
       "      <th>RoomService</th>\n",
       "      <th>FoodCourt</th>\n",
       "      <th>ShoppingMall</th>\n",
       "      <th>Spa</th>\n",
       "      <th>VRDeck</th>\n",
       "      <th>Transported</th>\n",
       "      <th>HomePlanet_Earth</th>\n",
       "      <th>...</th>\n",
       "      <th>CabinDeck_G</th>\n",
       "      <th>CabinDeck_T</th>\n",
       "      <th>CabinDeck_unknown</th>\n",
       "      <th>CabinSide_P</th>\n",
       "      <th>CabinSide_S</th>\n",
       "      <th>CabinSide_unknown</th>\n",
       "      <th>Destination_55 Cancri e</th>\n",
       "      <th>Destination_PSO J318.5-22</th>\n",
       "      <th>Destination_TRAPPIST-1e</th>\n",
       "      <th>Destination_unknown</th>\n",
       "    </tr>\n",
       "  </thead>\n",
       "  <tbody>\n",
       "    <tr>\n",
       "      <th>0</th>\n",
       "      <td>0</td>\n",
       "      <td>0.711945</td>\n",
       "      <td>0</td>\n",
       "      <td>-0.333105</td>\n",
       "      <td>-0.281027</td>\n",
       "      <td>-0.283579</td>\n",
       "      <td>-0.270626</td>\n",
       "      <td>-0.263003</td>\n",
       "      <td>0</td>\n",
       "      <td>0</td>\n",
       "      <td>...</td>\n",
       "      <td>0</td>\n",
       "      <td>0</td>\n",
       "      <td>0</td>\n",
       "      <td>1</td>\n",
       "      <td>0</td>\n",
       "      <td>0</td>\n",
       "      <td>0</td>\n",
       "      <td>0</td>\n",
       "      <td>1</td>\n",
       "      <td>0</td>\n",
       "    </tr>\n",
       "    <tr>\n",
       "      <th>1</th>\n",
       "      <td>0</td>\n",
       "      <td>-0.334037</td>\n",
       "      <td>0</td>\n",
       "      <td>-0.168073</td>\n",
       "      <td>-0.275387</td>\n",
       "      <td>-0.241771</td>\n",
       "      <td>0.217158</td>\n",
       "      <td>-0.224205</td>\n",
       "      <td>1</td>\n",
       "      <td>1</td>\n",
       "      <td>...</td>\n",
       "      <td>0</td>\n",
       "      <td>0</td>\n",
       "      <td>0</td>\n",
       "      <td>0</td>\n",
       "      <td>1</td>\n",
       "      <td>0</td>\n",
       "      <td>0</td>\n",
       "      <td>0</td>\n",
       "      <td>1</td>\n",
       "      <td>0</td>\n",
       "    </tr>\n",
       "    <tr>\n",
       "      <th>2</th>\n",
       "      <td>0</td>\n",
       "      <td>2.036857</td>\n",
       "      <td>1</td>\n",
       "      <td>-0.268001</td>\n",
       "      <td>1.959998</td>\n",
       "      <td>-0.283579</td>\n",
       "      <td>5.695623</td>\n",
       "      <td>-0.219796</td>\n",
       "      <td>0</td>\n",
       "      <td>0</td>\n",
       "      <td>...</td>\n",
       "      <td>0</td>\n",
       "      <td>0</td>\n",
       "      <td>0</td>\n",
       "      <td>0</td>\n",
       "      <td>1</td>\n",
       "      <td>0</td>\n",
       "      <td>0</td>\n",
       "      <td>0</td>\n",
       "      <td>1</td>\n",
       "      <td>0</td>\n",
       "    </tr>\n",
       "  </tbody>\n",
       "</table>\n",
       "<p>3 rows × 29 columns</p>\n",
       "</div>"
      ],
      "text/plain": [
       "   CryoSleep       Age  VIP  RoomService  FoodCourt  ShoppingMall       Spa  \\\n",
       "0          0  0.711945    0    -0.333105  -0.281027     -0.283579 -0.270626   \n",
       "1          0 -0.334037    0    -0.168073  -0.275387     -0.241771  0.217158   \n",
       "2          0  2.036857    1    -0.268001   1.959998     -0.283579  5.695623   \n",
       "\n",
       "     VRDeck  Transported  HomePlanet_Earth  ...  CabinDeck_G  CabinDeck_T  \\\n",
       "0 -0.263003            0                 0  ...            0            0   \n",
       "1 -0.224205            1                 1  ...            0            0   \n",
       "2 -0.219796            0                 0  ...            0            0   \n",
       "\n",
       "   CabinDeck_unknown  CabinSide_P  CabinSide_S  CabinSide_unknown  \\\n",
       "0                  0            1            0                  0   \n",
       "1                  0            0            1                  0   \n",
       "2                  0            0            1                  0   \n",
       "\n",
       "   Destination_55 Cancri e  Destination_PSO J318.5-22  \\\n",
       "0                        0                          0   \n",
       "1                        0                          0   \n",
       "2                        0                          0   \n",
       "\n",
       "   Destination_TRAPPIST-1e  Destination_unknown  \n",
       "0                        1                    0  \n",
       "1                        1                    0  \n",
       "2                        1                    0  \n",
       "\n",
       "[3 rows x 29 columns]"
      ]
     },
     "execution_count": 67,
     "metadata": {},
     "output_type": "execute_result"
    }
   ],
   "source": [
    "shipData.head(3)"
   ]
  },
  {
   "cell_type": "code",
   "execution_count": 68,
   "id": "79006176",
   "metadata": {
    "execution": {
     "iopub.execute_input": "2023-07-06T19:47:04.113736Z",
     "iopub.status.busy": "2023-07-06T19:47:04.113344Z",
     "iopub.status.idle": "2023-07-06T19:47:04.135174Z",
     "shell.execute_reply": "2023-07-06T19:47:04.134078Z"
    },
    "papermill": {
     "duration": 0.055976,
     "end_time": "2023-07-06T19:47:04.137576",
     "exception": false,
     "start_time": "2023-07-06T19:47:04.081600",
     "status": "completed"
    },
    "tags": []
   },
   "outputs": [
    {
     "data": {
      "text/html": [
       "<div>\n",
       "<style scoped>\n",
       "    .dataframe tbody tr th:only-of-type {\n",
       "        vertical-align: middle;\n",
       "    }\n",
       "\n",
       "    .dataframe tbody tr th {\n",
       "        vertical-align: top;\n",
       "    }\n",
       "\n",
       "    .dataframe thead th {\n",
       "        text-align: right;\n",
       "    }\n",
       "</style>\n",
       "<table border=\"1\" class=\"dataframe\">\n",
       "  <thead>\n",
       "    <tr style=\"text-align: right;\">\n",
       "      <th></th>\n",
       "      <th>CryoSleep</th>\n",
       "      <th>Age</th>\n",
       "      <th>VIP</th>\n",
       "      <th>RoomService</th>\n",
       "      <th>FoodCourt</th>\n",
       "      <th>ShoppingMall</th>\n",
       "      <th>Spa</th>\n",
       "      <th>VRDeck</th>\n",
       "      <th>HomePlanet_Earth</th>\n",
       "      <th>HomePlanet_Europa</th>\n",
       "      <th>...</th>\n",
       "      <th>CabinDeck_G</th>\n",
       "      <th>CabinDeck_T</th>\n",
       "      <th>CabinDeck_unknown</th>\n",
       "      <th>CabinSide_P</th>\n",
       "      <th>CabinSide_S</th>\n",
       "      <th>CabinSide_unknown</th>\n",
       "      <th>Destination_55 Cancri e</th>\n",
       "      <th>Destination_PSO J318.5-22</th>\n",
       "      <th>Destination_TRAPPIST-1e</th>\n",
       "      <th>Destination_unknown</th>\n",
       "    </tr>\n",
       "  </thead>\n",
       "  <tbody>\n",
       "    <tr>\n",
       "      <th>0</th>\n",
       "      <td>1</td>\n",
       "      <td>-0.114147</td>\n",
       "      <td>0</td>\n",
       "      <td>-0.357339</td>\n",
       "      <td>-0.283840</td>\n",
       "      <td>-0.312173</td>\n",
       "      <td>-0.267841</td>\n",
       "      <td>-0.246712</td>\n",
       "      <td>1</td>\n",
       "      <td>0</td>\n",
       "      <td>...</td>\n",
       "      <td>1</td>\n",
       "      <td>0</td>\n",
       "      <td>0</td>\n",
       "      <td>0</td>\n",
       "      <td>1</td>\n",
       "      <td>0</td>\n",
       "      <td>0</td>\n",
       "      <td>0</td>\n",
       "      <td>1</td>\n",
       "      <td>0</td>\n",
       "    </tr>\n",
       "    <tr>\n",
       "      <th>1</th>\n",
       "      <td>0</td>\n",
       "      <td>-0.684313</td>\n",
       "      <td>0</td>\n",
       "      <td>-0.357339</td>\n",
       "      <td>-0.277879</td>\n",
       "      <td>-0.312173</td>\n",
       "      <td>2.287504</td>\n",
       "      <td>-0.246712</td>\n",
       "      <td>1</td>\n",
       "      <td>0</td>\n",
       "      <td>...</td>\n",
       "      <td>0</td>\n",
       "      <td>0</td>\n",
       "      <td>0</td>\n",
       "      <td>0</td>\n",
       "      <td>1</td>\n",
       "      <td>0</td>\n",
       "      <td>0</td>\n",
       "      <td>0</td>\n",
       "      <td>1</td>\n",
       "      <td>0</td>\n",
       "    </tr>\n",
       "    <tr>\n",
       "      <th>2</th>\n",
       "      <td>1</td>\n",
       "      <td>0.170937</td>\n",
       "      <td>0</td>\n",
       "      <td>-0.357339</td>\n",
       "      <td>-0.283840</td>\n",
       "      <td>-0.312173</td>\n",
       "      <td>-0.267841</td>\n",
       "      <td>-0.246712</td>\n",
       "      <td>0</td>\n",
       "      <td>1</td>\n",
       "      <td>...</td>\n",
       "      <td>0</td>\n",
       "      <td>0</td>\n",
       "      <td>0</td>\n",
       "      <td>0</td>\n",
       "      <td>1</td>\n",
       "      <td>0</td>\n",
       "      <td>1</td>\n",
       "      <td>0</td>\n",
       "      <td>0</td>\n",
       "      <td>0</td>\n",
       "    </tr>\n",
       "  </tbody>\n",
       "</table>\n",
       "<p>3 rows × 28 columns</p>\n",
       "</div>"
      ],
      "text/plain": [
       "   CryoSleep       Age  VIP  RoomService  FoodCourt  ShoppingMall       Spa  \\\n",
       "0          1 -0.114147    0    -0.357339  -0.283840     -0.312173 -0.267841   \n",
       "1          0 -0.684313    0    -0.357339  -0.277879     -0.312173  2.287504   \n",
       "2          1  0.170937    0    -0.357339  -0.283840     -0.312173 -0.267841   \n",
       "\n",
       "     VRDeck  HomePlanet_Earth  HomePlanet_Europa  ...  CabinDeck_G  \\\n",
       "0 -0.246712                 1                  0  ...            1   \n",
       "1 -0.246712                 1                  0  ...            0   \n",
       "2 -0.246712                 0                  1  ...            0   \n",
       "\n",
       "   CabinDeck_T  CabinDeck_unknown  CabinSide_P  CabinSide_S  \\\n",
       "0            0                  0            0            1   \n",
       "1            0                  0            0            1   \n",
       "2            0                  0            0            1   \n",
       "\n",
       "   CabinSide_unknown  Destination_55 Cancri e  Destination_PSO J318.5-22  \\\n",
       "0                  0                        0                          0   \n",
       "1                  0                        0                          0   \n",
       "2                  0                        1                          0   \n",
       "\n",
       "   Destination_TRAPPIST-1e  Destination_unknown  \n",
       "0                        1                    0  \n",
       "1                        1                    0  \n",
       "2                        0                    0  \n",
       "\n",
       "[3 rows x 28 columns]"
      ]
     },
     "execution_count": 68,
     "metadata": {},
     "output_type": "execute_result"
    }
   ],
   "source": [
    "outData.head(3)"
   ]
  },
  {
   "cell_type": "markdown",
   "id": "7ffc5e7e",
   "metadata": {
    "papermill": {
     "duration": 0.027159,
     "end_time": "2023-07-06T19:47:04.193110",
     "exception": false,
     "start_time": "2023-07-06T19:47:04.165951",
     "status": "completed"
    },
    "tags": []
   },
   "source": [
    "# Preprocessing unscored data"
   ]
  },
  {
   "cell_type": "markdown",
   "id": "9fea8ec9",
   "metadata": {
    "papermill": {
     "duration": 0.029357,
     "end_time": "2023-07-06T19:47:04.249866",
     "exception": false,
     "start_time": "2023-07-06T19:47:04.220509",
     "status": "completed"
    },
    "tags": []
   },
   "source": [
    "# Generating our predicted profiles and adding them to unscored dataset"
   ]
  },
  {
   "cell_type": "code",
   "execution_count": 69,
   "id": "fe0f6498",
   "metadata": {
    "execution": {
     "iopub.execute_input": "2023-07-06T19:47:04.307126Z",
     "iopub.status.busy": "2023-07-06T19:47:04.306040Z",
     "iopub.status.idle": "2023-07-06T19:47:33.119032Z",
     "shell.execute_reply": "2023-07-06T19:47:33.117751Z"
    },
    "papermill": {
     "duration": 28.845155,
     "end_time": "2023-07-06T19:47:33.122485",
     "exception": false,
     "start_time": "2023-07-06T19:47:04.277330",
     "status": "completed"
    },
    "tags": []
   },
   "outputs": [],
   "source": [
    "finalModel = MLPClassifier(max_iter=1000)\n",
    "_ = finalModel.fit(shipData_X, np.ravel(shipData_y))"
   ]
  },
  {
   "cell_type": "code",
   "execution_count": 70,
   "id": "e700ea46",
   "metadata": {
    "execution": {
     "iopub.execute_input": "2023-07-06T19:47:33.219807Z",
     "iopub.status.busy": "2023-07-06T19:47:33.219239Z",
     "iopub.status.idle": "2023-07-06T19:47:33.236141Z",
     "shell.execute_reply": "2023-07-06T19:47:33.234639Z"
    },
    "papermill": {
     "duration": 0.07005,
     "end_time": "2023-07-06T19:47:33.240965",
     "exception": false,
     "start_time": "2023-07-06T19:47:33.170915",
     "status": "completed"
    },
    "tags": []
   },
   "outputs": [],
   "source": [
    "predictedOutput = finalModel.predict(outData).astype(bool)"
   ]
  },
  {
   "cell_type": "code",
   "execution_count": 71,
   "id": "6c50656b",
   "metadata": {
    "execution": {
     "iopub.execute_input": "2023-07-06T19:47:33.341039Z",
     "iopub.status.busy": "2023-07-06T19:47:33.340516Z",
     "iopub.status.idle": "2023-07-06T19:47:33.347668Z",
     "shell.execute_reply": "2023-07-06T19:47:33.346429Z"
    },
    "papermill": {
     "duration": 0.060093,
     "end_time": "2023-07-06T19:47:33.351844",
     "exception": false,
     "start_time": "2023-07-06T19:47:33.291751",
     "status": "completed"
    },
    "tags": []
   },
   "outputs": [],
   "source": [
    "output_evaluation = pd.DataFrame({'PassengerId': outDataRaw['PassengerId'], 'Transported': predictedOutput}) "
   ]
  },
  {
   "cell_type": "code",
   "execution_count": 72,
   "id": "637665cf",
   "metadata": {
    "execution": {
     "iopub.execute_input": "2023-07-06T19:47:33.409556Z",
     "iopub.status.busy": "2023-07-06T19:47:33.409154Z",
     "iopub.status.idle": "2023-07-06T19:47:33.419267Z",
     "shell.execute_reply": "2023-07-06T19:47:33.418181Z"
    },
    "papermill": {
     "duration": 0.040945,
     "end_time": "2023-07-06T19:47:33.421244",
     "exception": false,
     "start_time": "2023-07-06T19:47:33.380299",
     "status": "completed"
    },
    "tags": []
   },
   "outputs": [
    {
     "data": {
      "text/html": [
       "<div>\n",
       "<style scoped>\n",
       "    .dataframe tbody tr th:only-of-type {\n",
       "        vertical-align: middle;\n",
       "    }\n",
       "\n",
       "    .dataframe tbody tr th {\n",
       "        vertical-align: top;\n",
       "    }\n",
       "\n",
       "    .dataframe thead th {\n",
       "        text-align: right;\n",
       "    }\n",
       "</style>\n",
       "<table border=\"1\" class=\"dataframe\">\n",
       "  <thead>\n",
       "    <tr style=\"text-align: right;\">\n",
       "      <th></th>\n",
       "      <th>PassengerId</th>\n",
       "      <th>Transported</th>\n",
       "    </tr>\n",
       "  </thead>\n",
       "  <tbody>\n",
       "    <tr>\n",
       "      <th>0</th>\n",
       "      <td>0013_01</td>\n",
       "      <td>True</td>\n",
       "    </tr>\n",
       "    <tr>\n",
       "      <th>1</th>\n",
       "      <td>0018_01</td>\n",
       "      <td>False</td>\n",
       "    </tr>\n",
       "    <tr>\n",
       "      <th>2</th>\n",
       "      <td>0019_01</td>\n",
       "      <td>True</td>\n",
       "    </tr>\n",
       "    <tr>\n",
       "      <th>3</th>\n",
       "      <td>0021_01</td>\n",
       "      <td>True</td>\n",
       "    </tr>\n",
       "    <tr>\n",
       "      <th>4</th>\n",
       "      <td>0023_01</td>\n",
       "      <td>True</td>\n",
       "    </tr>\n",
       "  </tbody>\n",
       "</table>\n",
       "</div>"
      ],
      "text/plain": [
       "  PassengerId  Transported\n",
       "0     0013_01         True\n",
       "1     0018_01        False\n",
       "2     0019_01         True\n",
       "3     0021_01         True\n",
       "4     0023_01         True"
      ]
     },
     "execution_count": 72,
     "metadata": {},
     "output_type": "execute_result"
    }
   ],
   "source": [
    "output_evaluation.head(5)"
   ]
  },
  {
   "cell_type": "markdown",
   "id": "f84c2b64",
   "metadata": {
    "papermill": {
     "duration": 0.028394,
     "end_time": "2023-07-06T19:47:33.477130",
     "exception": false,
     "start_time": "2023-07-06T19:47:33.448736",
     "status": "completed"
    },
    "tags": []
   },
   "source": [
    "# Saving our new dataset into CSV files."
   ]
  },
  {
   "cell_type": "code",
   "execution_count": 73,
   "id": "4f9add3d",
   "metadata": {
    "execution": {
     "iopub.execute_input": "2023-07-06T19:47:33.534495Z",
     "iopub.status.busy": "2023-07-06T19:47:33.533883Z",
     "iopub.status.idle": "2023-07-06T19:47:33.551100Z",
     "shell.execute_reply": "2023-07-06T19:47:33.549754Z"
    },
    "papermill": {
     "duration": 0.048921,
     "end_time": "2023-07-06T19:47:33.553829",
     "exception": false,
     "start_time": "2023-07-06T19:47:33.504908",
     "status": "completed"
    },
    "tags": []
   },
   "outputs": [],
   "source": [
    "output_evaluation.to_csv('/kaggle/working/submission.csv', index=False)"
   ]
  }
 ],
 "metadata": {
  "kernelspec": {
   "display_name": "Python 3",
   "language": "python",
   "name": "python3"
  },
  "language_info": {
   "codemirror_mode": {
    "name": "ipython",
    "version": 3
   },
   "file_extension": ".py",
   "mimetype": "text/x-python",
   "name": "python",
   "nbconvert_exporter": "python",
   "pygments_lexer": "ipython3",
   "version": "3.10.10"
  },
  "papermill": {
   "default_parameters": {},
   "duration": 83.747212,
   "end_time": "2023-07-06T19:47:34.705668",
   "environment_variables": {},
   "exception": null,
   "input_path": "__notebook__.ipynb",
   "output_path": "__notebook__.ipynb",
   "parameters": {},
   "start_time": "2023-07-06T19:46:10.958456",
   "version": "2.4.0"
  }
 },
 "nbformat": 4,
 "nbformat_minor": 5
}
