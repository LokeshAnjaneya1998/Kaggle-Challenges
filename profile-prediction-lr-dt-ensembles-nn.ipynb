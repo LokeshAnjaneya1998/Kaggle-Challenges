{
 "cells": [
  {
   "attachments": {},
   "cell_type": "markdown",
   "id": "b2729c65",
   "metadata": {},
   "source": [
    "Kaggle data link - https://www.kaggle.com/datasets/scarecrow2020/tech-students-profile-prediction\n",
    "\n",
    "Kaggle notebook linkc - https://www.kaggle.com/code/lokeshanjaneya/profile-prediction-lr-dt-ensembles-nn\n",
    "\n",
    "About Dataset and challenge\n",
    "Context\n",
    "This data is from IBM Maratona, distributed using Apache License 2.0.\n",
    "Tortuga Code is an online educational platform, oriented over programing and technology.\n",
    "Tortuga Code is looking for and recommended system that show to students an specific cataloged depending of his developer profile.\n",
    "\n",
    "Content\n",
    "Features (X)\n",
    "Unnamed: 0 - Useless column\n",
    "NAME - Name of the student\n",
    "USER_ID - ID for each student\n",
    "HOURS_DATASCIENCE - Numbers of hours studied data science courses\n",
    "HOURS_BACKEND - Numbers of hours studied web (Back-End)\n",
    "HOURS_FRONTEND - Numbers of hours studied web (Front-End)\n",
    "NUM_COURSES_BEGINNER_DATASCIENCE - Numbers of beginner courses of Data Science completed by the student\n",
    "NUM_COURSES_BEGINNER_BACKEND - Numbers of beginner courses of Web (Back-End) completed by the student\n",
    "NUM_COURSES_BEGINNER_FRONTEND - Numbers of beginner courses of Web (Front-End) completed by the student\n",
    "NUM_COURSES_ADVANCED_DATASCIENCE -Numbers of advanced courses of Data Science completed by the student\n",
    "NUM_COURSES_ADVANCED_BACKEND - Numbers of advanced courses of Web (Back-End) completed by the student\n",
    "NUM_COURSES_ADVANCED_FRONTEND - Numbers of advanced courses of Web (Front-End) completed by the student\n",
    "AVG_SCORE_DATASCIENCE - Average score in Data Science completed by the student\n",
    "AVG_SCORE_BACKEND - Average score in Web (Back-End) completed by the student\n",
    "AVG_SCORE_FRONTEND - Average score in Web (Front-End) completed by the student\n",
    "\n",
    "Target (Y)\n",
    "PROFILE - Tech profile of the students\n",
    "\n",
    "- beginner_front_end\n",
    "- advanced_front_end\n",
    "- beginner_back_end\n",
    "- advanced_back_end\n",
    "- beginner_data_science\n",
    "- advanced_data_science\n",
    "\n",
    "\n",
    "Acknowledgements\n",
    "IBM Maratona 2020.\n"
   ]
  },
  {
   "cell_type": "code",
   "execution_count": 1,
   "id": "0bd31e07",
   "metadata": {
    "_cell_guid": "b1076dfc-b9ad-4769-8c92-a6c4dae69d19",
    "_uuid": "8f2839f25d086af736a60e9eeb907d3b93b6e0e5",
    "execution": {
     "iopub.execute_input": "2023-07-02T13:00:29.959926Z",
     "iopub.status.busy": "2023-07-02T13:00:29.959541Z",
     "iopub.status.idle": "2023-07-02T13:00:29.977417Z",
     "shell.execute_reply": "2023-07-02T13:00:29.976166Z"
    },
    "papermill": {
     "duration": 0.045415,
     "end_time": "2023-07-02T13:00:29.980085",
     "exception": false,
     "start_time": "2023-07-02T13:00:29.934670",
     "status": "completed"
    },
    "tags": []
   },
   "outputs": [
    {
     "name": "stdout",
     "output_type": "stream",
     "text": [
      "/kaggle/input/tech-students-profile-prediction/dataset-tortuga.csv\n",
      "/kaggle/input/tech-students-profile-prediction/to_be_scored_tortuga.csv\n"
     ]
    }
   ],
   "source": [
    "# This Python 3 environment comes with many helpful analytics libraries installed\n",
    "# It is defined by the kaggle/python Docker image: https://github.com/kaggle/docker-python\n",
    "# For example, here's several helpful packages to load\n",
    "\n",
    "import numpy as np # linear algebra\n",
    "import pandas as pd # data processing, CSV file I/O (e.g. pd.read_csv)\n",
    "\n",
    "# Input data files are available in the read-only \"../input/\" directory\n",
    "# For example, running this (by clicking run or pressing Shift+Enter) will list all files under the input directory\n",
    "\n",
    "import os\n",
    "for dirname, _, filenames in os.walk('/kaggle/input'):\n",
    "    for filename in filenames:\n",
    "        print(os.path.join(dirname, filename))\n",
    "\n",
    "# You can write up to 20GB to the current directory (/kaggle/working/) that gets preserved as output when you create a version using \"Save & Run All\" \n",
    "# You can also write temporary files to /kaggle/temp/, but they won't be saved outside of the current session"
   ]
  },
  {
   "attachments": {},
   "cell_type": "markdown",
   "id": "0580f8c1",
   "metadata": {
    "papermill": {
     "duration": 0.022826,
     "end_time": "2023-07-02T13:00:30.025896",
     "exception": false,
     "start_time": "2023-07-02T13:00:30.003070",
     "status": "completed"
    },
    "tags": []
   },
   "source": [
    "The problem is pretty straight forward. I need to predict best suitable profile for the students based on the input variables. The student would be one of the following.\n",
    "- beginner_front_end\n",
    "- advanced_front_end\n",
    "- beginner_back_end\n",
    "- advanced_back_end\n",
    "- beginner_data_science\n",
    "- advanced_data_science\n",
    "\n",
    "It is clear that the problem is classification type.\n",
    "\n",
    "I will use the following models \n",
    "\n",
    "* Logistic Regression\n",
    "* Decision Tree\n",
    "* Ensemble Techniques\n",
    "* Neural Networks\n",
    "\n",
    "I will use hyperparameter tuning base on the results I got.\n",
    "\n",
    "The score metrics that I will use are \n",
    "* Confusion Matrix\n",
    "* Accuracy\n",
    "* Precesion\n",
    "* Recall\n",
    "* F1 Score\n",
    "\n",
    "Cost function - The E-learning platform do not have to bother much about FN and FP because the profit gained by giving correct predictions are out weighted by loss gained by giving wrong predictions. So I will more concentrate on accuracy. If I have to tune the hyperparameters I will use accuracy."
   ]
  },
  {
   "attachments": {},
   "cell_type": "markdown",
   "id": "52c9d82c",
   "metadata": {
    "papermill": {
     "duration": 0.022707,
     "end_time": "2023-07-02T13:00:30.071857",
     "exception": false,
     "start_time": "2023-07-02T13:00:30.049150",
     "status": "completed"
    },
    "tags": []
   },
   "source": [
    "# Importing Necessary libraries"
   ]
  },
  {
   "cell_type": "code",
   "execution_count": 2,
   "id": "f80018d1",
   "metadata": {
    "execution": {
     "iopub.execute_input": "2023-07-02T13:00:30.120653Z",
     "iopub.status.busy": "2023-07-02T13:00:30.119887Z",
     "iopub.status.idle": "2023-07-02T13:00:32.023030Z",
     "shell.execute_reply": "2023-07-02T13:00:32.022210Z"
    },
    "papermill": {
     "duration": 1.930634,
     "end_time": "2023-07-02T13:00:32.025639",
     "exception": false,
     "start_time": "2023-07-02T13:00:30.095005",
     "status": "completed"
    },
    "tags": []
   },
   "outputs": [],
   "source": [
    "from matplotlib import pyplot as plt\n",
    "from sklearn.model_selection import train_test_split,GridSearchCV, RandomizedSearchCV\n",
    "from sklearn import preprocessing\n",
    "from sklearn.impute import SimpleImputer\n",
    "from sklearn.preprocessing import StandardScaler\n",
    "from sklearn.metrics import confusion_matrix\n",
    "from sklearn.metrics import confusion_matrix, accuracy_score, precision_score, recall_score, f1_score, classification_report, ConfusionMatrixDisplay\n",
    "from matplotlib import pyplot as plt\n",
    "from sklearn.tree import DecisionTreeClassifier\n",
    "from sklearn.linear_model import LogisticRegression\n",
    "from sklearn.ensemble import RandomForestClassifier, GradientBoostingClassifier, AdaBoostClassifier\n",
    "from xgboost import XGBClassifier\n",
    "from sklearn.neural_network import MLPClassifier\n",
    "\n",
    "np.random.seed(1)"
   ]
  },
  {
   "attachments": {},
   "cell_type": "markdown",
   "id": "61c27d41",
   "metadata": {
    "papermill": {
     "duration": 0.022934,
     "end_time": "2023-07-02T13:00:32.071351",
     "exception": false,
     "start_time": "2023-07-02T13:00:32.048417",
     "status": "completed"
    },
    "tags": []
   },
   "source": [
    "# Importing Scored Data"
   ]
  },
  {
   "cell_type": "code",
   "execution_count": 3,
   "id": "3f26edfe",
   "metadata": {
    "execution": {
     "iopub.execute_input": "2023-07-02T13:00:32.119926Z",
     "iopub.status.busy": "2023-07-02T13:00:32.119245Z",
     "iopub.status.idle": "2023-07-02T13:00:32.225110Z",
     "shell.execute_reply": "2023-07-02T13:00:32.224298Z"
    },
    "papermill": {
     "duration": 0.133337,
     "end_time": "2023-07-02T13:00:32.227630",
     "exception": false,
     "start_time": "2023-07-02T13:00:32.094293",
     "status": "completed"
    },
    "tags": []
   },
   "outputs": [],
   "source": [
    "studentsData = pd.read_csv('/kaggle/input/tech-students-profile-prediction/dataset-tortuga.csv')"
   ]
  },
  {
   "cell_type": "code",
   "execution_count": 4,
   "id": "be09414f",
   "metadata": {
    "execution": {
     "iopub.execute_input": "2023-07-02T13:00:32.275477Z",
     "iopub.status.busy": "2023-07-02T13:00:32.274707Z",
     "iopub.status.idle": "2023-07-02T13:00:32.319141Z",
     "shell.execute_reply": "2023-07-02T13:00:32.317982Z"
    },
    "papermill": {
     "duration": 0.071467,
     "end_time": "2023-07-02T13:00:32.321846",
     "exception": false,
     "start_time": "2023-07-02T13:00:32.250379",
     "status": "completed"
    },
    "tags": []
   },
   "outputs": [
    {
     "data": {
      "text/html": [
       "<div>\n",
       "<style scoped>\n",
       "    .dataframe tbody tr th:only-of-type {\n",
       "        vertical-align: middle;\n",
       "    }\n",
       "\n",
       "    .dataframe tbody tr th {\n",
       "        vertical-align: top;\n",
       "    }\n",
       "\n",
       "    .dataframe thead th {\n",
       "        text-align: right;\n",
       "    }\n",
       "</style>\n",
       "<table border=\"1\" class=\"dataframe\">\n",
       "  <thead>\n",
       "    <tr style=\"text-align: right;\">\n",
       "      <th></th>\n",
       "      <th>Unnamed: 0</th>\n",
       "      <th>NAME</th>\n",
       "      <th>USER_ID</th>\n",
       "      <th>HOURS_DATASCIENCE</th>\n",
       "      <th>HOURS_BACKEND</th>\n",
       "      <th>HOURS_FRONTEND</th>\n",
       "      <th>NUM_COURSES_BEGINNER_DATASCIENCE</th>\n",
       "      <th>NUM_COURSES_BEGINNER_BACKEND</th>\n",
       "      <th>NUM_COURSES_BEGINNER_FRONTEND</th>\n",
       "      <th>NUM_COURSES_ADVANCED_DATASCIENCE</th>\n",
       "      <th>NUM_COURSES_ADVANCED_BACKEND</th>\n",
       "      <th>NUM_COURSES_ADVANCED_FRONTEND</th>\n",
       "      <th>AVG_SCORE_DATASCIENCE</th>\n",
       "      <th>AVG_SCORE_BACKEND</th>\n",
       "      <th>AVG_SCORE_FRONTEND</th>\n",
       "      <th>PROFILE</th>\n",
       "    </tr>\n",
       "  </thead>\n",
       "  <tbody>\n",
       "    <tr>\n",
       "      <th>0</th>\n",
       "      <td>28</td>\n",
       "      <td>Stormy Muto</td>\n",
       "      <td>58283940</td>\n",
       "      <td>7.0</td>\n",
       "      <td>39.0</td>\n",
       "      <td>29.0</td>\n",
       "      <td>2.0</td>\n",
       "      <td>4.0</td>\n",
       "      <td>0.0</td>\n",
       "      <td>2.0</td>\n",
       "      <td>5.0</td>\n",
       "      <td>0.0</td>\n",
       "      <td>84.0</td>\n",
       "      <td>74.0</td>\n",
       "      <td>NaN</td>\n",
       "      <td>beginner_front_end</td>\n",
       "    </tr>\n",
       "    <tr>\n",
       "      <th>1</th>\n",
       "      <td>81</td>\n",
       "      <td>Carlos Ferro</td>\n",
       "      <td>1357218</td>\n",
       "      <td>32.0</td>\n",
       "      <td>0.0</td>\n",
       "      <td>44.0</td>\n",
       "      <td>2.0</td>\n",
       "      <td>0.0</td>\n",
       "      <td>0.0</td>\n",
       "      <td>0.0</td>\n",
       "      <td>5.0</td>\n",
       "      <td>0.0</td>\n",
       "      <td>67.0</td>\n",
       "      <td>45.0</td>\n",
       "      <td>NaN</td>\n",
       "      <td>beginner_front_end</td>\n",
       "    </tr>\n",
       "    <tr>\n",
       "      <th>2</th>\n",
       "      <td>89</td>\n",
       "      <td>Robby Constantini</td>\n",
       "      <td>63212105</td>\n",
       "      <td>45.0</td>\n",
       "      <td>0.0</td>\n",
       "      <td>59.0</td>\n",
       "      <td>0.0</td>\n",
       "      <td>5.0</td>\n",
       "      <td>4.0</td>\n",
       "      <td>0.0</td>\n",
       "      <td>4.0</td>\n",
       "      <td>1.0</td>\n",
       "      <td>NaN</td>\n",
       "      <td>54.0</td>\n",
       "      <td>47.0</td>\n",
       "      <td>advanced_front_end</td>\n",
       "    </tr>\n",
       "    <tr>\n",
       "      <th>3</th>\n",
       "      <td>138</td>\n",
       "      <td>Paul Mckenny</td>\n",
       "      <td>23239851</td>\n",
       "      <td>36.0</td>\n",
       "      <td>19.0</td>\n",
       "      <td>28.0</td>\n",
       "      <td>0.0</td>\n",
       "      <td>5.0</td>\n",
       "      <td>7.0</td>\n",
       "      <td>0.0</td>\n",
       "      <td>5.0</td>\n",
       "      <td>3.0</td>\n",
       "      <td>NaN</td>\n",
       "      <td>71.0</td>\n",
       "      <td>89.0</td>\n",
       "      <td>beginner_data_science</td>\n",
       "    </tr>\n",
       "    <tr>\n",
       "      <th>4</th>\n",
       "      <td>143</td>\n",
       "      <td>Jean Webb</td>\n",
       "      <td>72234478</td>\n",
       "      <td>61.0</td>\n",
       "      <td>78.0</td>\n",
       "      <td>38.0</td>\n",
       "      <td>6.0</td>\n",
       "      <td>11.0</td>\n",
       "      <td>0.0</td>\n",
       "      <td>4.0</td>\n",
       "      <td>3.0</td>\n",
       "      <td>0.0</td>\n",
       "      <td>66.0</td>\n",
       "      <td>85.0</td>\n",
       "      <td>NaN</td>\n",
       "      <td>advanced_front_end</td>\n",
       "    </tr>\n",
       "  </tbody>\n",
       "</table>\n",
       "</div>"
      ],
      "text/plain": [
       "   Unnamed: 0               NAME   USER_ID  HOURS_DATASCIENCE  HOURS_BACKEND  \\\n",
       "0          28        Stormy Muto  58283940                7.0           39.0   \n",
       "1          81       Carlos Ferro   1357218               32.0            0.0   \n",
       "2          89  Robby Constantini  63212105               45.0            0.0   \n",
       "3         138       Paul Mckenny  23239851               36.0           19.0   \n",
       "4         143          Jean Webb  72234478               61.0           78.0   \n",
       "\n",
       "   HOURS_FRONTEND  NUM_COURSES_BEGINNER_DATASCIENCE  \\\n",
       "0            29.0                               2.0   \n",
       "1            44.0                               2.0   \n",
       "2            59.0                               0.0   \n",
       "3            28.0                               0.0   \n",
       "4            38.0                               6.0   \n",
       "\n",
       "   NUM_COURSES_BEGINNER_BACKEND  NUM_COURSES_BEGINNER_FRONTEND  \\\n",
       "0                           4.0                            0.0   \n",
       "1                           0.0                            0.0   \n",
       "2                           5.0                            4.0   \n",
       "3                           5.0                            7.0   \n",
       "4                          11.0                            0.0   \n",
       "\n",
       "   NUM_COURSES_ADVANCED_DATASCIENCE  NUM_COURSES_ADVANCED_BACKEND  \\\n",
       "0                               2.0                           5.0   \n",
       "1                               0.0                           5.0   \n",
       "2                               0.0                           4.0   \n",
       "3                               0.0                           5.0   \n",
       "4                               4.0                           3.0   \n",
       "\n",
       "   NUM_COURSES_ADVANCED_FRONTEND  AVG_SCORE_DATASCIENCE  AVG_SCORE_BACKEND  \\\n",
       "0                            0.0                   84.0               74.0   \n",
       "1                            0.0                   67.0               45.0   \n",
       "2                            1.0                    NaN               54.0   \n",
       "3                            3.0                    NaN               71.0   \n",
       "4                            0.0                   66.0               85.0   \n",
       "\n",
       "   AVG_SCORE_FRONTEND                PROFILE  \n",
       "0                 NaN     beginner_front_end  \n",
       "1                 NaN     beginner_front_end  \n",
       "2                47.0     advanced_front_end  \n",
       "3                89.0  beginner_data_science  \n",
       "4                 NaN     advanced_front_end  "
      ]
     },
     "execution_count": 4,
     "metadata": {},
     "output_type": "execute_result"
    }
   ],
   "source": [
    "studentsData.head(5)"
   ]
  },
  {
   "attachments": {},
   "cell_type": "markdown",
   "id": "daa93842",
   "metadata": {
    "papermill": {
     "duration": 0.02279,
     "end_time": "2023-07-02T13:00:32.367757",
     "exception": false,
     "start_time": "2023-07-02T13:00:32.344967",
     "status": "completed"
    },
    "tags": []
   },
   "source": [
    "# Cleaning and preprocessing the data"
   ]
  },
  {
   "cell_type": "code",
   "execution_count": 5,
   "id": "3ac8ec89",
   "metadata": {
    "execution": {
     "iopub.execute_input": "2023-07-02T13:00:32.415770Z",
     "iopub.status.busy": "2023-07-02T13:00:32.415380Z",
     "iopub.status.idle": "2023-07-02T13:00:32.424349Z",
     "shell.execute_reply": "2023-07-02T13:00:32.423187Z"
    },
    "papermill": {
     "duration": 0.035713,
     "end_time": "2023-07-02T13:00:32.426751",
     "exception": false,
     "start_time": "2023-07-02T13:00:32.391038",
     "status": "completed"
    },
    "tags": []
   },
   "outputs": [
    {
     "data": {
      "text/plain": [
       "Index(['Unnamed: 0', 'NAME', 'USER_ID', 'HOURS_DATASCIENCE', 'HOURS_BACKEND',\n",
       "       'HOURS_FRONTEND', 'NUM_COURSES_BEGINNER_DATASCIENCE',\n",
       "       'NUM_COURSES_BEGINNER_BACKEND', 'NUM_COURSES_BEGINNER_FRONTEND',\n",
       "       'NUM_COURSES_ADVANCED_DATASCIENCE', 'NUM_COURSES_ADVANCED_BACKEND',\n",
       "       'NUM_COURSES_ADVANCED_FRONTEND', 'AVG_SCORE_DATASCIENCE',\n",
       "       'AVG_SCORE_BACKEND', 'AVG_SCORE_FRONTEND', 'PROFILE'],\n",
       "      dtype='object')"
      ]
     },
     "execution_count": 5,
     "metadata": {},
     "output_type": "execute_result"
    }
   ],
   "source": [
    "studentsData.columns = [s.strip() for s in studentsData.columns] \n",
    "studentsData.columns"
   ]
  },
  {
   "attachments": {},
   "cell_type": "markdown",
   "id": "54dde823",
   "metadata": {
    "papermill": {
     "duration": 0.023132,
     "end_time": "2023-07-02T13:00:32.473092",
     "exception": false,
     "start_time": "2023-07-02T13:00:32.449960",
     "status": "completed"
    },
    "tags": []
   },
   "source": [
    "## Dropping unnecessary columns Unnamed: 0, NAME, USER_ID. "
   ]
  },
  {
   "cell_type": "code",
   "execution_count": 6,
   "id": "3ec4d220",
   "metadata": {
    "execution": {
     "iopub.execute_input": "2023-07-02T13:00:32.521999Z",
     "iopub.status.busy": "2023-07-02T13:00:32.521255Z",
     "iopub.status.idle": "2023-07-02T13:00:32.532074Z",
     "shell.execute_reply": "2023-07-02T13:00:32.530781Z"
    },
    "papermill": {
     "duration": 0.038271,
     "end_time": "2023-07-02T13:00:32.534647",
     "exception": false,
     "start_time": "2023-07-02T13:00:32.496376",
     "status": "completed"
    },
    "tags": []
   },
   "outputs": [],
   "source": [
    "studentsData = studentsData.drop(['Unnamed: 0', 'NAME', 'USER_ID'], axis=1)"
   ]
  },
  {
   "cell_type": "code",
   "execution_count": 7,
   "id": "3f9f5ff0",
   "metadata": {
    "execution": {
     "iopub.execute_input": "2023-07-02T13:00:32.584266Z",
     "iopub.status.busy": "2023-07-02T13:00:32.583584Z",
     "iopub.status.idle": "2023-07-02T13:00:32.605189Z",
     "shell.execute_reply": "2023-07-02T13:00:32.604001Z"
    },
    "papermill": {
     "duration": 0.049805,
     "end_time": "2023-07-02T13:00:32.607732",
     "exception": false,
     "start_time": "2023-07-02T13:00:32.557927",
     "status": "completed"
    },
    "tags": []
   },
   "outputs": [
    {
     "data": {
      "text/html": [
       "<div>\n",
       "<style scoped>\n",
       "    .dataframe tbody tr th:only-of-type {\n",
       "        vertical-align: middle;\n",
       "    }\n",
       "\n",
       "    .dataframe tbody tr th {\n",
       "        vertical-align: top;\n",
       "    }\n",
       "\n",
       "    .dataframe thead th {\n",
       "        text-align: right;\n",
       "    }\n",
       "</style>\n",
       "<table border=\"1\" class=\"dataframe\">\n",
       "  <thead>\n",
       "    <tr style=\"text-align: right;\">\n",
       "      <th></th>\n",
       "      <th>HOURS_DATASCIENCE</th>\n",
       "      <th>HOURS_BACKEND</th>\n",
       "      <th>HOURS_FRONTEND</th>\n",
       "      <th>NUM_COURSES_BEGINNER_DATASCIENCE</th>\n",
       "      <th>NUM_COURSES_BEGINNER_BACKEND</th>\n",
       "      <th>NUM_COURSES_BEGINNER_FRONTEND</th>\n",
       "      <th>NUM_COURSES_ADVANCED_DATASCIENCE</th>\n",
       "      <th>NUM_COURSES_ADVANCED_BACKEND</th>\n",
       "      <th>NUM_COURSES_ADVANCED_FRONTEND</th>\n",
       "      <th>AVG_SCORE_DATASCIENCE</th>\n",
       "      <th>AVG_SCORE_BACKEND</th>\n",
       "      <th>AVG_SCORE_FRONTEND</th>\n",
       "      <th>PROFILE</th>\n",
       "    </tr>\n",
       "  </thead>\n",
       "  <tbody>\n",
       "    <tr>\n",
       "      <th>0</th>\n",
       "      <td>7.0</td>\n",
       "      <td>39.0</td>\n",
       "      <td>29.0</td>\n",
       "      <td>2.0</td>\n",
       "      <td>4.0</td>\n",
       "      <td>0.0</td>\n",
       "      <td>2.0</td>\n",
       "      <td>5.0</td>\n",
       "      <td>0.0</td>\n",
       "      <td>84.0</td>\n",
       "      <td>74.0</td>\n",
       "      <td>NaN</td>\n",
       "      <td>beginner_front_end</td>\n",
       "    </tr>\n",
       "    <tr>\n",
       "      <th>1</th>\n",
       "      <td>32.0</td>\n",
       "      <td>0.0</td>\n",
       "      <td>44.0</td>\n",
       "      <td>2.0</td>\n",
       "      <td>0.0</td>\n",
       "      <td>0.0</td>\n",
       "      <td>0.0</td>\n",
       "      <td>5.0</td>\n",
       "      <td>0.0</td>\n",
       "      <td>67.0</td>\n",
       "      <td>45.0</td>\n",
       "      <td>NaN</td>\n",
       "      <td>beginner_front_end</td>\n",
       "    </tr>\n",
       "    <tr>\n",
       "      <th>2</th>\n",
       "      <td>45.0</td>\n",
       "      <td>0.0</td>\n",
       "      <td>59.0</td>\n",
       "      <td>0.0</td>\n",
       "      <td>5.0</td>\n",
       "      <td>4.0</td>\n",
       "      <td>0.0</td>\n",
       "      <td>4.0</td>\n",
       "      <td>1.0</td>\n",
       "      <td>NaN</td>\n",
       "      <td>54.0</td>\n",
       "      <td>47.0</td>\n",
       "      <td>advanced_front_end</td>\n",
       "    </tr>\n",
       "  </tbody>\n",
       "</table>\n",
       "</div>"
      ],
      "text/plain": [
       "   HOURS_DATASCIENCE  HOURS_BACKEND  HOURS_FRONTEND  \\\n",
       "0                7.0           39.0            29.0   \n",
       "1               32.0            0.0            44.0   \n",
       "2               45.0            0.0            59.0   \n",
       "\n",
       "   NUM_COURSES_BEGINNER_DATASCIENCE  NUM_COURSES_BEGINNER_BACKEND  \\\n",
       "0                               2.0                           4.0   \n",
       "1                               2.0                           0.0   \n",
       "2                               0.0                           5.0   \n",
       "\n",
       "   NUM_COURSES_BEGINNER_FRONTEND  NUM_COURSES_ADVANCED_DATASCIENCE  \\\n",
       "0                            0.0                               2.0   \n",
       "1                            0.0                               0.0   \n",
       "2                            4.0                               0.0   \n",
       "\n",
       "   NUM_COURSES_ADVANCED_BACKEND  NUM_COURSES_ADVANCED_FRONTEND  \\\n",
       "0                           5.0                            0.0   \n",
       "1                           5.0                            0.0   \n",
       "2                           4.0                            1.0   \n",
       "\n",
       "   AVG_SCORE_DATASCIENCE  AVG_SCORE_BACKEND  AVG_SCORE_FRONTEND  \\\n",
       "0                   84.0               74.0                 NaN   \n",
       "1                   67.0               45.0                 NaN   \n",
       "2                    NaN               54.0                47.0   \n",
       "\n",
       "              PROFILE  \n",
       "0  beginner_front_end  \n",
       "1  beginner_front_end  \n",
       "2  advanced_front_end  "
      ]
     },
     "execution_count": 7,
     "metadata": {},
     "output_type": "execute_result"
    }
   ],
   "source": [
    "studentsData.head(3)"
   ]
  },
  {
   "attachments": {},
   "cell_type": "markdown",
   "id": "46ae72f8",
   "metadata": {
    "papermill": {
     "duration": 0.0235,
     "end_time": "2023-07-02T13:00:32.657201",
     "exception": false,
     "start_time": "2023-07-02T13:00:32.633701",
     "status": "completed"
    },
    "tags": []
   },
   "source": [
    "## Observing properties of the data for better understanding"
   ]
  },
  {
   "cell_type": "code",
   "execution_count": 8,
   "id": "ff6ea3bc",
   "metadata": {
    "execution": {
     "iopub.execute_input": "2023-07-02T13:00:32.705973Z",
     "iopub.status.busy": "2023-07-02T13:00:32.705560Z",
     "iopub.status.idle": "2023-07-02T13:00:32.712207Z",
     "shell.execute_reply": "2023-07-02T13:00:32.711395Z"
    },
    "papermill": {
     "duration": 0.0336,
     "end_time": "2023-07-02T13:00:32.714305",
     "exception": false,
     "start_time": "2023-07-02T13:00:32.680705",
     "status": "completed"
    },
    "tags": []
   },
   "outputs": [
    {
     "data": {
      "text/plain": [
       "(20000, 13)"
      ]
     },
     "execution_count": 8,
     "metadata": {},
     "output_type": "execute_result"
    }
   ],
   "source": [
    "studentsData.shape"
   ]
  },
  {
   "cell_type": "code",
   "execution_count": 9,
   "id": "23352486",
   "metadata": {
    "execution": {
     "iopub.execute_input": "2023-07-02T13:00:32.765828Z",
     "iopub.status.busy": "2023-07-02T13:00:32.765150Z",
     "iopub.status.idle": "2023-07-02T13:00:32.793646Z",
     "shell.execute_reply": "2023-07-02T13:00:32.792217Z"
    },
    "papermill": {
     "duration": 0.057058,
     "end_time": "2023-07-02T13:00:32.796384",
     "exception": false,
     "start_time": "2023-07-02T13:00:32.739326",
     "status": "completed"
    },
    "tags": []
   },
   "outputs": [
    {
     "name": "stdout",
     "output_type": "stream",
     "text": [
      "<class 'pandas.core.frame.DataFrame'>\n",
      "RangeIndex: 20000 entries, 0 to 19999\n",
      "Data columns (total 13 columns):\n",
      " #   Column                            Non-Null Count  Dtype  \n",
      "---  ------                            --------------  -----  \n",
      " 0   HOURS_DATASCIENCE                 19986 non-null  float64\n",
      " 1   HOURS_BACKEND                     19947 non-null  float64\n",
      " 2   HOURS_FRONTEND                    19984 non-null  float64\n",
      " 3   NUM_COURSES_BEGINNER_DATASCIENCE  19974 non-null  float64\n",
      " 4   NUM_COURSES_BEGINNER_BACKEND      19982 non-null  float64\n",
      " 5   NUM_COURSES_BEGINNER_FRONTEND     19961 non-null  float64\n",
      " 6   NUM_COURSES_ADVANCED_DATASCIENCE  19998 non-null  float64\n",
      " 7   NUM_COURSES_ADVANCED_BACKEND      19992 non-null  float64\n",
      " 8   NUM_COURSES_ADVANCED_FRONTEND     19963 non-null  float64\n",
      " 9   AVG_SCORE_DATASCIENCE             19780 non-null  float64\n",
      " 10  AVG_SCORE_BACKEND                 19916 non-null  float64\n",
      " 11  AVG_SCORE_FRONTEND                19832 non-null  float64\n",
      " 12  PROFILE                           20000 non-null  object \n",
      "dtypes: float64(12), object(1)\n",
      "memory usage: 2.0+ MB\n"
     ]
    }
   ],
   "source": [
    "studentsData.info()"
   ]
  },
  {
   "cell_type": "code",
   "execution_count": 10,
   "id": "43035bc6",
   "metadata": {
    "execution": {
     "iopub.execute_input": "2023-07-02T13:00:32.846219Z",
     "iopub.status.busy": "2023-07-02T13:00:32.845787Z",
     "iopub.status.idle": "2023-07-02T13:00:32.910002Z",
     "shell.execute_reply": "2023-07-02T13:00:32.909160Z"
    },
    "papermill": {
     "duration": 0.091997,
     "end_time": "2023-07-02T13:00:32.912305",
     "exception": false,
     "start_time": "2023-07-02T13:00:32.820308",
     "status": "completed"
    },
    "tags": []
   },
   "outputs": [
    {
     "data": {
      "text/html": [
       "<div>\n",
       "<style scoped>\n",
       "    .dataframe tbody tr th:only-of-type {\n",
       "        vertical-align: middle;\n",
       "    }\n",
       "\n",
       "    .dataframe tbody tr th {\n",
       "        vertical-align: top;\n",
       "    }\n",
       "\n",
       "    .dataframe thead th {\n",
       "        text-align: right;\n",
       "    }\n",
       "</style>\n",
       "<table border=\"1\" class=\"dataframe\">\n",
       "  <thead>\n",
       "    <tr style=\"text-align: right;\">\n",
       "      <th></th>\n",
       "      <th>HOURS_DATASCIENCE</th>\n",
       "      <th>HOURS_BACKEND</th>\n",
       "      <th>HOURS_FRONTEND</th>\n",
       "      <th>NUM_COURSES_BEGINNER_DATASCIENCE</th>\n",
       "      <th>NUM_COURSES_BEGINNER_BACKEND</th>\n",
       "      <th>NUM_COURSES_BEGINNER_FRONTEND</th>\n",
       "      <th>NUM_COURSES_ADVANCED_DATASCIENCE</th>\n",
       "      <th>NUM_COURSES_ADVANCED_BACKEND</th>\n",
       "      <th>NUM_COURSES_ADVANCED_FRONTEND</th>\n",
       "      <th>AVG_SCORE_DATASCIENCE</th>\n",
       "      <th>AVG_SCORE_BACKEND</th>\n",
       "      <th>AVG_SCORE_FRONTEND</th>\n",
       "    </tr>\n",
       "  </thead>\n",
       "  <tbody>\n",
       "    <tr>\n",
       "      <th>count</th>\n",
       "      <td>19986.000000</td>\n",
       "      <td>19947.000000</td>\n",
       "      <td>19984.000000</td>\n",
       "      <td>19974.000000</td>\n",
       "      <td>19982.000000</td>\n",
       "      <td>19961.000000</td>\n",
       "      <td>19998.000000</td>\n",
       "      <td>19992.000000</td>\n",
       "      <td>19963.00000</td>\n",
       "      <td>19780.000000</td>\n",
       "      <td>19916.000000</td>\n",
       "      <td>19832.000000</td>\n",
       "    </tr>\n",
       "    <tr>\n",
       "      <th>mean</th>\n",
       "      <td>37.565296</td>\n",
       "      <td>43.552263</td>\n",
       "      <td>36.936599</td>\n",
       "      <td>3.698608</td>\n",
       "      <td>3.715144</td>\n",
       "      <td>4.048294</td>\n",
       "      <td>3.397140</td>\n",
       "      <td>4.344338</td>\n",
       "      <td>3.36783</td>\n",
       "      <td>65.070324</td>\n",
       "      <td>67.234535</td>\n",
       "      <td>67.130748</td>\n",
       "    </tr>\n",
       "    <tr>\n",
       "      <th>std</th>\n",
       "      <td>22.394805</td>\n",
       "      <td>22.387518</td>\n",
       "      <td>20.590381</td>\n",
       "      <td>2.001647</td>\n",
       "      <td>2.101863</td>\n",
       "      <td>2.296000</td>\n",
       "      <td>2.111437</td>\n",
       "      <td>2.161569</td>\n",
       "      <td>1.98784</td>\n",
       "      <td>13.950559</td>\n",
       "      <td>14.214591</td>\n",
       "      <td>14.446830</td>\n",
       "    </tr>\n",
       "    <tr>\n",
       "      <th>min</th>\n",
       "      <td>0.000000</td>\n",
       "      <td>0.000000</td>\n",
       "      <td>0.000000</td>\n",
       "      <td>0.000000</td>\n",
       "      <td>0.000000</td>\n",
       "      <td>0.000000</td>\n",
       "      <td>0.000000</td>\n",
       "      <td>0.000000</td>\n",
       "      <td>0.00000</td>\n",
       "      <td>7.000000</td>\n",
       "      <td>10.000000</td>\n",
       "      <td>0.000000</td>\n",
       "    </tr>\n",
       "    <tr>\n",
       "      <th>25%</th>\n",
       "      <td>21.000000</td>\n",
       "      <td>28.000000</td>\n",
       "      <td>22.000000</td>\n",
       "      <td>2.000000</td>\n",
       "      <td>2.000000</td>\n",
       "      <td>2.000000</td>\n",
       "      <td>2.000000</td>\n",
       "      <td>3.000000</td>\n",
       "      <td>2.00000</td>\n",
       "      <td>56.000000</td>\n",
       "      <td>58.000000</td>\n",
       "      <td>58.000000</td>\n",
       "    </tr>\n",
       "    <tr>\n",
       "      <th>50%</th>\n",
       "      <td>37.000000</td>\n",
       "      <td>43.000000</td>\n",
       "      <td>37.000000</td>\n",
       "      <td>4.000000</td>\n",
       "      <td>4.000000</td>\n",
       "      <td>4.000000</td>\n",
       "      <td>3.000000</td>\n",
       "      <td>4.000000</td>\n",
       "      <td>3.00000</td>\n",
       "      <td>65.000000</td>\n",
       "      <td>68.000000</td>\n",
       "      <td>68.000000</td>\n",
       "    </tr>\n",
       "    <tr>\n",
       "      <th>75%</th>\n",
       "      <td>53.000000</td>\n",
       "      <td>59.000000</td>\n",
       "      <td>51.000000</td>\n",
       "      <td>5.000000</td>\n",
       "      <td>5.000000</td>\n",
       "      <td>6.000000</td>\n",
       "      <td>5.000000</td>\n",
       "      <td>6.000000</td>\n",
       "      <td>5.00000</td>\n",
       "      <td>75.000000</td>\n",
       "      <td>77.000000</td>\n",
       "      <td>77.000000</td>\n",
       "    </tr>\n",
       "    <tr>\n",
       "      <th>max</th>\n",
       "      <td>127.000000</td>\n",
       "      <td>147.000000</td>\n",
       "      <td>124.000000</td>\n",
       "      <td>12.000000</td>\n",
       "      <td>12.000000</td>\n",
       "      <td>13.000000</td>\n",
       "      <td>13.000000</td>\n",
       "      <td>14.000000</td>\n",
       "      <td>12.00000</td>\n",
       "      <td>100.000000</td>\n",
       "      <td>100.000000</td>\n",
       "      <td>100.000000</td>\n",
       "    </tr>\n",
       "  </tbody>\n",
       "</table>\n",
       "</div>"
      ],
      "text/plain": [
       "       HOURS_DATASCIENCE  HOURS_BACKEND  HOURS_FRONTEND  \\\n",
       "count       19986.000000   19947.000000    19984.000000   \n",
       "mean           37.565296      43.552263       36.936599   \n",
       "std            22.394805      22.387518       20.590381   \n",
       "min             0.000000       0.000000        0.000000   \n",
       "25%            21.000000      28.000000       22.000000   \n",
       "50%            37.000000      43.000000       37.000000   \n",
       "75%            53.000000      59.000000       51.000000   \n",
       "max           127.000000     147.000000      124.000000   \n",
       "\n",
       "       NUM_COURSES_BEGINNER_DATASCIENCE  NUM_COURSES_BEGINNER_BACKEND  \\\n",
       "count                      19974.000000                  19982.000000   \n",
       "mean                           3.698608                      3.715144   \n",
       "std                            2.001647                      2.101863   \n",
       "min                            0.000000                      0.000000   \n",
       "25%                            2.000000                      2.000000   \n",
       "50%                            4.000000                      4.000000   \n",
       "75%                            5.000000                      5.000000   \n",
       "max                           12.000000                     12.000000   \n",
       "\n",
       "       NUM_COURSES_BEGINNER_FRONTEND  NUM_COURSES_ADVANCED_DATASCIENCE  \\\n",
       "count                   19961.000000                      19998.000000   \n",
       "mean                        4.048294                          3.397140   \n",
       "std                         2.296000                          2.111437   \n",
       "min                         0.000000                          0.000000   \n",
       "25%                         2.000000                          2.000000   \n",
       "50%                         4.000000                          3.000000   \n",
       "75%                         6.000000                          5.000000   \n",
       "max                        13.000000                         13.000000   \n",
       "\n",
       "       NUM_COURSES_ADVANCED_BACKEND  NUM_COURSES_ADVANCED_FRONTEND  \\\n",
       "count                  19992.000000                    19963.00000   \n",
       "mean                       4.344338                        3.36783   \n",
       "std                        2.161569                        1.98784   \n",
       "min                        0.000000                        0.00000   \n",
       "25%                        3.000000                        2.00000   \n",
       "50%                        4.000000                        3.00000   \n",
       "75%                        6.000000                        5.00000   \n",
       "max                       14.000000                       12.00000   \n",
       "\n",
       "       AVG_SCORE_DATASCIENCE  AVG_SCORE_BACKEND  AVG_SCORE_FRONTEND  \n",
       "count           19780.000000       19916.000000        19832.000000  \n",
       "mean               65.070324          67.234535           67.130748  \n",
       "std                13.950559          14.214591           14.446830  \n",
       "min                 7.000000          10.000000            0.000000  \n",
       "25%                56.000000          58.000000           58.000000  \n",
       "50%                65.000000          68.000000           68.000000  \n",
       "75%                75.000000          77.000000           77.000000  \n",
       "max               100.000000         100.000000          100.000000  "
      ]
     },
     "execution_count": 10,
     "metadata": {},
     "output_type": "execute_result"
    }
   ],
   "source": [
    "studentsData.describe()"
   ]
  },
  {
   "attachments": {},
   "cell_type": "markdown",
   "id": "7b39ab96",
   "metadata": {
    "papermill": {
     "duration": 0.024434,
     "end_time": "2023-07-02T13:00:32.961494",
     "exception": false,
     "start_time": "2023-07-02T13:00:32.937060",
     "status": "completed"
    },
    "tags": []
   },
   "source": [
    "## Loking for null values\n",
    "* Droping the columns if there are too many null values\n",
    "* Replacing them with mean if there are only few"
   ]
  },
  {
   "cell_type": "code",
   "execution_count": 11,
   "id": "c1a2d025",
   "metadata": {
    "execution": {
     "iopub.execute_input": "2023-07-02T13:00:33.012153Z",
     "iopub.status.busy": "2023-07-02T13:00:33.011415Z",
     "iopub.status.idle": "2023-07-02T13:00:33.026933Z",
     "shell.execute_reply": "2023-07-02T13:00:33.025824Z"
    },
    "papermill": {
     "duration": 0.043682,
     "end_time": "2023-07-02T13:00:33.029416",
     "exception": false,
     "start_time": "2023-07-02T13:00:32.985734",
     "status": "completed"
    },
    "tags": []
   },
   "outputs": [
    {
     "data": {
      "text/plain": [
       "HOURS_DATASCIENCE                    14\n",
       "HOURS_BACKEND                        53\n",
       "HOURS_FRONTEND                       16\n",
       "NUM_COURSES_BEGINNER_DATASCIENCE     26\n",
       "NUM_COURSES_BEGINNER_BACKEND         18\n",
       "NUM_COURSES_BEGINNER_FRONTEND        39\n",
       "NUM_COURSES_ADVANCED_DATASCIENCE      2\n",
       "NUM_COURSES_ADVANCED_BACKEND          8\n",
       "NUM_COURSES_ADVANCED_FRONTEND        37\n",
       "AVG_SCORE_DATASCIENCE               220\n",
       "AVG_SCORE_BACKEND                    84\n",
       "AVG_SCORE_FRONTEND                  168\n",
       "PROFILE                               0\n",
       "dtype: int64"
      ]
     },
     "execution_count": 11,
     "metadata": {},
     "output_type": "execute_result"
    }
   ],
   "source": [
    "studentsData.isna().sum()"
   ]
  },
  {
   "attachments": {},
   "cell_type": "markdown",
   "id": "11a9cbd1",
   "metadata": {
    "papermill": {
     "duration": 0.024121,
     "end_time": "2023-07-02T13:00:33.078023",
     "exception": false,
     "start_time": "2023-07-02T13:00:33.053902",
     "status": "completed"
    },
    "tags": []
   },
   "source": [
    "## Spliting the data for training and testing (data partitoning 70/30)\n",
    "\n",
    "The data set is a good one with 20,000 observations. So I decided to partiton the data for 70% for training and 30% for testing which I believe will give good results."
   ]
  },
  {
   "cell_type": "code",
   "execution_count": 12,
   "id": "a4fc7a04",
   "metadata": {
    "execution": {
     "iopub.execute_input": "2023-07-02T13:00:33.130284Z",
     "iopub.status.busy": "2023-07-02T13:00:33.129552Z",
     "iopub.status.idle": "2023-07-02T13:00:33.138763Z",
     "shell.execute_reply": "2023-07-02T13:00:33.137521Z"
    },
    "papermill": {
     "duration": 0.038006,
     "end_time": "2023-07-02T13:00:33.141495",
     "exception": false,
     "start_time": "2023-07-02T13:00:33.103489",
     "status": "completed"
    },
    "tags": []
   },
   "outputs": [],
   "source": [
    "train_df, test_df = train_test_split(studentsData, test_size=0.3)"
   ]
  },
  {
   "attachments": {},
   "cell_type": "markdown",
   "id": "a421cbab",
   "metadata": {
    "papermill": {
     "duration": 0.023955,
     "end_time": "2023-07-02T13:00:33.189833",
     "exception": false,
     "start_time": "2023-07-02T13:00:33.165878",
     "status": "completed"
    },
    "tags": []
   },
   "source": [
    "## Seperating the predictors and traget variables"
   ]
  },
  {
   "cell_type": "code",
   "execution_count": 13,
   "id": "c8aaabd2",
   "metadata": {
    "execution": {
     "iopub.execute_input": "2023-07-02T13:00:33.240331Z",
     "iopub.status.busy": "2023-07-02T13:00:33.239892Z",
     "iopub.status.idle": "2023-07-02T13:00:33.244911Z",
     "shell.execute_reply": "2023-07-02T13:00:33.244153Z"
    },
    "papermill": {
     "duration": 0.032816,
     "end_time": "2023-07-02T13:00:33.247079",
     "exception": false,
     "start_time": "2023-07-02T13:00:33.214263",
     "status": "completed"
    },
    "tags": []
   },
   "outputs": [],
   "source": [
    "targetColumn = 'PROFILE'\n",
    "predictors = list(studentsData.columns)\n",
    "predictors.remove(targetColumn)\n",
    "target = [targetColumn]\n"
   ]
  },
  {
   "attachments": {},
   "cell_type": "markdown",
   "id": "aa8cf7ff",
   "metadata": {
    "papermill": {
     "duration": 0.023964,
     "end_time": "2023-07-02T13:00:33.295943",
     "exception": false,
     "start_time": "2023-07-02T13:00:33.271979",
     "status": "completed"
    },
    "tags": []
   },
   "source": [
    "## Impute missing values\n",
    "There are 20,000 onservations and there are some minor null values present in all input variables whic are < 10% of the no of rows. So, there is no reason to drop anty columns."
   ]
  },
  {
   "cell_type": "code",
   "execution_count": 14,
   "id": "5e738c91",
   "metadata": {
    "execution": {
     "iopub.execute_input": "2023-07-02T13:00:33.346961Z",
     "iopub.status.busy": "2023-07-02T13:00:33.346262Z",
     "iopub.status.idle": "2023-07-02T13:00:33.405049Z",
     "shell.execute_reply": "2023-07-02T13:00:33.403892Z"
    },
    "papermill": {
     "duration": 0.087648,
     "end_time": "2023-07-02T13:00:33.407861",
     "exception": false,
     "start_time": "2023-07-02T13:00:33.320213",
     "status": "completed"
    },
    "tags": []
   },
   "outputs": [],
   "source": [
    "imputer = SimpleImputer(strategy=\"median\")\n",
    "train_cols_with_nas = list(train_df.isna().sum()[train_df.isna().sum() > 0].index)\n",
    "test_cols_with_nas = list(test_df.isna().sum()[test_df.isna().sum() > 0].index)\n",
    "train_df[train_cols_with_nas] = imputer.fit_transform(train_df[train_cols_with_nas])\n",
    "test_df[test_cols_with_nas] = imputer.transform(test_df[test_cols_with_nas])"
   ]
  },
  {
   "cell_type": "code",
   "execution_count": 15,
   "id": "4516aa46",
   "metadata": {
    "execution": {
     "iopub.execute_input": "2023-07-02T13:00:33.458304Z",
     "iopub.status.busy": "2023-07-02T13:00:33.457870Z",
     "iopub.status.idle": "2023-07-02T13:00:33.473451Z",
     "shell.execute_reply": "2023-07-02T13:00:33.472428Z"
    },
    "papermill": {
     "duration": 0.04337,
     "end_time": "2023-07-02T13:00:33.475600",
     "exception": false,
     "start_time": "2023-07-02T13:00:33.432230",
     "status": "completed"
    },
    "tags": []
   },
   "outputs": [
    {
     "data": {
      "text/plain": [
       "HOURS_DATASCIENCE                   0\n",
       "HOURS_BACKEND                       0\n",
       "HOURS_FRONTEND                      0\n",
       "NUM_COURSES_BEGINNER_DATASCIENCE    0\n",
       "NUM_COURSES_BEGINNER_BACKEND        0\n",
       "NUM_COURSES_BEGINNER_FRONTEND       0\n",
       "NUM_COURSES_ADVANCED_DATASCIENCE    0\n",
       "NUM_COURSES_ADVANCED_BACKEND        0\n",
       "NUM_COURSES_ADVANCED_FRONTEND       0\n",
       "AVG_SCORE_DATASCIENCE               0\n",
       "AVG_SCORE_BACKEND                   0\n",
       "AVG_SCORE_FRONTEND                  0\n",
       "PROFILE                             0\n",
       "dtype: int64"
      ]
     },
     "execution_count": 15,
     "metadata": {},
     "output_type": "execute_result"
    }
   ],
   "source": [
    "train_df.isna().sum()"
   ]
  },
  {
   "cell_type": "code",
   "execution_count": 16,
   "id": "c870e7db",
   "metadata": {
    "execution": {
     "iopub.execute_input": "2023-07-02T13:00:33.526707Z",
     "iopub.status.busy": "2023-07-02T13:00:33.526309Z",
     "iopub.status.idle": "2023-07-02T13:00:33.540045Z",
     "shell.execute_reply": "2023-07-02T13:00:33.539034Z"
    },
    "papermill": {
     "duration": 0.042125,
     "end_time": "2023-07-02T13:00:33.542526",
     "exception": false,
     "start_time": "2023-07-02T13:00:33.500401",
     "status": "completed"
    },
    "tags": []
   },
   "outputs": [
    {
     "data": {
      "text/plain": [
       "HOURS_DATASCIENCE                   0\n",
       "HOURS_BACKEND                       0\n",
       "HOURS_FRONTEND                      0\n",
       "NUM_COURSES_BEGINNER_DATASCIENCE    0\n",
       "NUM_COURSES_BEGINNER_BACKEND        0\n",
       "NUM_COURSES_BEGINNER_FRONTEND       0\n",
       "NUM_COURSES_ADVANCED_DATASCIENCE    0\n",
       "NUM_COURSES_ADVANCED_BACKEND        0\n",
       "NUM_COURSES_ADVANCED_FRONTEND       0\n",
       "AVG_SCORE_DATASCIENCE               0\n",
       "AVG_SCORE_BACKEND                   0\n",
       "AVG_SCORE_FRONTEND                  0\n",
       "PROFILE                             0\n",
       "dtype: int64"
      ]
     },
     "execution_count": 16,
     "metadata": {},
     "output_type": "execute_result"
    }
   ],
   "source": [
    "test_df.isna().sum()"
   ]
  },
  {
   "attachments": {},
   "cell_type": "markdown",
   "id": "7e7bc4ed",
   "metadata": {
    "papermill": {
     "duration": 0.024844,
     "end_time": "2023-07-02T13:00:33.592193",
     "exception": false,
     "start_time": "2023-07-02T13:00:33.567349",
     "status": "completed"
    },
    "tags": []
   },
   "source": [
    "# Standardizing the input variables"
   ]
  },
  {
   "cell_type": "code",
   "execution_count": 17,
   "id": "540068ed",
   "metadata": {
    "execution": {
     "iopub.execute_input": "2023-07-02T13:00:33.644636Z",
     "iopub.status.busy": "2023-07-02T13:00:33.644251Z",
     "iopub.status.idle": "2023-07-02T13:00:33.667671Z",
     "shell.execute_reply": "2023-07-02T13:00:33.666423Z"
    },
    "papermill": {
     "duration": 0.054074,
     "end_time": "2023-07-02T13:00:33.671395",
     "exception": false,
     "start_time": "2023-07-02T13:00:33.617321",
     "status": "completed"
    },
    "tags": []
   },
   "outputs": [],
   "source": [
    "scaler = preprocessing.StandardScaler()\n",
    "train_df[predictors] = scaler.fit_transform(train_df[predictors])\n",
    "test_df[predictors] = scaler.transform(test_df[predictors])"
   ]
  },
  {
   "attachments": {},
   "cell_type": "markdown",
   "id": "3abcfca0",
   "metadata": {
    "papermill": {
     "duration": 0.024893,
     "end_time": "2023-07-02T13:00:33.721949",
     "exception": false,
     "start_time": "2023-07-02T13:00:33.697056",
     "status": "completed"
    },
    "tags": []
   },
   "source": [
    "# Saving the data sets for testing and training"
   ]
  },
  {
   "cell_type": "code",
   "execution_count": 18,
   "id": "2eb4d359",
   "metadata": {
    "execution": {
     "iopub.execute_input": "2023-07-02T13:00:33.773114Z",
     "iopub.status.busy": "2023-07-02T13:00:33.772720Z",
     "iopub.status.idle": "2023-07-02T13:00:33.783637Z",
     "shell.execute_reply": "2023-07-02T13:00:33.782475Z"
    },
    "papermill": {
     "duration": 0.039612,
     "end_time": "2023-07-02T13:00:33.786169",
     "exception": false,
     "start_time": "2023-07-02T13:00:33.746557",
     "status": "completed"
    },
    "tags": []
   },
   "outputs": [],
   "source": [
    "X_train = train_df[predictors]\n",
    "y_train = train_df[target]\n",
    "X_test = test_df[predictors]\n",
    "y_test = test_df[target]"
   ]
  },
  {
   "cell_type": "code",
   "execution_count": 19,
   "id": "62ecac68",
   "metadata": {
    "execution": {
     "iopub.execute_input": "2023-07-02T13:00:33.838211Z",
     "iopub.status.busy": "2023-07-02T13:00:33.837474Z",
     "iopub.status.idle": "2023-07-02T13:00:33.854754Z",
     "shell.execute_reply": "2023-07-02T13:00:33.853866Z"
    },
    "papermill": {
     "duration": 0.046365,
     "end_time": "2023-07-02T13:00:33.857266",
     "exception": false,
     "start_time": "2023-07-02T13:00:33.810901",
     "status": "completed"
    },
    "tags": []
   },
   "outputs": [
    {
     "data": {
      "text/html": [
       "<div>\n",
       "<style scoped>\n",
       "    .dataframe tbody tr th:only-of-type {\n",
       "        vertical-align: middle;\n",
       "    }\n",
       "\n",
       "    .dataframe tbody tr th {\n",
       "        vertical-align: top;\n",
       "    }\n",
       "\n",
       "    .dataframe thead th {\n",
       "        text-align: right;\n",
       "    }\n",
       "</style>\n",
       "<table border=\"1\" class=\"dataframe\">\n",
       "  <thead>\n",
       "    <tr style=\"text-align: right;\">\n",
       "      <th></th>\n",
       "      <th>HOURS_DATASCIENCE</th>\n",
       "      <th>HOURS_BACKEND</th>\n",
       "      <th>HOURS_FRONTEND</th>\n",
       "      <th>NUM_COURSES_BEGINNER_DATASCIENCE</th>\n",
       "      <th>NUM_COURSES_BEGINNER_BACKEND</th>\n",
       "      <th>NUM_COURSES_BEGINNER_FRONTEND</th>\n",
       "      <th>NUM_COURSES_ADVANCED_DATASCIENCE</th>\n",
       "      <th>NUM_COURSES_ADVANCED_BACKEND</th>\n",
       "      <th>NUM_COURSES_ADVANCED_FRONTEND</th>\n",
       "      <th>AVG_SCORE_DATASCIENCE</th>\n",
       "      <th>AVG_SCORE_BACKEND</th>\n",
       "      <th>AVG_SCORE_FRONTEND</th>\n",
       "    </tr>\n",
       "  </thead>\n",
       "  <tbody>\n",
       "    <tr>\n",
       "      <th>11408</th>\n",
       "      <td>0.780575</td>\n",
       "      <td>-1.954670</td>\n",
       "      <td>0.100108</td>\n",
       "      <td>-0.352817</td>\n",
       "      <td>1.092031</td>\n",
       "      <td>-0.896584</td>\n",
       "      <td>-1.618262</td>\n",
       "      <td>-0.618678</td>\n",
       "      <td>-0.690717</td>\n",
       "      <td>-0.656758</td>\n",
       "      <td>0.118214</td>\n",
       "      <td>-0.769307</td>\n",
       "    </tr>\n",
       "    <tr>\n",
       "      <th>3616</th>\n",
       "      <td>0.915025</td>\n",
       "      <td>0.508481</td>\n",
       "      <td>0.293976</td>\n",
       "      <td>0.148445</td>\n",
       "      <td>-1.292614</td>\n",
       "      <td>-1.333166</td>\n",
       "      <td>2.171182</td>\n",
       "      <td>0.766496</td>\n",
       "      <td>-0.690717</td>\n",
       "      <td>-0.151500</td>\n",
       "      <td>0.825419</td>\n",
       "      <td>1.721063</td>\n",
       "    </tr>\n",
       "    <tr>\n",
       "      <th>9747</th>\n",
       "      <td>0.377227</td>\n",
       "      <td>-1.193333</td>\n",
       "      <td>-0.190693</td>\n",
       "      <td>0.649708</td>\n",
       "      <td>0.138173</td>\n",
       "      <td>-0.460002</td>\n",
       "      <td>-0.197220</td>\n",
       "      <td>-0.618678</td>\n",
       "      <td>0.319895</td>\n",
       "      <td>0.065039</td>\n",
       "      <td>-0.235388</td>\n",
       "      <td>-0.700130</td>\n",
       "    </tr>\n",
       "  </tbody>\n",
       "</table>\n",
       "</div>"
      ],
      "text/plain": [
       "       HOURS_DATASCIENCE  HOURS_BACKEND  HOURS_FRONTEND  \\\n",
       "11408           0.780575      -1.954670        0.100108   \n",
       "3616            0.915025       0.508481        0.293976   \n",
       "9747            0.377227      -1.193333       -0.190693   \n",
       "\n",
       "       NUM_COURSES_BEGINNER_DATASCIENCE  NUM_COURSES_BEGINNER_BACKEND  \\\n",
       "11408                         -0.352817                      1.092031   \n",
       "3616                           0.148445                     -1.292614   \n",
       "9747                           0.649708                      0.138173   \n",
       "\n",
       "       NUM_COURSES_BEGINNER_FRONTEND  NUM_COURSES_ADVANCED_DATASCIENCE  \\\n",
       "11408                      -0.896584                         -1.618262   \n",
       "3616                       -1.333166                          2.171182   \n",
       "9747                       -0.460002                         -0.197220   \n",
       "\n",
       "       NUM_COURSES_ADVANCED_BACKEND  NUM_COURSES_ADVANCED_FRONTEND  \\\n",
       "11408                     -0.618678                      -0.690717   \n",
       "3616                       0.766496                      -0.690717   \n",
       "9747                      -0.618678                       0.319895   \n",
       "\n",
       "       AVG_SCORE_DATASCIENCE  AVG_SCORE_BACKEND  AVG_SCORE_FRONTEND  \n",
       "11408              -0.656758           0.118214           -0.769307  \n",
       "3616               -0.151500           0.825419            1.721063  \n",
       "9747                0.065039          -0.235388           -0.700130  "
      ]
     },
     "execution_count": 19,
     "metadata": {},
     "output_type": "execute_result"
    }
   ],
   "source": [
    "X_train.head(3)"
   ]
  },
  {
   "cell_type": "code",
   "execution_count": 20,
   "id": "03bc88ee",
   "metadata": {
    "execution": {
     "iopub.execute_input": "2023-07-02T13:00:33.911013Z",
     "iopub.status.busy": "2023-07-02T13:00:33.910312Z",
     "iopub.status.idle": "2023-07-02T13:00:33.918989Z",
     "shell.execute_reply": "2023-07-02T13:00:33.918258Z"
    },
    "papermill": {
     "duration": 0.038602,
     "end_time": "2023-07-02T13:00:33.921270",
     "exception": false,
     "start_time": "2023-07-02T13:00:33.882668",
     "status": "completed"
    },
    "tags": []
   },
   "outputs": [
    {
     "data": {
      "text/html": [
       "<div>\n",
       "<style scoped>\n",
       "    .dataframe tbody tr th:only-of-type {\n",
       "        vertical-align: middle;\n",
       "    }\n",
       "\n",
       "    .dataframe tbody tr th {\n",
       "        vertical-align: top;\n",
       "    }\n",
       "\n",
       "    .dataframe thead th {\n",
       "        text-align: right;\n",
       "    }\n",
       "</style>\n",
       "<table border=\"1\" class=\"dataframe\">\n",
       "  <thead>\n",
       "    <tr style=\"text-align: right;\">\n",
       "      <th></th>\n",
       "      <th>PROFILE</th>\n",
       "    </tr>\n",
       "  </thead>\n",
       "  <tbody>\n",
       "    <tr>\n",
       "      <th>11408</th>\n",
       "      <td>advanced_front_end</td>\n",
       "    </tr>\n",
       "    <tr>\n",
       "      <th>3616</th>\n",
       "      <td>beginner_backend</td>\n",
       "    </tr>\n",
       "    <tr>\n",
       "      <th>9747</th>\n",
       "      <td>beginner_front_end</td>\n",
       "    </tr>\n",
       "  </tbody>\n",
       "</table>\n",
       "</div>"
      ],
      "text/plain": [
       "                  PROFILE\n",
       "11408  advanced_front_end\n",
       "3616     beginner_backend\n",
       "9747   beginner_front_end"
      ]
     },
     "execution_count": 20,
     "metadata": {},
     "output_type": "execute_result"
    }
   ],
   "source": [
    "y_train.head(3)"
   ]
  },
  {
   "cell_type": "code",
   "execution_count": 21,
   "id": "694d95bc",
   "metadata": {
    "execution": {
     "iopub.execute_input": "2023-07-02T13:00:33.975017Z",
     "iopub.status.busy": "2023-07-02T13:00:33.974291Z",
     "iopub.status.idle": "2023-07-02T13:00:33.991672Z",
     "shell.execute_reply": "2023-07-02T13:00:33.990804Z"
    },
    "papermill": {
     "duration": 0.046599,
     "end_time": "2023-07-02T13:00:33.993931",
     "exception": false,
     "start_time": "2023-07-02T13:00:33.947332",
     "status": "completed"
    },
    "tags": []
   },
   "outputs": [
    {
     "data": {
      "text/html": [
       "<div>\n",
       "<style scoped>\n",
       "    .dataframe tbody tr th:only-of-type {\n",
       "        vertical-align: middle;\n",
       "    }\n",
       "\n",
       "    .dataframe tbody tr th {\n",
       "        vertical-align: top;\n",
       "    }\n",
       "\n",
       "    .dataframe thead th {\n",
       "        text-align: right;\n",
       "    }\n",
       "</style>\n",
       "<table border=\"1\" class=\"dataframe\">\n",
       "  <thead>\n",
       "    <tr style=\"text-align: right;\">\n",
       "      <th></th>\n",
       "      <th>HOURS_DATASCIENCE</th>\n",
       "      <th>HOURS_BACKEND</th>\n",
       "      <th>HOURS_FRONTEND</th>\n",
       "      <th>NUM_COURSES_BEGINNER_DATASCIENCE</th>\n",
       "      <th>NUM_COURSES_BEGINNER_BACKEND</th>\n",
       "      <th>NUM_COURSES_BEGINNER_FRONTEND</th>\n",
       "      <th>NUM_COURSES_ADVANCED_DATASCIENCE</th>\n",
       "      <th>NUM_COURSES_ADVANCED_BACKEND</th>\n",
       "      <th>NUM_COURSES_ADVANCED_FRONTEND</th>\n",
       "      <th>AVG_SCORE_DATASCIENCE</th>\n",
       "      <th>AVG_SCORE_BACKEND</th>\n",
       "      <th>AVG_SCORE_FRONTEND</th>\n",
       "    </tr>\n",
       "  </thead>\n",
       "  <tbody>\n",
       "    <tr>\n",
       "      <th>11456</th>\n",
       "      <td>-1.012084</td>\n",
       "      <td>0.329342</td>\n",
       "      <td>-1.450831</td>\n",
       "      <td>2.153497</td>\n",
       "      <td>2.045889</td>\n",
       "      <td>0.849745</td>\n",
       "      <td>1.223821</td>\n",
       "      <td>-1.542127</td>\n",
       "      <td>-0.185411</td>\n",
       "      <td>-0.656758</td>\n",
       "      <td>-0.235388</td>\n",
       "      <td>-0.561776</td>\n",
       "    </tr>\n",
       "    <tr>\n",
       "      <th>16528</th>\n",
       "      <td>-1.101717</td>\n",
       "      <td>1.941587</td>\n",
       "      <td>0.439376</td>\n",
       "      <td>0.649708</td>\n",
       "      <td>2.045889</td>\n",
       "      <td>-0.460002</td>\n",
       "      <td>0.750141</td>\n",
       "      <td>0.304771</td>\n",
       "      <td>0.319895</td>\n",
       "      <td>0.786836</td>\n",
       "      <td>0.542537</td>\n",
       "      <td>-0.423422</td>\n",
       "    </tr>\n",
       "    <tr>\n",
       "      <th>3253</th>\n",
       "      <td>-1.505066</td>\n",
       "      <td>1.001111</td>\n",
       "      <td>1.214846</td>\n",
       "      <td>-0.854080</td>\n",
       "      <td>0.138173</td>\n",
       "      <td>0.413163</td>\n",
       "      <td>1.223821</td>\n",
       "      <td>0.766496</td>\n",
       "      <td>-0.185411</td>\n",
       "      <td>1.292094</td>\n",
       "      <td>-1.791237</td>\n",
       "      <td>-0.285068</td>\n",
       "    </tr>\n",
       "  </tbody>\n",
       "</table>\n",
       "</div>"
      ],
      "text/plain": [
       "       HOURS_DATASCIENCE  HOURS_BACKEND  HOURS_FRONTEND  \\\n",
       "11456          -1.012084       0.329342       -1.450831   \n",
       "16528          -1.101717       1.941587        0.439376   \n",
       "3253           -1.505066       1.001111        1.214846   \n",
       "\n",
       "       NUM_COURSES_BEGINNER_DATASCIENCE  NUM_COURSES_BEGINNER_BACKEND  \\\n",
       "11456                          2.153497                      2.045889   \n",
       "16528                          0.649708                      2.045889   \n",
       "3253                          -0.854080                      0.138173   \n",
       "\n",
       "       NUM_COURSES_BEGINNER_FRONTEND  NUM_COURSES_ADVANCED_DATASCIENCE  \\\n",
       "11456                       0.849745                          1.223821   \n",
       "16528                      -0.460002                          0.750141   \n",
       "3253                        0.413163                          1.223821   \n",
       "\n",
       "       NUM_COURSES_ADVANCED_BACKEND  NUM_COURSES_ADVANCED_FRONTEND  \\\n",
       "11456                     -1.542127                      -0.185411   \n",
       "16528                      0.304771                       0.319895   \n",
       "3253                       0.766496                      -0.185411   \n",
       "\n",
       "       AVG_SCORE_DATASCIENCE  AVG_SCORE_BACKEND  AVG_SCORE_FRONTEND  \n",
       "11456              -0.656758          -0.235388           -0.561776  \n",
       "16528               0.786836           0.542537           -0.423422  \n",
       "3253                1.292094          -1.791237           -0.285068  "
      ]
     },
     "execution_count": 21,
     "metadata": {},
     "output_type": "execute_result"
    }
   ],
   "source": [
    "X_test.head(3)"
   ]
  },
  {
   "cell_type": "code",
   "execution_count": 22,
   "id": "f9ea70cd",
   "metadata": {
    "execution": {
     "iopub.execute_input": "2023-07-02T13:00:34.046913Z",
     "iopub.status.busy": "2023-07-02T13:00:34.046208Z",
     "iopub.status.idle": "2023-07-02T13:00:34.055163Z",
     "shell.execute_reply": "2023-07-02T13:00:34.054331Z"
    },
    "papermill": {
     "duration": 0.037998,
     "end_time": "2023-07-02T13:00:34.057372",
     "exception": false,
     "start_time": "2023-07-02T13:00:34.019374",
     "status": "completed"
    },
    "tags": []
   },
   "outputs": [
    {
     "data": {
      "text/html": [
       "<div>\n",
       "<style scoped>\n",
       "    .dataframe tbody tr th:only-of-type {\n",
       "        vertical-align: middle;\n",
       "    }\n",
       "\n",
       "    .dataframe tbody tr th {\n",
       "        vertical-align: top;\n",
       "    }\n",
       "\n",
       "    .dataframe thead th {\n",
       "        text-align: right;\n",
       "    }\n",
       "</style>\n",
       "<table border=\"1\" class=\"dataframe\">\n",
       "  <thead>\n",
       "    <tr style=\"text-align: right;\">\n",
       "      <th></th>\n",
       "      <th>PROFILE</th>\n",
       "    </tr>\n",
       "  </thead>\n",
       "  <tbody>\n",
       "    <tr>\n",
       "      <th>11456</th>\n",
       "      <td>advanced_backend</td>\n",
       "    </tr>\n",
       "    <tr>\n",
       "      <th>16528</th>\n",
       "      <td>advanced_front_end</td>\n",
       "    </tr>\n",
       "    <tr>\n",
       "      <th>3253</th>\n",
       "      <td>advanced_front_end</td>\n",
       "    </tr>\n",
       "  </tbody>\n",
       "</table>\n",
       "</div>"
      ],
      "text/plain": [
       "                  PROFILE\n",
       "11456    advanced_backend\n",
       "16528  advanced_front_end\n",
       "3253   advanced_front_end"
      ]
     },
     "execution_count": 22,
     "metadata": {},
     "output_type": "execute_result"
    }
   ],
   "source": [
    "y_test.head(3)"
   ]
  },
  {
   "attachments": {},
   "cell_type": "markdown",
   "id": "e33f58b8",
   "metadata": {
    "papermill": {
     "duration": 0.025253,
     "end_time": "2023-07-02T13:00:34.108272",
     "exception": false,
     "start_time": "2023-07-02T13:00:34.083019",
     "status": "completed"
    },
    "tags": []
   },
   "source": [
    "# Now I will create different models and explore the results to find best accurate model."
   ]
  },
  {
   "cell_type": "code",
   "execution_count": 23,
   "id": "d3373876",
   "metadata": {
    "execution": {
     "iopub.execute_input": "2023-07-02T13:00:34.161263Z",
     "iopub.status.busy": "2023-07-02T13:00:34.160835Z",
     "iopub.status.idle": "2023-07-02T13:00:34.167055Z",
     "shell.execute_reply": "2023-07-02T13:00:34.166221Z"
    },
    "papermill": {
     "duration": 0.035393,
     "end_time": "2023-07-02T13:00:34.169263",
     "exception": false,
     "start_time": "2023-07-02T13:00:34.133870",
     "status": "completed"
    },
    "tags": []
   },
   "outputs": [],
   "source": [
    "performance = pd.DataFrame({\"model\": [], \"accuracy\": [], \"precision_micro\": [], \"precision_macro\": [], \"precision_weighted\": [], \n",
    "                            \"recall_micro\": [], \"recall_macro\": [], \"recall_weighted\": [], \"f1_micro\": [], \"f1_macro\": [], \n",
    "                            \"f1_weighted\": []})"
   ]
  },
  {
   "attachments": {},
   "cell_type": "markdown",
   "id": "56d9d2b9",
   "metadata": {
    "papermill": {
     "duration": 0.025824,
     "end_time": "2023-07-02T13:00:34.221390",
     "exception": false,
     "start_time": "2023-07-02T13:00:34.195566",
     "status": "completed"
    },
    "tags": []
   },
   "source": [
    "# Logistic Regression Model"
   ]
  },
  {
   "cell_type": "code",
   "execution_count": 24,
   "id": "898a761d",
   "metadata": {
    "execution": {
     "iopub.execute_input": "2023-07-02T13:00:34.276392Z",
     "iopub.status.busy": "2023-07-02T13:00:34.274365Z",
     "iopub.status.idle": "2023-07-02T13:00:34.518290Z",
     "shell.execute_reply": "2023-07-02T13:00:34.516772Z"
    },
    "papermill": {
     "duration": 0.275399,
     "end_time": "2023-07-02T13:00:34.522566",
     "exception": false,
     "start_time": "2023-07-02T13:00:34.247167",
     "status": "completed"
    },
    "tags": []
   },
   "outputs": [],
   "source": [
    "logRegModel = LogisticRegression()\n",
    "_ = logRegModel.fit(X_train, np.ravel(y_train))"
   ]
  },
  {
   "cell_type": "code",
   "execution_count": 25,
   "id": "dc23c1cc",
   "metadata": {
    "execution": {
     "iopub.execute_input": "2023-07-02T13:00:34.635530Z",
     "iopub.status.busy": "2023-07-02T13:00:34.634662Z",
     "iopub.status.idle": "2023-07-02T13:00:35.025531Z",
     "shell.execute_reply": "2023-07-02T13:00:35.023868Z"
    },
    "papermill": {
     "duration": 0.449831,
     "end_time": "2023-07-02T13:00:35.028177",
     "exception": false,
     "start_time": "2023-07-02T13:00:34.578346",
     "status": "completed"
    },
    "tags": []
   },
   "outputs": [
    {
     "name": "stdout",
     "output_type": "stream",
     "text": [
      "                       precision    recall  f1-score   support\n",
      "\n",
      "     advanced_backend     0.7747    0.7198    0.7463      1003\n",
      "advanced_data_science     0.6502    0.6764    0.6631       995\n",
      "   advanced_front_end     0.7236    0.7472    0.7352       981\n",
      "     beginner_backend     0.6295    0.5642    0.5951      1012\n",
      "beginner_data_science     0.7268    0.7254    0.7261      1005\n",
      "   beginner_front_end     0.6802    0.7520    0.7143      1004\n",
      "\n",
      "             accuracy                         0.6972      6000\n",
      "            macro avg     0.6975    0.6975    0.6967      6000\n",
      "         weighted avg     0.6974    0.6972    0.6964      6000\n",
      "\n"
     ]
    }
   ],
   "source": [
    "y_pred = logRegModel.predict(X_test)\n",
    "print(classification_report(y_test, y_pred, digits=4))"
   ]
  },
  {
   "cell_type": "code",
   "execution_count": 26,
   "id": "bf435511",
   "metadata": {
    "execution": {
     "iopub.execute_input": "2023-07-02T13:00:35.084449Z",
     "iopub.status.busy": "2023-07-02T13:00:35.082167Z",
     "iopub.status.idle": "2023-07-02T13:00:35.514810Z",
     "shell.execute_reply": "2023-07-02T13:00:35.513596Z"
    },
    "papermill": {
     "duration": 0.462687,
     "end_time": "2023-07-02T13:00:35.517452",
     "exception": false,
     "start_time": "2023-07-02T13:00:35.054765",
     "status": "completed"
    },
    "tags": []
   },
   "outputs": [
    {
     "data": {
      "image/png": "[encoded data removed]",
      "text/plain": [
       "<Figure size 300x300 with 2 Axes>"
      ]
     },
     "metadata": {},
     "output_type": "display_data"
    }
   ],
   "source": [
    "# display the confusion matrix\n",
    "matrix = confusion_matrix(y_test, y_pred)\n",
    "display = ConfusionMatrixDisplay(confusion_matrix=matrix)\n",
    "fig,ax = plt.subplots(figsize=(3, 3))\n",
    "display.plot(ax=ax, cmap=plt.cm.Blues)\n",
    "plt.show()"
   ]
  },
  {
   "cell_type": "code",
   "execution_count": 27,
   "id": "58d4a776",
   "metadata": {
    "execution": {
     "iopub.execute_input": "2023-07-02T13:00:35.572733Z",
     "iopub.status.busy": "2023-07-02T13:00:35.572352Z",
     "iopub.status.idle": "2023-07-02T13:00:36.305853Z",
     "shell.execute_reply": "2023-07-02T13:00:36.304798Z"
    },
    "papermill": {
     "duration": 0.764408,
     "end_time": "2023-07-02T13:00:36.308646",
     "exception": false,
     "start_time": "2023-07-02T13:00:35.544238",
     "status": "completed"
    },
    "tags": []
   },
   "outputs": [],
   "source": [
    "accuracy = accuracy_score(y_test, y_pred)\n",
    "f1_micro = f1_score(y_test, y_pred, average='micro')\n",
    "f1_macro = f1_score(y_test, y_pred, average='macro')\n",
    "f1_weighted = f1_score(y_test, y_pred, average='weighted')\n",
    "recall_micro = recall_score(y_test, y_pred, average='micro')\n",
    "recall_macro = recall_score(y_test, y_pred, average='macro')\n",
    "recall_weighted = recall_score(y_test, y_pred, average='weighted')\n",
    "precision_micro = precision_score(y_test, y_pred, average='micro')\n",
    "precision_macro = precision_score(y_test, y_pred, average='macro')\n",
    "precision_weighted = precision_score(y_test, y_pred, average='weighted')\n",
    "\n",
    "performance = pd.concat([performance, pd.DataFrame({\"model\": 'Logestic Regression', \"accuracy\": [accuracy], \n",
    "                                                    \"precision_micro\": [precision_micro], \"precision_macro\": [precision_macro], \n",
    "                                                    \"precision_weighted\": [precision_weighted], \"recall_micro\": [recall_micro], \n",
    "                                                    \"f1_micro\": [f1_micro], \"f1_macro\": [f1_macro], \n",
    "                                                    \"f1_weighted\": [f1_weighted], \"recall_macro\": [recall_macro], \n",
    "                                                    \"recall_weighted\": [recall_weighted]})])"
   ]
  },
  {
   "attachments": {},
   "cell_type": "markdown",
   "id": "43cecf8b",
   "metadata": {
    "papermill": {
     "duration": 0.025903,
     "end_time": "2023-07-02T13:00:36.361070",
     "exception": false,
     "start_time": "2023-07-02T13:00:36.335167",
     "status": "completed"
    },
    "tags": []
   },
   "source": [
    "# Prediction with Decision Tree (using default parameters)"
   ]
  },
  {
   "cell_type": "code",
   "execution_count": 28,
   "id": "ff1c2638",
   "metadata": {
    "execution": {
     "iopub.execute_input": "2023-07-02T13:00:36.416095Z",
     "iopub.status.busy": "2023-07-02T13:00:36.415721Z",
     "iopub.status.idle": "2023-07-02T13:00:36.891121Z",
     "shell.execute_reply": "2023-07-02T13:00:36.889937Z"
    },
    "papermill": {
     "duration": 0.506405,
     "end_time": "2023-07-02T13:00:36.893811",
     "exception": false,
     "start_time": "2023-07-02T13:00:36.387406",
     "status": "completed"
    },
    "tags": []
   },
   "outputs": [
    {
     "name": "stdout",
     "output_type": "stream",
     "text": [
      "                       precision    recall  f1-score   support\n",
      "\n",
      "     advanced_backend     0.7645    0.7378    0.7509      1003\n",
      "advanced_data_science     0.7210    0.7296    0.7253       995\n",
      "   advanced_front_end     0.7609    0.7849    0.7727       981\n",
      "     beginner_backend     0.7166    0.6947    0.7055      1012\n",
      "beginner_data_science     0.7475    0.7512    0.7494      1005\n",
      "   beginner_front_end     0.7916    0.8058    0.7986      1004\n",
      "\n",
      "             accuracy                         0.7505      6000\n",
      "            macro avg     0.7503    0.7507    0.7504      6000\n",
      "         weighted avg     0.7503    0.7505    0.7503      6000\n",
      "\n"
     ]
    }
   ],
   "source": [
    "decTree = DecisionTreeClassifier()\n",
    "_ = decTree.fit(X_train, np.ravel(y_train))\n",
    "\n",
    "y_pred = decTree.predict(X_test)\n",
    "print(classification_report(y_test, y_pred, digits=4))"
   ]
  },
  {
   "cell_type": "code",
   "execution_count": 29,
   "id": "8448e5f3",
   "metadata": {
    "execution": {
     "iopub.execute_input": "2023-07-02T13:00:36.950823Z",
     "iopub.status.busy": "2023-07-02T13:00:36.950444Z",
     "iopub.status.idle": "2023-07-02T13:00:37.371794Z",
     "shell.execute_reply": "2023-07-02T13:00:37.370707Z"
    },
    "papermill": {
     "duration": 0.453881,
     "end_time": "2023-07-02T13:00:37.374569",
     "exception": false,
     "start_time": "2023-07-02T13:00:36.920688",
     "status": "completed"
    },
    "tags": []
   },
   "outputs": [
    {
     "data": {
      "image/png": "[encoded data removed]",
      "text/plain": [
       "<Figure size 300x300 with 2 Axes>"
      ]
     },
     "metadata": {},
     "output_type": "display_data"
    }
   ],
   "source": [
    "# display the confusion matrix\n",
    "matrix = confusion_matrix(y_test, y_pred)\n",
    "display = ConfusionMatrixDisplay(confusion_matrix=matrix)\n",
    "fig,ax = plt.subplots(figsize=(3, 3))\n",
    "display.plot(ax=ax, cmap=plt.cm.Blues)\n",
    "plt.show()\n"
   ]
  },
  {
   "cell_type": "code",
   "execution_count": 30,
   "id": "bc007b71",
   "metadata": {
    "execution": {
     "iopub.execute_input": "2023-07-02T13:00:37.430119Z",
     "iopub.status.busy": "2023-07-02T13:00:37.429746Z",
     "iopub.status.idle": "2023-07-02T13:00:38.180698Z",
     "shell.execute_reply": "2023-07-02T13:00:38.179537Z"
    },
    "papermill": {
     "duration": 0.782061,
     "end_time": "2023-07-02T13:00:38.183623",
     "exception": false,
     "start_time": "2023-07-02T13:00:37.401562",
     "status": "completed"
    },
    "tags": []
   },
   "outputs": [],
   "source": [
    "accuracy = accuracy_score(y_test, y_pred)\n",
    "f1_micro = f1_score(y_test, y_pred, average='micro')\n",
    "f1_macro = f1_score(y_test, y_pred, average='macro')\n",
    "f1_weighted = f1_score(y_test, y_pred, average='weighted')\n",
    "recall_micro = recall_score(y_test, y_pred, average='micro')\n",
    "recall_macro = recall_score(y_test, y_pred, average='macro')\n",
    "recall_weighted = recall_score(y_test, y_pred, average='weighted')\n",
    "precision_micro = precision_score(y_test, y_pred, average='micro')\n",
    "precision_macro = precision_score(y_test, y_pred, average='macro')\n",
    "precision_weighted = precision_score(y_test, y_pred, average='weighted')\n",
    "\n",
    "performance = pd.concat([performance, pd.DataFrame({\"model\": 'Decision Tree', \"accuracy\": [accuracy], \n",
    "                                                    \"precision_micro\": [precision_micro], \"precision_macro\": [precision_macro], \n",
    "                                                    \"precision_weighted\": [precision_weighted], \"recall_micro\": [recall_micro], \n",
    "                                                    \"f1_micro\": [f1_micro], \"f1_macro\": [f1_macro], \n",
    "                                                    \"f1_weighted\": [f1_weighted], \"recall_macro\": [recall_macro], \n",
    "                                                    \"recall_weighted\": [recall_weighted]})])"
   ]
  },
  {
   "attachments": {},
   "cell_type": "markdown",
   "id": "134b0df3",
   "metadata": {
    "papermill": {
     "duration": 0.026958,
     "end_time": "2023-07-02T13:00:38.237915",
     "exception": false,
     "start_time": "2023-07-02T13:00:38.210957",
     "status": "completed"
    },
    "tags": []
   },
   "source": [
    "# Ensemble Techniques\n",
    "## Prediction with Random Forest (using default parameters)"
   ]
  },
  {
   "cell_type": "code",
   "execution_count": 31,
   "id": "80b223bd",
   "metadata": {
    "execution": {
     "iopub.execute_input": "2023-07-02T13:00:38.295475Z",
     "iopub.status.busy": "2023-07-02T13:00:38.295023Z",
     "iopub.status.idle": "2023-07-02T13:00:41.512652Z",
     "shell.execute_reply": "2023-07-02T13:00:41.510920Z"
    },
    "papermill": {
     "duration": 3.250157,
     "end_time": "2023-07-02T13:00:41.515215",
     "exception": false,
     "start_time": "2023-07-02T13:00:38.265058",
     "status": "completed"
    },
    "tags": []
   },
   "outputs": [
    {
     "name": "stdout",
     "output_type": "stream",
     "text": [
      "                       precision    recall  f1-score   support\n",
      "\n",
      "     advanced_backend     0.9406    0.9153    0.9277      1003\n",
      "advanced_data_science     0.8805    0.8884    0.8844       995\n",
      "   advanced_front_end     0.9106    0.9235    0.9170       981\n",
      "     beginner_backend     0.9155    0.8775    0.8961      1012\n",
      "beginner_data_science     0.9190    0.9373    0.9281      1005\n",
      "   beginner_front_end     0.9126    0.9363    0.9243      1004\n",
      "\n",
      "             accuracy                         0.9130      6000\n",
      "            macro avg     0.9131    0.9130    0.9129      6000\n",
      "         weighted avg     0.9132    0.9130    0.9129      6000\n",
      "\n"
     ]
    }
   ],
   "source": [
    "randForest = RandomForestClassifier()\n",
    "_ = randForest.fit(X_train, np.ravel(y_train))\n",
    "\n",
    "y_pred = randForest.predict(X_test)\n",
    "print(classification_report(y_test, y_pred, digits=4))"
   ]
  },
  {
   "cell_type": "code",
   "execution_count": 32,
   "id": "6edcc1b0",
   "metadata": {
    "execution": {
     "iopub.execute_input": "2023-07-02T13:00:41.573465Z",
     "iopub.status.busy": "2023-07-02T13:00:41.573022Z",
     "iopub.status.idle": "2023-07-02T13:00:41.967711Z",
     "shell.execute_reply": "2023-07-02T13:00:41.966582Z"
    },
    "papermill": {
     "duration": 0.427698,
     "end_time": "2023-07-02T13:00:41.970344",
     "exception": false,
     "start_time": "2023-07-02T13:00:41.542646",
     "status": "completed"
    },
    "tags": []
   },
   "outputs": [
    {
     "data": {
      "image/png": "[encoded data removed]",
      "text/plain": [
       "<Figure size 300x300 with 2 Axes>"
      ]
     },
     "metadata": {},
     "output_type": "display_data"
    }
   ],
   "source": [
    "# display the confusion matrix\n",
    "matrix = confusion_matrix(y_test, y_pred)\n",
    "display = ConfusionMatrixDisplay(confusion_matrix=matrix)\n",
    "fig,ax = plt.subplots(figsize=(3, 3))\n",
    "display.plot(ax=ax, cmap=plt.cm.Blues)\n",
    "plt.show()"
   ]
  },
  {
   "cell_type": "code",
   "execution_count": 33,
   "id": "41331901",
   "metadata": {
    "execution": {
     "iopub.execute_input": "2023-07-02T13:00:42.031096Z",
     "iopub.status.busy": "2023-07-02T13:00:42.030704Z",
     "iopub.status.idle": "2023-07-02T13:00:42.759677Z",
     "shell.execute_reply": "2023-07-02T13:00:42.758532Z"
    },
    "papermill": {
     "duration": 0.762693,
     "end_time": "2023-07-02T13:00:42.762386",
     "exception": false,
     "start_time": "2023-07-02T13:00:41.999693",
     "status": "completed"
    },
    "tags": []
   },
   "outputs": [],
   "source": [
    "accuracy = accuracy_score(y_test, y_pred)\n",
    "f1_micro = f1_score(y_test, y_pred, average='micro')\n",
    "f1_macro = f1_score(y_test, y_pred, average='macro')\n",
    "f1_weighted = f1_score(y_test, y_pred, average='weighted')\n",
    "recall_micro = recall_score(y_test, y_pred, average='micro')\n",
    "recall_macro = recall_score(y_test, y_pred, average='macro')\n",
    "recall_weighted = recall_score(y_test, y_pred, average='weighted')\n",
    "precision_micro = precision_score(y_test, y_pred, average='micro')\n",
    "precision_macro = precision_score(y_test, y_pred, average='macro')\n",
    "precision_weighted = precision_score(y_test, y_pred, average='weighted')\n",
    "\n",
    "performance = pd.concat([performance, pd.DataFrame({\"model\": 'Random Forest', \"accuracy\": [accuracy], \n",
    "                                                    \"precision_micro\": [precision_micro], \"precision_macro\": [precision_macro], \n",
    "                                                    \"precision_weighted\": [precision_weighted], \"recall_micro\": [recall_micro], \n",
    "                                                    \"f1_micro\": [f1_micro], \"f1_macro\": [f1_macro], \n",
    "                                                    \"f1_weighted\": [f1_weighted], \"recall_macro\": [recall_macro], \n",
    "                                                    \"recall_weighted\": [recall_weighted]})])"
   ]
  },
  {
   "attachments": {},
   "cell_type": "markdown",
   "id": "14f7bb35",
   "metadata": {
    "papermill": {
     "duration": 0.028058,
     "end_time": "2023-07-02T13:00:42.818786",
     "exception": false,
     "start_time": "2023-07-02T13:00:42.790728",
     "status": "completed"
    },
    "tags": []
   },
   "source": [
    "## Prediction with ADABoost (using default parameters)"
   ]
  },
  {
   "cell_type": "code",
   "execution_count": 34,
   "id": "aa0f42fe",
   "metadata": {
    "execution": {
     "iopub.execute_input": "2023-07-02T13:00:42.876395Z",
     "iopub.status.busy": "2023-07-02T13:00:42.875963Z",
     "iopub.status.idle": "2023-07-02T13:00:45.584829Z",
     "shell.execute_reply": "2023-07-02T13:00:45.583180Z"
    },
    "papermill": {
     "duration": 2.740869,
     "end_time": "2023-07-02T13:00:45.587452",
     "exception": false,
     "start_time": "2023-07-02T13:00:42.846583",
     "status": "completed"
    },
    "tags": []
   },
   "outputs": [
    {
     "name": "stdout",
     "output_type": "stream",
     "text": [
      "                       precision    recall  f1-score   support\n",
      "\n",
      "     advanced_backend     0.5659    0.6461    0.6034      1003\n",
      "advanced_data_science     0.5432    0.4553    0.4954       995\n",
      "   advanced_front_end     0.6701    0.6024    0.6345       981\n",
      "     beginner_backend     0.4779    0.4694    0.4736      1012\n",
      "beginner_data_science     0.6402    0.6657    0.6527      1005\n",
      "   beginner_front_end     0.6227    0.6823    0.6511      1004\n",
      "\n",
      "             accuracy                         0.5868      6000\n",
      "            macro avg     0.5867    0.5868    0.5851      6000\n",
      "         weighted avg     0.5863    0.5868    0.5849      6000\n",
      "\n"
     ]
    }
   ],
   "source": [
    "adaBoost = AdaBoostClassifier()\n",
    "_ = adaBoost.fit(X_train, np.ravel(y_train))\n",
    "\n",
    "y_pred = adaBoost.predict(X_test)\n",
    "print(classification_report(y_test, y_pred, digits=4))"
   ]
  },
  {
   "cell_type": "code",
   "execution_count": 35,
   "id": "d8832d2b",
   "metadata": {
    "execution": {
     "iopub.execute_input": "2023-07-02T13:00:45.645264Z",
     "iopub.status.busy": "2023-07-02T13:00:45.644829Z",
     "iopub.status.idle": "2023-07-02T13:00:46.050794Z",
     "shell.execute_reply": "2023-07-02T13:00:46.049937Z"
    },
    "papermill": {
     "duration": 0.437857,
     "end_time": "2023-07-02T13:00:46.053173",
     "exception": false,
     "start_time": "2023-07-02T13:00:45.615316",
     "status": "completed"
    },
    "tags": []
   },
   "outputs": [
    {
     "data": {
      "image/png": "[encoded data removed]",
      "text/plain": [
       "<Figure size 300x300 with 2 Axes>"
      ]
     },
     "metadata": {},
     "output_type": "display_data"
    }
   ],
   "source": [
    "# display the confusion matrix\n",
    "matrix = confusion_matrix(y_test, y_pred)\n",
    "display = ConfusionMatrixDisplay(confusion_matrix=matrix)\n",
    "fig,ax = plt.subplots(figsize=(3, 3))\n",
    "display.plot(ax=ax, cmap=plt.cm.Blues)\n",
    "plt.show()"
   ]
  },
  {
   "cell_type": "code",
   "execution_count": 36,
   "id": "83ba37ab",
   "metadata": {
    "execution": {
     "iopub.execute_input": "2023-07-02T13:00:46.113432Z",
     "iopub.status.busy": "2023-07-02T13:00:46.112686Z",
     "iopub.status.idle": "2023-07-02T13:00:46.850874Z",
     "shell.execute_reply": "2023-07-02T13:00:46.849707Z"
    },
    "papermill": {
     "duration": 0.772175,
     "end_time": "2023-07-02T13:00:46.853640",
     "exception": false,
     "start_time": "2023-07-02T13:00:46.081465",
     "status": "completed"
    },
    "tags": []
   },
   "outputs": [],
   "source": [
    "accuracy = accuracy_score(y_test, y_pred)\n",
    "f1_micro = f1_score(y_test, y_pred, average='micro')\n",
    "f1_macro = f1_score(y_test, y_pred, average='macro')\n",
    "f1_weighted = f1_score(y_test, y_pred, average='weighted')\n",
    "recall_micro = recall_score(y_test, y_pred, average='micro')\n",
    "recall_macro = recall_score(y_test, y_pred, average='macro')\n",
    "recall_weighted = recall_score(y_test, y_pred, average='weighted')\n",
    "precision_micro = precision_score(y_test, y_pred, average='micro')\n",
    "precision_macro = precision_score(y_test, y_pred, average='macro')\n",
    "precision_weighted = precision_score(y_test, y_pred, average='weighted')\n",
    "\n",
    "performance = pd.concat([performance, pd.DataFrame({\"model\": 'ADA Boost', \"accuracy\": [accuracy], \n",
    "                                                    \"precision_micro\": [precision_micro], \"precision_macro\": [precision_macro], \n",
    "                                                    \"precision_weighted\": [precision_weighted], \"recall_micro\": [recall_micro], \n",
    "                                                    \"f1_micro\": [f1_micro], \"f1_macro\": [f1_macro], \n",
    "                                                    \"f1_weighted\": [f1_weighted], \"recall_macro\": [recall_macro], \n",
    "                                                    \"recall_weighted\": [recall_weighted]})])"
   ]
  },
  {
   "attachments": {},
   "cell_type": "markdown",
   "id": "b00e1966",
   "metadata": {
    "papermill": {
     "duration": 0.029381,
     "end_time": "2023-07-02T13:00:46.913411",
     "exception": false,
     "start_time": "2023-07-02T13:00:46.884030",
     "status": "completed"
    },
    "tags": []
   },
   "source": [
    "## Prediction with Gradient Boost (using default parameters)"
   ]
  },
  {
   "cell_type": "code",
   "execution_count": 37,
   "id": "1969b2d1",
   "metadata": {
    "execution": {
     "iopub.execute_input": "2023-07-02T13:00:46.972954Z",
     "iopub.status.busy": "2023-07-02T13:00:46.971908Z",
     "iopub.status.idle": "2023-07-02T13:01:02.276049Z",
     "shell.execute_reply": "2023-07-02T13:01:02.274200Z"
    },
    "papermill": {
     "duration": 15.338033,
     "end_time": "2023-07-02T13:01:02.279693",
     "exception": false,
     "start_time": "2023-07-02T13:00:46.941660",
     "status": "completed"
    },
    "tags": []
   },
   "outputs": [
    {
     "name": "stdout",
     "output_type": "stream",
     "text": [
      "                       precision    recall  f1-score   support\n",
      "\n",
      "     advanced_backend     0.9032    0.8554    0.8786      1003\n",
      "advanced_data_science     0.8293    0.8593    0.8440       995\n",
      "   advanced_front_end     0.8755    0.8746    0.8751       981\n",
      "     beginner_backend     0.8586    0.8281    0.8431      1012\n",
      "beginner_data_science     0.8793    0.8915    0.8854      1005\n",
      "   beginner_front_end     0.8784    0.9133    0.8955      1004\n",
      "\n",
      "             accuracy                         0.8703      6000\n",
      "            macro avg     0.8707    0.8704    0.8703      6000\n",
      "         weighted avg     0.8707    0.8703    0.8703      6000\n",
      "\n"
     ]
    }
   ],
   "source": [
    "gradBoost = GradientBoostingClassifier()\n",
    "_ = gradBoost.fit(X_train, np.ravel(y_train))\n",
    "\n",
    "y_pred = gradBoost.predict(X_test)\n",
    "print(classification_report(y_test, y_pred, digits=4))"
   ]
  },
  {
   "cell_type": "code",
   "execution_count": 38,
   "id": "8bb326de",
   "metadata": {
    "execution": {
     "iopub.execute_input": "2023-07-02T13:01:02.339550Z",
     "iopub.status.busy": "2023-07-02T13:01:02.339146Z",
     "iopub.status.idle": "2023-07-02T13:01:02.893637Z",
     "shell.execute_reply": "2023-07-02T13:01:02.892425Z"
    },
    "papermill": {
     "duration": 0.587449,
     "end_time": "2023-07-02T13:01:02.896359",
     "exception": false,
     "start_time": "2023-07-02T13:01:02.308910",
     "status": "completed"
    },
    "tags": []
   },
   "outputs": [
    {
     "data": {
      "image/png": "[encoded data removed]",
      "text/plain": [
       "<Figure size 300x300 with 2 Axes>"
      ]
     },
     "metadata": {},
     "output_type": "display_data"
    }
   ],
   "source": [
    "# display the confusion matrix\n",
    "matrix = confusion_matrix(y_test, y_pred)\n",
    "display = ConfusionMatrixDisplay(confusion_matrix=matrix)\n",
    "fig,ax = plt.subplots(figsize=(3, 3))\n",
    "display.plot(ax=ax, cmap=plt.cm.Blues)\n",
    "plt.show()"
   ]
  },
  {
   "cell_type": "code",
   "execution_count": 39,
   "id": "81372fbe",
   "metadata": {
    "execution": {
     "iopub.execute_input": "2023-07-02T13:01:02.956888Z",
     "iopub.status.busy": "2023-07-02T13:01:02.956515Z",
     "iopub.status.idle": "2023-07-02T13:01:03.682191Z",
     "shell.execute_reply": "2023-07-02T13:01:03.681012Z"
    },
    "papermill": {
     "duration": 0.759726,
     "end_time": "2023-07-02T13:01:03.685052",
     "exception": false,
     "start_time": "2023-07-02T13:01:02.925326",
     "status": "completed"
    },
    "tags": []
   },
   "outputs": [],
   "source": [
    "accuracy = accuracy_score(y_test, y_pred)\n",
    "f1_micro = f1_score(y_test, y_pred, average='micro')\n",
    "f1_macro = f1_score(y_test, y_pred, average='macro')\n",
    "f1_weighted = f1_score(y_test, y_pred, average='weighted')\n",
    "recall_micro = recall_score(y_test, y_pred, average='micro')\n",
    "recall_macro = recall_score(y_test, y_pred, average='macro')\n",
    "recall_weighted = recall_score(y_test, y_pred, average='weighted')\n",
    "precision_micro = precision_score(y_test, y_pred, average='micro')\n",
    "precision_macro = precision_score(y_test, y_pred, average='macro')\n",
    "precision_weighted = precision_score(y_test, y_pred, average='weighted')\n",
    "\n",
    "performance = pd.concat([performance, pd.DataFrame({\"model\": 'Gradient Boost', \"accuracy\": [accuracy], \n",
    "                                                    \"precision_micro\": [precision_micro], \"precision_macro\": [precision_macro], \n",
    "                                                    \"precision_weighted\": [precision_weighted], \"recall_micro\": [recall_micro], \n",
    "                                                    \"f1_micro\": [f1_micro], \"f1_macro\": [f1_macro], \n",
    "                                                    \"f1_weighted\": [f1_weighted], \"recall_macro\": [recall_macro], \n",
    "                                                    \"recall_weighted\": [recall_weighted]})])"
   ]
  },
  {
   "attachments": {},
   "cell_type": "markdown",
   "id": "8811bee0",
   "metadata": {
    "papermill": {
     "duration": 0.028558,
     "end_time": "2023-07-02T13:01:03.742778",
     "exception": false,
     "start_time": "2023-07-02T13:01:03.714220",
     "status": "completed"
    },
    "tags": []
   },
   "source": [
    "## Prediction with XG Boost (using default parameters)"
   ]
  },
  {
   "cell_type": "code",
   "execution_count": 40,
   "id": "7b3d8957",
   "metadata": {
    "execution": {
     "iopub.execute_input": "2023-07-02T13:01:03.802599Z",
     "iopub.status.busy": "2023-07-02T13:01:03.802211Z",
     "iopub.status.idle": "2023-07-02T13:01:08.337001Z",
     "shell.execute_reply": "2023-07-02T13:01:08.335819Z"
    },
    "papermill": {
     "duration": 4.56853,
     "end_time": "2023-07-02T13:01:08.340230",
     "exception": false,
     "start_time": "2023-07-02T13:01:03.771700",
     "status": "completed"
    },
    "tags": []
   },
   "outputs": [
    {
     "name": "stdout",
     "output_type": "stream",
     "text": [
      "              precision    recall  f1-score   support\n",
      "\n",
      "           0     0.9540    0.9302    0.9419      1003\n",
      "           1     0.9013    0.9176    0.9094       995\n",
      "           2     0.9245    0.9358    0.9301       981\n",
      "           3     0.9221    0.9002    0.9110      1012\n",
      "           4     0.9358    0.9423    0.9390      1005\n",
      "           5     0.9350    0.9462    0.9406      1004\n",
      "\n",
      "    accuracy                         0.9287      6000\n",
      "   macro avg     0.9288    0.9287    0.9287      6000\n",
      "weighted avg     0.9288    0.9287    0.9287      6000\n",
      "\n"
     ]
    }
   ],
   "source": [
    "le = preprocessing.LabelEncoder()\n",
    "y_train_xgb = le.fit_transform(np.ravel(y_train))\n",
    "y_test_xgb = le.fit_transform(np.ravel(y_test))\n",
    "\n",
    "xgBoost = XGBClassifier()\n",
    "_ = xgBoost.fit(X_train, np.ravel(y_train_xgb))\n",
    "\n",
    "y_pred = xgBoost.predict(X_test)\n",
    "print(classification_report(y_test_xgb, y_pred, digits=4))"
   ]
  },
  {
   "cell_type": "code",
   "execution_count": 41,
   "id": "398f7b4b",
   "metadata": {
    "execution": {
     "iopub.execute_input": "2023-07-02T13:01:08.401336Z",
     "iopub.status.busy": "2023-07-02T13:01:08.400555Z",
     "iopub.status.idle": "2023-07-02T13:01:08.757665Z",
     "shell.execute_reply": "2023-07-02T13:01:08.756572Z"
    },
    "papermill": {
     "duration": 0.390565,
     "end_time": "2023-07-02T13:01:08.760106",
     "exception": false,
     "start_time": "2023-07-02T13:01:08.369541",
     "status": "completed"
    },
    "tags": []
   },
   "outputs": [
    {
     "data": {
      "image/png": "[encoded data removed]",
      "text/plain": [
       "<Figure size 300x300 with 2 Axes>"
      ]
     },
     "metadata": {},
     "output_type": "display_data"
    }
   ],
   "source": [
    "# display the confusion matrix\n",
    "matrix = confusion_matrix(y_test_xgb, y_pred)\n",
    "display = ConfusionMatrixDisplay(confusion_matrix=matrix)\n",
    "fig,ax = plt.subplots(figsize=(3, 3))\n",
    "display.plot(ax=ax, cmap=plt.cm.Blues)\n",
    "plt.show()"
   ]
  },
  {
   "cell_type": "code",
   "execution_count": 42,
   "id": "d16d3490",
   "metadata": {
    "execution": {
     "iopub.execute_input": "2023-07-02T13:01:08.825391Z",
     "iopub.status.busy": "2023-07-02T13:01:08.825005Z",
     "iopub.status.idle": "2023-07-02T13:01:08.875692Z",
     "shell.execute_reply": "2023-07-02T13:01:08.874585Z"
    },
    "papermill": {
     "duration": 0.087955,
     "end_time": "2023-07-02T13:01:08.878586",
     "exception": false,
     "start_time": "2023-07-02T13:01:08.790631",
     "status": "completed"
    },
    "tags": []
   },
   "outputs": [],
   "source": [
    "accuracy = accuracy_score(y_test_xgb, y_pred)\n",
    "f1_micro = f1_score(y_test_xgb, y_pred, average='micro')\n",
    "f1_macro = f1_score(y_test_xgb, y_pred, average='macro')\n",
    "f1_weighted = f1_score(y_test_xgb, y_pred, average='weighted')\n",
    "recall_micro = recall_score(y_test_xgb, y_pred, average='micro')\n",
    "recall_macro = recall_score(y_test_xgb, y_pred, average='macro')\n",
    "recall_weighted = recall_score(y_test_xgb, y_pred, average='weighted')\n",
    "precision_micro = precision_score(y_test_xgb, y_pred, average='micro')\n",
    "precision_macro = precision_score(y_test_xgb, y_pred, average='macro')\n",
    "precision_weighted = precision_score(y_test_xgb, y_pred, average='weighted')\n",
    "\n",
    "performance = pd.concat([performance, pd.DataFrame({\"model\": 'XG Boost', \"accuracy\": [accuracy], \n",
    "                                                    \"precision_micro\": [precision_micro], \"precision_macro\": [precision_macro], \n",
    "                                                    \"precision_weighted\": [precision_weighted], \"recall_micro\": [recall_micro], \n",
    "                                                    \"f1_micro\": [f1_micro], \"f1_macro\": [f1_macro], \n",
    "                                                    \"f1_weighted\": [f1_weighted], \"recall_macro\": [recall_macro], \n",
    "                                                    \"recall_weighted\": [recall_weighted]})])"
   ]
  },
  {
   "attachments": {},
   "cell_type": "markdown",
   "id": "1f6b3e66",
   "metadata": {
    "papermill": {
     "duration": 0.029223,
     "end_time": "2023-07-02T13:01:08.937329",
     "exception": false,
     "start_time": "2023-07-02T13:01:08.908106",
     "status": "completed"
    },
    "tags": []
   },
   "source": [
    "# Prediction with Neural Networks (using default parameters)"
   ]
  },
  {
   "cell_type": "code",
   "execution_count": 43,
   "id": "45510388",
   "metadata": {
    "execution": {
     "iopub.execute_input": "2023-07-02T13:01:08.998190Z",
     "iopub.status.busy": "2023-07-02T13:01:08.997758Z",
     "iopub.status.idle": "2023-07-02T13:01:57.598667Z",
     "shell.execute_reply": "2023-07-02T13:01:57.597298Z"
    },
    "papermill": {
     "duration": 48.662858,
     "end_time": "2023-07-02T13:01:57.629760",
     "exception": false,
     "start_time": "2023-07-02T13:01:08.966902",
     "status": "completed"
    },
    "tags": []
   },
   "outputs": [
    {
     "name": "stdout",
     "output_type": "stream",
     "text": [
      "                       precision    recall  f1-score   support\n",
      "\n",
      "     advanced_backend     0.9652    0.9671    0.9661      1003\n",
      "advanced_data_science     0.9401    0.9457    0.9429       995\n",
      "   advanced_front_end     0.9591    0.9562    0.9576       981\n",
      "     beginner_backend     0.9442    0.9368    0.9405      1012\n",
      "beginner_data_science     0.9580    0.9522    0.9551      1005\n",
      "   beginner_front_end     0.9546    0.9631    0.9588      1004\n",
      "\n",
      "             accuracy                         0.9535      6000\n",
      "            macro avg     0.9535    0.9535    0.9535      6000\n",
      "         weighted avg     0.9535    0.9535    0.9535      6000\n",
      "\n"
     ]
    }
   ],
   "source": [
    "NNModel = MLPClassifier(hidden_layer_sizes=(128,64,32), solver='adam', max_iter=500)\n",
    "_ = NNModel.fit(X_train, np.ravel(y_train))\n",
    "\n",
    "y_pred = NNModel.predict(X_test)\n",
    "print(classification_report(y_test, y_pred, digits=4))"
   ]
  },
  {
   "cell_type": "code",
   "execution_count": 44,
   "id": "54d0daa2",
   "metadata": {
    "execution": {
     "iopub.execute_input": "2023-07-02T13:01:57.705549Z",
     "iopub.status.busy": "2023-07-02T13:01:57.704650Z",
     "iopub.status.idle": "2023-07-02T13:01:58.030436Z",
     "shell.execute_reply": "2023-07-02T13:01:58.029559Z"
    },
    "papermill": {
     "duration": 0.369548,
     "end_time": "2023-07-02T13:01:58.033057",
     "exception": false,
     "start_time": "2023-07-02T13:01:57.663509",
     "status": "completed"
    },
    "tags": []
   },
   "outputs": [
    {
     "data": {
      "image/png": "[encoded data removed]",
      "text/plain": [
       "<Figure size 300x300 with 2 Axes>"
      ]
     },
     "metadata": {},
     "output_type": "display_data"
    }
   ],
   "source": [
    "# display the confusion matrix\n",
    "matrix = confusion_matrix(y_test, y_pred)\n",
    "display = ConfusionMatrixDisplay(confusion_matrix=matrix)\n",
    "fig,ax = plt.subplots(figsize=(3, 3))\n",
    "display.plot(ax=ax, cmap=plt.cm.Blues)\n",
    "plt.show()"
   ]
  },
  {
   "cell_type": "code",
   "execution_count": 45,
   "id": "dd252dad",
   "metadata": {
    "execution": {
     "iopub.execute_input": "2023-07-02T13:01:58.095811Z",
     "iopub.status.busy": "2023-07-02T13:01:58.094998Z",
     "iopub.status.idle": "2023-07-02T13:01:58.633167Z",
     "shell.execute_reply": "2023-07-02T13:01:58.631673Z"
    },
    "papermill": {
     "duration": 0.572792,
     "end_time": "2023-07-02T13:01:58.636004",
     "exception": false,
     "start_time": "2023-07-02T13:01:58.063212",
     "status": "completed"
    },
    "tags": []
   },
   "outputs": [],
   "source": [
    "accuracy = accuracy_score(y_test, y_pred)\n",
    "f1_micro = f1_score(y_test, y_pred, average='micro')\n",
    "f1_macro = f1_score(y_test, y_pred, average='macro')\n",
    "f1_weighted = f1_score(y_test, y_pred, average='weighted')\n",
    "recall_micro = recall_score(y_test, y_pred, average='micro')\n",
    "recall_macro = recall_score(y_test, y_pred, average='macro')\n",
    "recall_weighted = recall_score(y_test, y_pred, average='weighted')\n",
    "precision_micro = precision_score(y_test, y_pred, average='micro')\n",
    "precision_macro = precision_score(y_test, y_pred, average='macro')\n",
    "precision_weighted = precision_score(y_test, y_pred, average='weighted')\n",
    "\n",
    "performance = pd.concat([performance, pd.DataFrame({\"model\": 'Neural Networks', \"accuracy\": [accuracy], \n",
    "                                                    \"precision_micro\": [precision_micro], \"precision_macro\": [precision_macro], \n",
    "                                                    \"precision_weighted\": [precision_weighted], \"recall_micro\": [recall_micro], \n",
    "                                                    \"f1_micro\": [f1_micro], \"f1_macro\": [f1_macro], \n",
    "                                                    \"f1_weighted\": [f1_weighted], \"recall_macro\": [recall_macro], \n",
    "                                                    \"recall_weighted\": [recall_weighted]})])"
   ]
  },
  {
   "cell_type": "code",
   "execution_count": 46,
   "id": "b7261ba1",
   "metadata": {
    "execution": {
     "iopub.execute_input": "2023-07-02T13:01:58.698860Z",
     "iopub.status.busy": "2023-07-02T13:01:58.698387Z",
     "iopub.status.idle": "2023-07-02T13:01:58.719059Z",
     "shell.execute_reply": "2023-07-02T13:01:58.718268Z"
    },
    "papermill": {
     "duration": 0.05536,
     "end_time": "2023-07-02T13:01:58.721445",
     "exception": false,
     "start_time": "2023-07-02T13:01:58.666085",
     "status": "completed"
    },
    "tags": []
   },
   "outputs": [
    {
     "data": {
      "text/html": [
       "<div>\n",
       "<style scoped>\n",
       "    .dataframe tbody tr th:only-of-type {\n",
       "        vertical-align: middle;\n",
       "    }\n",
       "\n",
       "    .dataframe tbody tr th {\n",
       "        vertical-align: top;\n",
       "    }\n",
       "\n",
       "    .dataframe thead th {\n",
       "        text-align: right;\n",
       "    }\n",
       "</style>\n",
       "<table border=\"1\" class=\"dataframe\">\n",
       "  <thead>\n",
       "    <tr style=\"text-align: right;\">\n",
       "      <th></th>\n",
       "      <th>model</th>\n",
       "      <th>accuracy</th>\n",
       "      <th>precision_micro</th>\n",
       "      <th>precision_macro</th>\n",
       "      <th>precision_weighted</th>\n",
       "      <th>recall_micro</th>\n",
       "      <th>recall_macro</th>\n",
       "      <th>recall_weighted</th>\n",
       "      <th>f1_micro</th>\n",
       "      <th>f1_macro</th>\n",
       "      <th>f1_weighted</th>\n",
       "    </tr>\n",
       "  </thead>\n",
       "  <tbody>\n",
       "    <tr>\n",
       "      <th>0</th>\n",
       "      <td>Logestic Regression</td>\n",
       "      <td>0.697167</td>\n",
       "      <td>0.697167</td>\n",
       "      <td>0.697510</td>\n",
       "      <td>0.697382</td>\n",
       "      <td>0.697167</td>\n",
       "      <td>0.697502</td>\n",
       "      <td>0.697167</td>\n",
       "      <td>0.697167</td>\n",
       "      <td>0.696666</td>\n",
       "      <td>0.696430</td>\n",
       "    </tr>\n",
       "    <tr>\n",
       "      <th>0</th>\n",
       "      <td>Decision Tree</td>\n",
       "      <td>0.750500</td>\n",
       "      <td>0.750500</td>\n",
       "      <td>0.750335</td>\n",
       "      <td>0.750291</td>\n",
       "      <td>0.750500</td>\n",
       "      <td>0.750672</td>\n",
       "      <td>0.750500</td>\n",
       "      <td>0.750500</td>\n",
       "      <td>0.750389</td>\n",
       "      <td>0.750281</td>\n",
       "    </tr>\n",
       "    <tr>\n",
       "      <th>0</th>\n",
       "      <td>Random Forest</td>\n",
       "      <td>0.913000</td>\n",
       "      <td>0.913000</td>\n",
       "      <td>0.913119</td>\n",
       "      <td>0.913177</td>\n",
       "      <td>0.913000</td>\n",
       "      <td>0.913047</td>\n",
       "      <td>0.913000</td>\n",
       "      <td>0.913000</td>\n",
       "      <td>0.912936</td>\n",
       "      <td>0.912941</td>\n",
       "    </tr>\n",
       "    <tr>\n",
       "      <th>0</th>\n",
       "      <td>ADA Boost</td>\n",
       "      <td>0.586833</td>\n",
       "      <td>0.586833</td>\n",
       "      <td>0.586660</td>\n",
       "      <td>0.586273</td>\n",
       "      <td>0.586833</td>\n",
       "      <td>0.586849</td>\n",
       "      <td>0.586833</td>\n",
       "      <td>0.586833</td>\n",
       "      <td>0.585095</td>\n",
       "      <td>0.584900</td>\n",
       "    </tr>\n",
       "    <tr>\n",
       "      <th>0</th>\n",
       "      <td>Gradient Boost</td>\n",
       "      <td>0.870333</td>\n",
       "      <td>0.870333</td>\n",
       "      <td>0.870702</td>\n",
       "      <td>0.870726</td>\n",
       "      <td>0.870333</td>\n",
       "      <td>0.870383</td>\n",
       "      <td>0.870333</td>\n",
       "      <td>0.870333</td>\n",
       "      <td>0.870280</td>\n",
       "      <td>0.870266</td>\n",
       "    </tr>\n",
       "    <tr>\n",
       "      <th>0</th>\n",
       "      <td>XG Boost</td>\n",
       "      <td>0.928667</td>\n",
       "      <td>0.928667</td>\n",
       "      <td>0.928770</td>\n",
       "      <td>0.928815</td>\n",
       "      <td>0.928667</td>\n",
       "      <td>0.928713</td>\n",
       "      <td>0.928667</td>\n",
       "      <td>0.928667</td>\n",
       "      <td>0.928669</td>\n",
       "      <td>0.928669</td>\n",
       "    </tr>\n",
       "    <tr>\n",
       "      <th>0</th>\n",
       "      <td>Neural Networks</td>\n",
       "      <td>0.953500</td>\n",
       "      <td>0.953500</td>\n",
       "      <td>0.953518</td>\n",
       "      <td>0.953503</td>\n",
       "      <td>0.953500</td>\n",
       "      <td>0.953523</td>\n",
       "      <td>0.953500</td>\n",
       "      <td>0.953500</td>\n",
       "      <td>0.953511</td>\n",
       "      <td>0.953492</td>\n",
       "    </tr>\n",
       "  </tbody>\n",
       "</table>\n",
       "</div>"
      ],
      "text/plain": [
       "                 model  accuracy  precision_micro  precision_macro  \\\n",
       "0  Logestic Regression  0.697167         0.697167         0.697510   \n",
       "0        Decision Tree  0.750500         0.750500         0.750335   \n",
       "0        Random Forest  0.913000         0.913000         0.913119   \n",
       "0            ADA Boost  0.586833         0.586833         0.586660   \n",
       "0       Gradient Boost  0.870333         0.870333         0.870702   \n",
       "0             XG Boost  0.928667         0.928667         0.928770   \n",
       "0      Neural Networks  0.953500         0.953500         0.953518   \n",
       "\n",
       "   precision_weighted  recall_micro  recall_macro  recall_weighted  f1_micro  \\\n",
       "0            0.697382      0.697167      0.697502         0.697167  0.697167   \n",
       "0            0.750291      0.750500      0.750672         0.750500  0.750500   \n",
       "0            0.913177      0.913000      0.913047         0.913000  0.913000   \n",
       "0            0.586273      0.586833      0.586849         0.586833  0.586833   \n",
       "0            0.870726      0.870333      0.870383         0.870333  0.870333   \n",
       "0            0.928815      0.928667      0.928713         0.928667  0.928667   \n",
       "0            0.953503      0.953500      0.953523         0.953500  0.953500   \n",
       "\n",
       "   f1_macro  f1_weighted  \n",
       "0  0.696666     0.696430  \n",
       "0  0.750389     0.750281  \n",
       "0  0.912936     0.912941  \n",
       "0  0.585095     0.584900  \n",
       "0  0.870280     0.870266  \n",
       "0  0.928669     0.928669  \n",
       "0  0.953511     0.953492  "
      ]
     },
     "execution_count": 46,
     "metadata": {},
     "output_type": "execute_result"
    }
   ],
   "source": [
    "performance"
   ]
  },
  {
   "attachments": {},
   "cell_type": "markdown",
   "id": "cf985298",
   "metadata": {
    "papermill": {
     "duration": 0.031041,
     "end_time": "2023-07-02T13:01:58.784699",
     "exception": false,
     "start_time": "2023-07-02T13:01:58.753658",
     "status": "completed"
    },
    "tags": []
   },
   "source": [
    "# Results Discussion\n",
    "\n",
    "So far Neural networks gave best accuracy with around 95%, not only accuracy it gave best results in all score metrics. So I will try to improve accuracy of Neural Networks by using RandomSearchCV"
   ]
  },
  {
   "attachments": {},
   "cell_type": "markdown",
   "id": "3288d520",
   "metadata": {
    "papermill": {
     "duration": 0.030467,
     "end_time": "2023-07-02T13:01:58.845668",
     "exception": false,
     "start_time": "2023-07-02T13:01:58.815201",
     "status": "completed"
    },
    "tags": []
   },
   "source": [
    "# Prediction with Neural Networks (using RandomSearchCV)"
   ]
  },
  {
   "attachments": {},
   "cell_type": "markdown",
   "id": "b0979c96",
   "metadata": {
    "papermill": {
     "duration": 0.030149,
     "end_time": "2023-07-02T13:01:58.906311",
     "exception": false,
     "start_time": "2023-07-02T13:01:58.876162",
     "status": "completed"
    },
    "tags": []
   },
   "source": [
    "%%time\n",
    "\n",
    "imp_metric = \"accuracy\"\n",
    "kfolds = 4\n",
    "\n",
    "parameters = {\n",
    "    'hidden_layer_sizes': [(16,), (32,), (64,), (16,8)],\n",
    "    'activation': ['logistic', 'tanh', 'relu'],\n",
    "    'solver': ['adam', 'sgd'],\n",
    "    'alpha': [0, .2, .5, .7],\n",
    "    'learning_rate': ['constant', 'invscaling', 'adaptive'],\n",
    "    'learning_rate_init': [0.0001, 0.001, 0.01],\n",
    "    'max_iter': [5000]\n",
    "}\n",
    "\n",
    "nnRandomModel = MLPClassifier(random_state=1)\n",
    "randomSearch = RandomizedSearchCV(\n",
    "    estimator = nnRandomModel,     \n",
    "    param_distributions=parameters,\n",
    "    cv=kfolds,\n",
    "    n_iter=100,\n",
    "    scoring=imp_metric,\n",
    "    verbose=0,\n",
    "    n_jobs=-1,\n",
    "    random_state=1\n",
    ")\n",
    "\n",
    "randomSearch.fit(X_train, np.ravel(y_train))\n",
    "\n",
    "NNModel = randomSearch.best_estimator_\n",
    "\n",
    "print(randomSearch.best_params_)"
   ]
  },
  {
   "attachments": {},
   "cell_type": "markdown",
   "id": "c33a08ed",
   "metadata": {
    "execution": {
     "iopub.execute_input": "2023-07-02T12:26:47.975398Z",
     "iopub.status.busy": "2023-07-02T12:26:47.974935Z",
     "iopub.status.idle": "2023-07-02T12:26:48.328569Z",
     "shell.execute_reply": "2023-07-02T12:26:48.326819Z",
     "shell.execute_reply.started": "2023-07-02T12:26:47.975353Z"
    },
    "papermill": {
     "duration": 0.030445,
     "end_time": "2023-07-02T13:01:58.967320",
     "exception": false,
     "start_time": "2023-07-02T13:01:58.936875",
     "status": "completed"
    },
    "tags": []
   },
   "source": [
    "y_pred = NNModel.predict(X_test)\n",
    "\n",
    "print(classification_report(y_test, y_pred, digits=4))"
   ]
  },
  {
   "attachments": {},
   "cell_type": "markdown",
   "id": "ed2f6ac5",
   "metadata": {
    "execution": {
     "iopub.execute_input": "2023-07-02T12:26:48.723240Z",
     "iopub.status.busy": "2023-07-02T12:26:48.722891Z",
     "iopub.status.idle": "2023-07-02T12:26:49.104805Z",
     "shell.execute_reply": "2023-07-02T12:26:49.103689Z",
     "shell.execute_reply.started": "2023-07-02T12:26:48.723211Z"
    },
    "papermill": {
     "duration": 0.030203,
     "end_time": "2023-07-02T13:01:59.028010",
     "exception": false,
     "start_time": "2023-07-02T13:01:58.997807",
     "status": "completed"
    },
    "tags": []
   },
   "source": [
    "### Display the confusion matrix\n",
    "matrix = confusion_matrix(y_test, y_pred)\n",
    "display = ConfusionMatrixDisplay(confusion_matrix=matrix)\n",
    "fig,ax = plt.subplots(figsize=(3, 3))\n",
    "display.plot(ax=ax, cmap=plt.cm.Blues)\n",
    "plt.show()"
   ]
  },
  {
   "attachments": {},
   "cell_type": "markdown",
   "id": "f85958d8",
   "metadata": {
    "execution": {
     "iopub.execute_input": "2023-07-02T12:26:49.106745Z",
     "iopub.status.busy": "2023-07-02T12:26:49.106268Z",
     "iopub.status.idle": "2023-07-02T12:26:49.742846Z",
     "shell.execute_reply": "2023-07-02T12:26:49.741706Z",
     "shell.execute_reply.started": "2023-07-02T12:26:49.106705Z"
    },
    "papermill": {
     "duration": 0.029995,
     "end_time": "2023-07-02T13:01:59.088431",
     "exception": false,
     "start_time": "2023-07-02T13:01:59.058436",
     "status": "completed"
    },
    "tags": []
   },
   "source": [
    "accuracy = NNModel.score(X_test, y_test)\n",
    "f1_micro = f1_score(y_test, y_pred, average='micro')\n",
    "f1_macro = f1_score(y_test, y_pred, average='macro')\n",
    "f1_weighted = f1_score(y_test, y_pred, average='weighted')\n",
    "recall_micro = recall_score(y_test, y_pred, average='micro')\n",
    "recall_macro = recall_score(y_test, y_pred, average='macro')\n",
    "recall_weighted = recall_score(y_test, y_pred, average='weighted')\n",
    "precision_micro = precision_score(y_test, y_pred, average='micro')\n",
    "precision_macro = precision_score(y_test, y_pred, average='macro')\n",
    "precision_weighted = precision_score(y_test, y_pred, average='weighted')\n",
    "\n",
    "performance = pd.concat([performance, pd.DataFrame({\"model\": 'Neural Networks Random Search', \"accuracy\": [accuracy], \n",
    "                                                    \"f1_micro\": [f1_micro], \"f1_macro\": [f1_macro], \n",
    "                                                    \"f1_weighted\": [f1_weighted], \"recall_micro\": [recall_micro], \n",
    "                                                    \"recall_macro\": [recall_macro], \"recall_weighted\": [recall_weighted], \n",
    "                                                    \"precision_micro\": [precision_micro], \"precision_macro\": [precision_macro], \n",
    "                                                    \"precision_weighted\": [precision_weighted]})])\n",
    "performance"
   ]
  },
  {
   "attachments": {},
   "cell_type": "markdown",
   "id": "35c808ee",
   "metadata": {
    "papermill": {
     "duration": 0.030226,
     "end_time": "2023-07-02T13:01:59.150188",
     "exception": false,
     "start_time": "2023-07-02T13:01:59.119962",
     "status": "completed"
    },
    "tags": []
   },
   "source": [
    "## The random searchd with hyperparameter tuning did help to improve accuracy to around 96% but I would not recomend it unless you have an accelerator/faster GPU in kaggle because it took me around 1hr15min to run RandomSearchCV. So for now I am using Neural network with default parameters."
   ]
  },
  {
   "attachments": {},
   "cell_type": "markdown",
   "id": "0c261d3d",
   "metadata": {
    "papermill": {
     "duration": 0.03018,
     "end_time": "2023-07-02T13:01:59.210797",
     "exception": false,
     "start_time": "2023-07-02T13:01:59.180617",
     "status": "completed"
    },
    "tags": []
   },
   "source": [
    "# Loading Unscored Data"
   ]
  },
  {
   "cell_type": "code",
   "execution_count": 47,
   "id": "be84684d",
   "metadata": {
    "execution": {
     "iopub.execute_input": "2023-07-02T13:01:59.274620Z",
     "iopub.status.busy": "2023-07-02T13:01:59.273720Z",
     "iopub.status.idle": "2023-07-02T13:01:59.287529Z",
     "shell.execute_reply": "2023-07-02T13:01:59.286672Z"
    },
    "papermill": {
     "duration": 0.048228,
     "end_time": "2023-07-02T13:01:59.290048",
     "exception": false,
     "start_time": "2023-07-02T13:01:59.241820",
     "status": "completed"
    },
    "tags": []
   },
   "outputs": [],
   "source": [
    "studentsUnScoredData = pd.read_csv('/kaggle/input/tech-students-profile-prediction/to_be_scored_tortuga.csv')"
   ]
  },
  {
   "cell_type": "code",
   "execution_count": 48,
   "id": "6779f782",
   "metadata": {
    "execution": {
     "iopub.execute_input": "2023-07-02T13:01:59.353503Z",
     "iopub.status.busy": "2023-07-02T13:01:59.352756Z",
     "iopub.status.idle": "2023-07-02T13:01:59.366939Z",
     "shell.execute_reply": "2023-07-02T13:01:59.366100Z"
    },
    "papermill": {
     "duration": 0.048283,
     "end_time": "2023-07-02T13:01:59.369091",
     "exception": false,
     "start_time": "2023-07-02T13:01:59.320808",
     "status": "completed"
    },
    "tags": []
   },
   "outputs": [
    {
     "data": {
      "text/html": [
       "<div>\n",
       "<style scoped>\n",
       "    .dataframe tbody tr th:only-of-type {\n",
       "        vertical-align: middle;\n",
       "    }\n",
       "\n",
       "    .dataframe tbody tr th {\n",
       "        vertical-align: top;\n",
       "    }\n",
       "\n",
       "    .dataframe thead th {\n",
       "        text-align: right;\n",
       "    }\n",
       "</style>\n",
       "<table border=\"1\" class=\"dataframe\">\n",
       "  <thead>\n",
       "    <tr style=\"text-align: right;\">\n",
       "      <th></th>\n",
       "      <th>Unnamed: 0</th>\n",
       "      <th>NAME</th>\n",
       "      <th>USER_ID</th>\n",
       "      <th>HOURS_DATASCIENCE</th>\n",
       "      <th>HOURS_BACKEND</th>\n",
       "      <th>HOURS_FRONTEND</th>\n",
       "      <th>NUM_COURSES_BEGINNER_DATASCIENCE</th>\n",
       "      <th>NUM_COURSES_BEGINNER_BACKEND</th>\n",
       "      <th>NUM_COURSES_BEGINNER_FRONTEND</th>\n",
       "      <th>NUM_COURSES_ADVANCED_DATASCIENCE</th>\n",
       "      <th>NUM_COURSES_ADVANCED_BACKEND</th>\n",
       "      <th>NUM_COURSES_ADVANCED_FRONTEND</th>\n",
       "      <th>AVG_SCORE_DATASCIENCE</th>\n",
       "      <th>AVG_SCORE_BACKEND</th>\n",
       "      <th>AVG_SCORE_FRONTEND</th>\n",
       "    </tr>\n",
       "  </thead>\n",
       "  <tbody>\n",
       "    <tr>\n",
       "      <th>0</th>\n",
       "      <td>0</td>\n",
       "      <td>Melody Gentry</td>\n",
       "      <td>39064009</td>\n",
       "      <td>84</td>\n",
       "      <td>30</td>\n",
       "      <td>0</td>\n",
       "      <td>4</td>\n",
       "      <td>6</td>\n",
       "      <td>3</td>\n",
       "      <td>3</td>\n",
       "      <td>7</td>\n",
       "      <td>6</td>\n",
       "      <td>51</td>\n",
       "      <td>74</td>\n",
       "      <td>37</td>\n",
       "    </tr>\n",
       "    <tr>\n",
       "      <th>1</th>\n",
       "      <td>1</td>\n",
       "      <td>Lera Mitchel</td>\n",
       "      <td>26414743</td>\n",
       "      <td>42</td>\n",
       "      <td>74</td>\n",
       "      <td>13</td>\n",
       "      <td>3</td>\n",
       "      <td>6</td>\n",
       "      <td>4</td>\n",
       "      <td>2</td>\n",
       "      <td>7</td>\n",
       "      <td>5</td>\n",
       "      <td>82</td>\n",
       "      <td>59</td>\n",
       "      <td>50</td>\n",
       "    </tr>\n",
       "    <tr>\n",
       "      <th>2</th>\n",
       "      <td>2</td>\n",
       "      <td>Dianne Ransdell</td>\n",
       "      <td>40811094</td>\n",
       "      <td>18</td>\n",
       "      <td>76</td>\n",
       "      <td>38</td>\n",
       "      <td>5</td>\n",
       "      <td>2</td>\n",
       "      <td>8</td>\n",
       "      <td>8</td>\n",
       "      <td>3</td>\n",
       "      <td>8</td>\n",
       "      <td>77</td>\n",
       "      <td>53</td>\n",
       "      <td>50</td>\n",
       "    </tr>\n",
       "  </tbody>\n",
       "</table>\n",
       "</div>"
      ],
      "text/plain": [
       "   Unnamed: 0             NAME   USER_ID  HOURS_DATASCIENCE  HOURS_BACKEND  \\\n",
       "0           0    Melody Gentry  39064009                 84             30   \n",
       "1           1     Lera Mitchel  26414743                 42             74   \n",
       "2           2  Dianne Ransdell  40811094                 18             76   \n",
       "\n",
       "   HOURS_FRONTEND  NUM_COURSES_BEGINNER_DATASCIENCE  \\\n",
       "0               0                                 4   \n",
       "1              13                                 3   \n",
       "2              38                                 5   \n",
       "\n",
       "   NUM_COURSES_BEGINNER_BACKEND  NUM_COURSES_BEGINNER_FRONTEND  \\\n",
       "0                             6                              3   \n",
       "1                             6                              4   \n",
       "2                             2                              8   \n",
       "\n",
       "   NUM_COURSES_ADVANCED_DATASCIENCE  NUM_COURSES_ADVANCED_BACKEND  \\\n",
       "0                                 3                             7   \n",
       "1                                 2                             7   \n",
       "2                                 8                             3   \n",
       "\n",
       "   NUM_COURSES_ADVANCED_FRONTEND  AVG_SCORE_DATASCIENCE  AVG_SCORE_BACKEND  \\\n",
       "0                              6                     51                 74   \n",
       "1                              5                     82                 59   \n",
       "2                              8                     77                 53   \n",
       "\n",
       "   AVG_SCORE_FRONTEND  \n",
       "0                  37  \n",
       "1                  50  \n",
       "2                  50  "
      ]
     },
     "execution_count": 48,
     "metadata": {},
     "output_type": "execute_result"
    }
   ],
   "source": [
    "studentsUnScoredData.head(3)"
   ]
  },
  {
   "cell_type": "code",
   "execution_count": 49,
   "id": "23537f17",
   "metadata": {
    "execution": {
     "iopub.execute_input": "2023-07-02T13:01:59.432647Z",
     "iopub.status.busy": "2023-07-02T13:01:59.431856Z",
     "iopub.status.idle": "2023-07-02T13:01:59.440170Z",
     "shell.execute_reply": "2023-07-02T13:01:59.439390Z"
    },
    "papermill": {
     "duration": 0.04261,
     "end_time": "2023-07-02T13:01:59.442366",
     "exception": false,
     "start_time": "2023-07-02T13:01:59.399756",
     "status": "completed"
    },
    "tags": []
   },
   "outputs": [
    {
     "data": {
      "text/plain": [
       "Unnamed: 0                          0\n",
       "NAME                                0\n",
       "USER_ID                             0\n",
       "HOURS_DATASCIENCE                   0\n",
       "HOURS_BACKEND                       0\n",
       "HOURS_FRONTEND                      0\n",
       "NUM_COURSES_BEGINNER_DATASCIENCE    0\n",
       "NUM_COURSES_BEGINNER_BACKEND        0\n",
       "NUM_COURSES_BEGINNER_FRONTEND       0\n",
       "NUM_COURSES_ADVANCED_DATASCIENCE    0\n",
       "NUM_COURSES_ADVANCED_BACKEND        0\n",
       "NUM_COURSES_ADVANCED_FRONTEND       0\n",
       "AVG_SCORE_DATASCIENCE               0\n",
       "AVG_SCORE_BACKEND                   0\n",
       "AVG_SCORE_FRONTEND                  0\n",
       "dtype: int64"
      ]
     },
     "execution_count": 49,
     "metadata": {},
     "output_type": "execute_result"
    }
   ],
   "source": [
    "# Looking for any null values\n",
    "\n",
    "studentsUnScoredData.isna().sum()"
   ]
  },
  {
   "attachments": {},
   "cell_type": "markdown",
   "id": "74cf5454",
   "metadata": {
    "papermill": {
     "duration": 0.030511,
     "end_time": "2023-07-02T13:01:59.503852",
     "exception": false,
     "start_time": "2023-07-02T13:01:59.473341",
     "status": "completed"
    },
    "tags": []
   },
   "source": [
    "# Preprocessing unscored data"
   ]
  },
  {
   "cell_type": "code",
   "execution_count": 50,
   "id": "b6cbb158",
   "metadata": {
    "execution": {
     "iopub.execute_input": "2023-07-02T13:01:59.567862Z",
     "iopub.status.busy": "2023-07-02T13:01:59.567146Z",
     "iopub.status.idle": "2023-07-02T13:01:59.581821Z",
     "shell.execute_reply": "2023-07-02T13:01:59.580327Z"
    },
    "papermill": {
     "duration": 0.049784,
     "end_time": "2023-07-02T13:01:59.584606",
     "exception": false,
     "start_time": "2023-07-02T13:01:59.534822",
     "status": "completed"
    },
    "tags": []
   },
   "outputs": [],
   "source": [
    "unScoredData = studentsUnScoredData.drop(['Unnamed: 0', 'NAME', 'USER_ID'], axis=1)\n",
    "predictorsUnScored = list(unScoredData.columns)\n",
    "unScoredData[predictorsUnScored] = scaler.fit_transform(unScoredData[predictorsUnScored])"
   ]
  },
  {
   "cell_type": "code",
   "execution_count": 51,
   "id": "ec473b3b",
   "metadata": {
    "execution": {
     "iopub.execute_input": "2023-07-02T13:01:59.649589Z",
     "iopub.status.busy": "2023-07-02T13:01:59.648850Z",
     "iopub.status.idle": "2023-07-02T13:01:59.654448Z",
     "shell.execute_reply": "2023-07-02T13:01:59.653606Z"
    },
    "papermill": {
     "duration": 0.04073,
     "end_time": "2023-07-02T13:01:59.656701",
     "exception": false,
     "start_time": "2023-07-02T13:01:59.615971",
     "status": "completed"
    },
    "tags": []
   },
   "outputs": [],
   "source": [
    "profilePredictors = unScoredData[predictorsUnScored]"
   ]
  },
  {
   "attachments": {},
   "cell_type": "markdown",
   "id": "40b78f67",
   "metadata": {
    "papermill": {
     "duration": 0.030808,
     "end_time": "2023-07-02T13:01:59.718558",
     "exception": false,
     "start_time": "2023-07-02T13:01:59.687750",
     "status": "completed"
    },
    "tags": []
   },
   "source": [
    "# Generating our predicted profiles and adding them to unscored dataset"
   ]
  },
  {
   "cell_type": "code",
   "execution_count": 52,
   "id": "5311cc2e",
   "metadata": {
    "execution": {
     "iopub.execute_input": "2023-07-02T13:01:59.783465Z",
     "iopub.status.busy": "2023-07-02T13:01:59.782402Z",
     "iopub.status.idle": "2023-07-02T13:01:59.796337Z",
     "shell.execute_reply": "2023-07-02T13:01:59.794310Z"
    },
    "papermill": {
     "duration": 0.051854,
     "end_time": "2023-07-02T13:01:59.801725",
     "exception": false,
     "start_time": "2023-07-02T13:01:59.749871",
     "status": "completed"
    },
    "tags": []
   },
   "outputs": [],
   "source": [
    "predictedProfile = NNModel.predict(profilePredictors)"
   ]
  },
  {
   "cell_type": "code",
   "execution_count": 53,
   "id": "12f06818",
   "metadata": {
    "execution": {
     "iopub.execute_input": "2023-07-02T13:01:59.923670Z",
     "iopub.status.busy": "2023-07-02T13:01:59.923291Z",
     "iopub.status.idle": "2023-07-02T13:01:59.929052Z",
     "shell.execute_reply": "2023-07-02T13:01:59.928193Z"
    },
    "papermill": {
     "duration": 0.062923,
     "end_time": "2023-07-02T13:01:59.931382",
     "exception": false,
     "start_time": "2023-07-02T13:01:59.868459",
     "status": "completed"
    },
    "tags": []
   },
   "outputs": [],
   "source": [
    "studentsUnScoredData['PROFILE'] = predictedProfile"
   ]
  },
  {
   "cell_type": "code",
   "execution_count": 54,
   "id": "52b8dd53",
   "metadata": {
    "execution": {
     "iopub.execute_input": "2023-07-02T13:01:59.995647Z",
     "iopub.status.busy": "2023-07-02T13:01:59.994642Z",
     "iopub.status.idle": "2023-07-02T13:02:00.011689Z",
     "shell.execute_reply": "2023-07-02T13:02:00.010608Z"
    },
    "papermill": {
     "duration": 0.05181,
     "end_time": "2023-07-02T13:02:00.014118",
     "exception": false,
     "start_time": "2023-07-02T13:01:59.962308",
     "status": "completed"
    },
    "tags": []
   },
   "outputs": [
    {
     "data": {
      "text/html": [
       "<div>\n",
       "<style scoped>\n",
       "    .dataframe tbody tr th:only-of-type {\n",
       "        vertical-align: middle;\n",
       "    }\n",
       "\n",
       "    .dataframe tbody tr th {\n",
       "        vertical-align: top;\n",
       "    }\n",
       "\n",
       "    .dataframe thead th {\n",
       "        text-align: right;\n",
       "    }\n",
       "</style>\n",
       "<table border=\"1\" class=\"dataframe\">\n",
       "  <thead>\n",
       "    <tr style=\"text-align: right;\">\n",
       "      <th></th>\n",
       "      <th>Unnamed: 0</th>\n",
       "      <th>NAME</th>\n",
       "      <th>USER_ID</th>\n",
       "      <th>HOURS_DATASCIENCE</th>\n",
       "      <th>HOURS_BACKEND</th>\n",
       "      <th>HOURS_FRONTEND</th>\n",
       "      <th>NUM_COURSES_BEGINNER_DATASCIENCE</th>\n",
       "      <th>NUM_COURSES_BEGINNER_BACKEND</th>\n",
       "      <th>NUM_COURSES_BEGINNER_FRONTEND</th>\n",
       "      <th>NUM_COURSES_ADVANCED_DATASCIENCE</th>\n",
       "      <th>NUM_COURSES_ADVANCED_BACKEND</th>\n",
       "      <th>NUM_COURSES_ADVANCED_FRONTEND</th>\n",
       "      <th>AVG_SCORE_DATASCIENCE</th>\n",
       "      <th>AVG_SCORE_BACKEND</th>\n",
       "      <th>AVG_SCORE_FRONTEND</th>\n",
       "      <th>PROFILE</th>\n",
       "    </tr>\n",
       "  </thead>\n",
       "  <tbody>\n",
       "    <tr>\n",
       "      <th>0</th>\n",
       "      <td>0</td>\n",
       "      <td>Melody Gentry</td>\n",
       "      <td>39064009</td>\n",
       "      <td>84</td>\n",
       "      <td>30</td>\n",
       "      <td>0</td>\n",
       "      <td>4</td>\n",
       "      <td>6</td>\n",
       "      <td>3</td>\n",
       "      <td>3</td>\n",
       "      <td>7</td>\n",
       "      <td>6</td>\n",
       "      <td>51</td>\n",
       "      <td>74</td>\n",
       "      <td>37</td>\n",
       "      <td>advanced_backend</td>\n",
       "    </tr>\n",
       "    <tr>\n",
       "      <th>1</th>\n",
       "      <td>1</td>\n",
       "      <td>Lera Mitchel</td>\n",
       "      <td>26414743</td>\n",
       "      <td>42</td>\n",
       "      <td>74</td>\n",
       "      <td>13</td>\n",
       "      <td>3</td>\n",
       "      <td>6</td>\n",
       "      <td>4</td>\n",
       "      <td>2</td>\n",
       "      <td>7</td>\n",
       "      <td>5</td>\n",
       "      <td>82</td>\n",
       "      <td>59</td>\n",
       "      <td>50</td>\n",
       "      <td>beginner_front_end</td>\n",
       "    </tr>\n",
       "    <tr>\n",
       "      <th>2</th>\n",
       "      <td>2</td>\n",
       "      <td>Dianne Ransdell</td>\n",
       "      <td>40811094</td>\n",
       "      <td>18</td>\n",
       "      <td>76</td>\n",
       "      <td>38</td>\n",
       "      <td>5</td>\n",
       "      <td>2</td>\n",
       "      <td>8</td>\n",
       "      <td>8</td>\n",
       "      <td>3</td>\n",
       "      <td>8</td>\n",
       "      <td>77</td>\n",
       "      <td>53</td>\n",
       "      <td>50</td>\n",
       "      <td>advanced_backend</td>\n",
       "    </tr>\n",
       "    <tr>\n",
       "      <th>3</th>\n",
       "      <td>3</td>\n",
       "      <td>Michael Sellers</td>\n",
       "      <td>46199789</td>\n",
       "      <td>77</td>\n",
       "      <td>29</td>\n",
       "      <td>23</td>\n",
       "      <td>7</td>\n",
       "      <td>2</td>\n",
       "      <td>6</td>\n",
       "      <td>1</td>\n",
       "      <td>6</td>\n",
       "      <td>1</td>\n",
       "      <td>68</td>\n",
       "      <td>57</td>\n",
       "      <td>60</td>\n",
       "      <td>advanced_data_science</td>\n",
       "    </tr>\n",
       "    <tr>\n",
       "      <th>4</th>\n",
       "      <td>4</td>\n",
       "      <td>Evelyn Hilliard</td>\n",
       "      <td>95025845</td>\n",
       "      <td>35</td>\n",
       "      <td>14</td>\n",
       "      <td>39</td>\n",
       "      <td>0</td>\n",
       "      <td>5</td>\n",
       "      <td>3</td>\n",
       "      <td>2</td>\n",
       "      <td>8</td>\n",
       "      <td>3</td>\n",
       "      <td>63</td>\n",
       "      <td>82</td>\n",
       "      <td>91</td>\n",
       "      <td>beginner_data_science</td>\n",
       "    </tr>\n",
       "  </tbody>\n",
       "</table>\n",
       "</div>"
      ],
      "text/plain": [
       "   Unnamed: 0             NAME   USER_ID  HOURS_DATASCIENCE  HOURS_BACKEND  \\\n",
       "0           0    Melody Gentry  39064009                 84             30   \n",
       "1           1     Lera Mitchel  26414743                 42             74   \n",
       "2           2  Dianne Ransdell  40811094                 18             76   \n",
       "3           3  Michael Sellers  46199789                 77             29   \n",
       "4           4  Evelyn Hilliard  95025845                 35             14   \n",
       "\n",
       "   HOURS_FRONTEND  NUM_COURSES_BEGINNER_DATASCIENCE  \\\n",
       "0               0                                 4   \n",
       "1              13                                 3   \n",
       "2              38                                 5   \n",
       "3              23                                 7   \n",
       "4              39                                 0   \n",
       "\n",
       "   NUM_COURSES_BEGINNER_BACKEND  NUM_COURSES_BEGINNER_FRONTEND  \\\n",
       "0                             6                              3   \n",
       "1                             6                              4   \n",
       "2                             2                              8   \n",
       "3                             2                              6   \n",
       "4                             5                              3   \n",
       "\n",
       "   NUM_COURSES_ADVANCED_DATASCIENCE  NUM_COURSES_ADVANCED_BACKEND  \\\n",
       "0                                 3                             7   \n",
       "1                                 2                             7   \n",
       "2                                 8                             3   \n",
       "3                                 1                             6   \n",
       "4                                 2                             8   \n",
       "\n",
       "   NUM_COURSES_ADVANCED_FRONTEND  AVG_SCORE_DATASCIENCE  AVG_SCORE_BACKEND  \\\n",
       "0                              6                     51                 74   \n",
       "1                              5                     82                 59   \n",
       "2                              8                     77                 53   \n",
       "3                              1                     68                 57   \n",
       "4                              3                     63                 82   \n",
       "\n",
       "   AVG_SCORE_FRONTEND                PROFILE  \n",
       "0                  37       advanced_backend  \n",
       "1                  50     beginner_front_end  \n",
       "2                  50       advanced_backend  \n",
       "3                  60  advanced_data_science  \n",
       "4                  91  beginner_data_science  "
      ]
     },
     "execution_count": 54,
     "metadata": {},
     "output_type": "execute_result"
    }
   ],
   "source": [
    "studentsUnScoredData.head(5)"
   ]
  },
  {
   "attachments": {},
   "cell_type": "markdown",
   "id": "f6e2cfd7",
   "metadata": {
    "papermill": {
     "duration": 0.031366,
     "end_time": "2023-07-02T13:02:00.077147",
     "exception": false,
     "start_time": "2023-07-02T13:02:00.045781",
     "status": "completed"
    },
    "tags": []
   },
   "source": [
    "# Saving our new dataset into CSV files."
   ]
  },
  {
   "cell_type": "code",
   "execution_count": 55,
   "id": "1149c87e",
   "metadata": {
    "execution": {
     "iopub.execute_input": "2023-07-02T13:02:00.144946Z",
     "iopub.status.busy": "2023-07-02T13:02:00.144512Z",
     "iopub.status.idle": "2023-07-02T13:02:00.161823Z",
     "shell.execute_reply": "2023-07-02T13:02:00.160696Z"
    },
    "papermill": {
     "duration": 0.055454,
     "end_time": "2023-07-02T13:02:00.164623",
     "exception": false,
     "start_time": "2023-07-02T13:02:00.109169",
     "status": "completed"
    },
    "tags": []
   },
   "outputs": [],
   "source": [
    "studentsUnScoredData.to_csv('scored_tortuga.csv', index=False)"
   ]
  }
 ],
 "metadata": {
  "kernelspec": {
   "display_name": "Python 3",
   "language": "python",
   "name": "python3"
  },
  "language_info": {
   "codemirror_mode": {
    "name": "ipython",
    "version": 3
   },
   "file_extension": ".py",
   "mimetype": "text/x-python",
   "name": "python",
   "nbconvert_exporter": "python",
   "pygments_lexer": "ipython3",
   "version": "3.10.10"
  },
  "papermill": {
   "default_parameters": {},
   "duration": 103.509426,
   "end_time": "2023-07-02T13:02:01.321886",
   "environment_variables": {},
   "exception": null,
   "input_path": "__notebook__.ipynb",
   "output_path": "__notebook__.ipynb",
   "parameters": {},
   "start_time": "2023-07-02T13:00:17.812460",
   "version": "2.4.0"
  }
 },
 "nbformat": 4,
 "nbformat_minor": 5
}
